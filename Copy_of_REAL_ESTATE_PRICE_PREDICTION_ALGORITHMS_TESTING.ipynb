{
  "nbformat": 4,
  "nbformat_minor": 0,
  "metadata": {
    "colab": {
      "name": "Copy of REAL_ESTATE_PRICE_PREDICTION_ALGORITHMS_TESTING.ipynb",
      "private_outputs": true,
      "provenance": [],
      "collapsed_sections": [],
      "authorship_tag": "ABX9TyPf0kfL3oMoGpu3XP2+BRSk",
      "include_colab_link": true
    },
    "kernelspec": {
      "name": "python3",
      "display_name": "Python 3"
    },
    "language_info": {
      "name": "python"
    }
  },
  "cells": [
    {
      "cell_type": "markdown",
      "metadata": {
        "id": "view-in-github",
        "colab_type": "text"
      },
      "source": [
        "<a href=\"https://colab.research.google.com/github/soumo99/ML_codes/blob/main/Copy_of_REAL_ESTATE_PRICE_PREDICTION_ALGORITHMS_TESTING.ipynb\" target=\"_parent\"><img src=\"https://colab.research.google.com/assets/colab-badge.svg\" alt=\"Open In Colab\"/></a>"
      ]
    },
    {
      "cell_type": "code",
      "execution_count": null,
      "metadata": {
        "id": "5-bBOYU-idh8"
      },
      "outputs": [],
      "source": [
        "import numpy as np\n",
        "import matplotlib.pyplot as plt\n",
        "import pandas as pd "
      ]
    },
    {
      "cell_type": "code",
      "source": [
        "data = pd.read_csv('/content/kc_house_data.csv')"
      ],
      "metadata": {
        "id": "cDWfdbDAipjh"
      },
      "execution_count": null,
      "outputs": []
    },
    {
      "cell_type": "code",
      "source": [
        "data.head()"
      ],
      "metadata": {
        "id": "clxu9BW8iwSW"
      },
      "execution_count": null,
      "outputs": []
    },
    {
      "cell_type": "code",
      "source": [
        "data.tail()"
      ],
      "metadata": {
        "id": "5aPPaSxDix4z"
      },
      "execution_count": null,
      "outputs": []
    },
    {
      "cell_type": "code",
      "source": [
        "data.info"
      ],
      "metadata": {
        "id": "Wb2KQ0B6i0eE"
      },
      "execution_count": null,
      "outputs": []
    },
    {
      "cell_type": "code",
      "source": [
        "data.isnull().sum()"
      ],
      "metadata": {
        "id": "XabUIb_Di3t8"
      },
      "execution_count": null,
      "outputs": []
    },
    {
      "cell_type": "code",
      "source": [
        "data.drop(['id','date','sqft_lot','waterfront','view','yr_built','yr_renovated','zipcode','lat','long'],axis=1,inplace=True)"
      ],
      "metadata": {
        "id": "-AVKJKPri531"
      },
      "execution_count": null,
      "outputs": []
    },
    {
      "cell_type": "code",
      "source": [
        "data.head()"
      ],
      "metadata": {
        "id": "20GEgRMhi-NA"
      },
      "execution_count": null,
      "outputs": []
    },
    {
      "cell_type": "code",
      "source": [
        "import tensorflow as tf\n"
      ],
      "metadata": {
        "id": "mDJP_R5oi_wa"
      },
      "execution_count": null,
      "outputs": []
    },
    {
      "cell_type": "code",
      "source": [
        "bathrooms = data['bathrooms']"
      ],
      "metadata": {
        "id": "K2xi9PbOjHms"
      },
      "execution_count": null,
      "outputs": []
    },
    {
      "cell_type": "code",
      "source": [
        "bathrooms"
      ],
      "metadata": {
        "id": "iMi_aQE2jTYu"
      },
      "execution_count": null,
      "outputs": []
    },
    {
      "cell_type": "code",
      "source": [
        "bathrooms = tf.math.floor(bathrooms)"
      ],
      "metadata": {
        "id": "J4kZPWVejldv"
      },
      "execution_count": null,
      "outputs": []
    },
    {
      "cell_type": "code",
      "source": [
        "bathrooms"
      ],
      "metadata": {
        "id": "vF2089Uoj8OT"
      },
      "execution_count": null,
      "outputs": []
    },
    {
      "cell_type": "code",
      "source": [
        "data.dtypes"
      ],
      "metadata": {
        "id": "aoqo6smjneZZ"
      },
      "execution_count": null,
      "outputs": []
    },
    {
      "cell_type": "code",
      "source": [
        "data['price'] = data['price'].astype(int)\n",
        "data['bathrooms'] = data['bathrooms'].astype(int)\n",
        "data['floors'] = data['floors'].astype(int)"
      ],
      "metadata": {
        "id": "N3yIgEPsnkF2"
      },
      "execution_count": null,
      "outputs": []
    },
    {
      "cell_type": "code",
      "source": [
        "data.dtypes"
      ],
      "metadata": {
        "id": "RsqzbD_2oB3j"
      },
      "execution_count": null,
      "outputs": []
    },
    {
      "cell_type": "code",
      "source": [
        "data.head()"
      ],
      "metadata": {
        "id": "RViWxKgXodOZ"
      },
      "execution_count": null,
      "outputs": []
    },
    {
      "cell_type": "code",
      "source": [
        "#DIVIDING THE DATA BETWEEN THE INDEPENDENT AND DEPENDENT VARIABLES "
      ],
      "metadata": {
        "id": "QYkQBpqZpZjk"
      },
      "execution_count": null,
      "outputs": []
    },
    {
      "cell_type": "code",
      "source": [
        "X = data.iloc[:,1:11]\n",
        "Y = data.iloc[:,0]"
      ],
      "metadata": {
        "id": "nejSOo0Npfsi"
      },
      "execution_count": null,
      "outputs": []
    },
    {
      "cell_type": "code",
      "source": [
        "X"
      ],
      "metadata": {
        "id": "pmyDxPOzp3dG"
      },
      "execution_count": null,
      "outputs": []
    },
    {
      "cell_type": "code",
      "source": [
        "Y"
      ],
      "metadata": {
        "id": "ZtPGK9Qrp5-l"
      },
      "execution_count": null,
      "outputs": []
    },
    {
      "cell_type": "markdown",
      "source": [
        "LINEAR REGRESSION "
      ],
      "metadata": {
        "id": "_mV1ZhWWpMg7"
      }
    },
    {
      "cell_type": "code",
      "source": [
        "#DIVIDING INTO TRAIN TEST SPLIT \n",
        "from sklearn.model_selection import train_test_split\n"
      ],
      "metadata": {
        "id": "uog8tJurogaH"
      },
      "execution_count": null,
      "outputs": []
    },
    {
      "cell_type": "code",
      "source": [
        "X_train, X_test, y_train,y_test = train_test_split(X,Y,test_size=0.2,random_state=4)\n"
      ],
      "metadata": {
        "id": "6II7sWEEqHXC"
      },
      "execution_count": null,
      "outputs": []
    },
    {
      "cell_type": "code",
      "source": [
        "X_train"
      ],
      "metadata": {
        "id": "A4vD5p4UqJ-1"
      },
      "execution_count": null,
      "outputs": []
    },
    {
      "cell_type": "code",
      "source": [
        "X_test"
      ],
      "metadata": {
        "id": "2iMaofK_qNk3"
      },
      "execution_count": null,
      "outputs": []
    },
    {
      "cell_type": "code",
      "source": [
        "#LOADING THE MODEL\n",
        "from sklearn.linear_model import LinearRegression\n"
      ],
      "metadata": {
        "id": "25ph_7YPqPgB"
      },
      "execution_count": null,
      "outputs": []
    },
    {
      "cell_type": "code",
      "source": [
        "model = LinearRegression()"
      ],
      "metadata": {
        "id": "8ludM34VqVf-"
      },
      "execution_count": null,
      "outputs": []
    },
    {
      "cell_type": "code",
      "source": [
        "model.fit(X_train,y_train)"
      ],
      "metadata": {
        "id": "ra7jI_vGqd4Z"
      },
      "execution_count": null,
      "outputs": []
    },
    {
      "cell_type": "code",
      "source": [
        "predictions = model.predict(X_test)"
      ],
      "metadata": {
        "id": "ScPjqr-Bqidq"
      },
      "execution_count": null,
      "outputs": []
    },
    {
      "cell_type": "code",
      "source": [
        "predictions"
      ],
      "metadata": {
        "id": "S30TMgFKqrbO"
      },
      "execution_count": null,
      "outputs": []
    },
    {
      "cell_type": "code",
      "source": [
        "from sklearn.metrics import r2_score , mean_squared_error, mean_absolute_error"
      ],
      "metadata": {
        "id": "4ONsaQS3quTl"
      },
      "execution_count": null,
      "outputs": []
    },
    {
      "cell_type": "code",
      "source": [
        "mse = mean_squared_error(y_test,predictions)\n",
        "lr_score = r2_score(y_test, predictions)\n",
        "mae =  mean_absolute_error(y_test, predictions)\n",
        "rmse = mean_squared_error(y_test,predictions,squared=False)"
      ],
      "metadata": {
        "id": "gEkDxhufrDEq"
      },
      "execution_count": null,
      "outputs": []
    },
    {
      "cell_type": "code",
      "source": [
        "print(\"The mean squared error is :\",mse)\n",
        "print(\"The root mean squared error is :\",rmse)\n",
        "print(\"The mean absolute error is :\",mae)\n",
        "print(\"The r2_score is :\",lr_score)"
      ],
      "metadata": {
        "id": "rvVJGz79r5gL"
      },
      "execution_count": null,
      "outputs": []
    },
    {
      "cell_type": "markdown",
      "source": [
        "RANDOM FOREST REGRESSOR "
      ],
      "metadata": {
        "id": "8w5tm8lZzQyW"
      }
    },
    {
      "cell_type": "code",
      "source": [
        "from sklearn.model_selection import train_test_split\n",
        "X_train,X_test,y_train,y_test = train_test_split(X,Y,test_size=0.2,random_state=4)"
      ],
      "metadata": {
        "id": "Ts3wObeIsVMq"
      },
      "execution_count": null,
      "outputs": []
    },
    {
      "cell_type": "code",
      "source": [
        "from sklearn.ensemble import RandomForestRegressor\n"
      ],
      "metadata": {
        "id": "AUYBWnojzsi2"
      },
      "execution_count": null,
      "outputs": []
    },
    {
      "cell_type": "code",
      "source": [
        "rf = RandomForestRegressor(n_estimators = 1000, random_state = 42)\n"
      ],
      "metadata": {
        "id": "1zJjpfI7zuMB"
      },
      "execution_count": null,
      "outputs": []
    },
    {
      "cell_type": "code",
      "source": [
        "rf.fit(X_train,y_train)\n"
      ],
      "metadata": {
        "id": "cFLaDtpkzwoe"
      },
      "execution_count": null,
      "outputs": []
    },
    {
      "cell_type": "code",
      "source": [
        "y_predictions = rf.predict(X_test)\n"
      ],
      "metadata": {
        "id": "Piw3Bf2FzynW"
      },
      "execution_count": null,
      "outputs": []
    },
    {
      "cell_type": "code",
      "source": [
        "y_predictions"
      ],
      "metadata": {
        "id": "AJaGmJ8Q0NTj"
      },
      "execution_count": null,
      "outputs": []
    },
    {
      "cell_type": "code",
      "source": [
        "from sklearn.metrics import r2_score , mean_squared_error, mean_absolute_error"
      ],
      "metadata": {
        "id": "0UTSw7Et0QJg"
      },
      "execution_count": null,
      "outputs": []
    },
    {
      "cell_type": "code",
      "source": [
        "mse = mean_squared_error(y_test,y_predictions)\n",
        "rf_score = r2_score(y_test, y_predictions)\n",
        "mae =  mean_absolute_error(y_test, y_predictions)\n",
        "rmse = mean_squared_error(y_test,y_predictions,squared=False)"
      ],
      "metadata": {
        "id": "3ANPzzpo0Znf"
      },
      "execution_count": null,
      "outputs": []
    },
    {
      "cell_type": "code",
      "source": [
        "print(\"The mean squared error is :\",mse)\n",
        "print(\"The root mean squared error is :\",rmse)\n",
        "print(\"The mean absolute error is :\",mae)\n",
        "print(\"The r2_score is :\",rf_score)"
      ],
      "metadata": {
        "id": "pZ6M3iGx0cHl"
      },
      "execution_count": null,
      "outputs": []
    },
    {
      "cell_type": "markdown",
      "source": [
        "SUPPORT VECTOR REGRESSOR "
      ],
      "metadata": {
        "id": "3P1bjD_91Fi1"
      }
    },
    {
      "cell_type": "code",
      "source": [
        "from sklearn.preprocessing import StandardScaler\n"
      ],
      "metadata": {
        "id": "2UNMwtCl0eiV"
      },
      "execution_count": null,
      "outputs": []
    },
    {
      "cell_type": "code",
      "source": [
        "#Scaling down the values for better training the model\n",
        "from sklearn.preprocessing import StandardScaler \n",
        "sc_X = StandardScaler() \n",
        "sc_Y = StandardScaler() \n",
        "X = sc_X.fit_transform(X) \n",
        "Y = Y.values.reshape(-1,1)\n"
      ],
      "metadata": {
        "id": "AkCR8-fs1dxS"
      },
      "execution_count": null,
      "outputs": []
    },
    {
      "cell_type": "code",
      "source": [
        "X"
      ],
      "metadata": {
        "id": "nvcsAcB-G68X"
      },
      "execution_count": null,
      "outputs": []
    },
    {
      "cell_type": "code",
      "source": [
        "Y"
      ],
      "metadata": {
        "id": "HZO0yxyVG86a"
      },
      "execution_count": null,
      "outputs": []
    },
    {
      "cell_type": "code",
      "source": [
        "from sklearn.svm import SVR \n",
        "regressor = SVR(kernel = 'rbf') \n",
        "regressor.fit(X, Y)"
      ],
      "metadata": {
        "id": "4L9wFkqe1gN_"
      },
      "execution_count": null,
      "outputs": []
    },
    {
      "cell_type": "code",
      "source": [
        "predictions = regressor.predict(X)"
      ],
      "metadata": {
        "id": "RX1cPnoeGmnU"
      },
      "execution_count": null,
      "outputs": []
    },
    {
      "cell_type": "code",
      "source": [
        "predictions"
      ],
      "metadata": {
        "id": "3VkLFtoNGvdZ"
      },
      "execution_count": null,
      "outputs": []
    },
    {
      "cell_type": "code",
      "source": [
        "from sklearn.metrics import r2_score , mean_squared_error, mean_absolute_error"
      ],
      "metadata": {
        "id": "WFkmQwtJG_ZI"
      },
      "execution_count": null,
      "outputs": []
    },
    {
      "cell_type": "code",
      "source": [
        "mse = mean_squared_error(Y,predictions)\n",
        "svr_score = r2_score(Y, predictions)\n",
        "mae =  mean_absolute_error(Y, predictions)\n",
        "rmse = mean_squared_error(Y,predictions,squared=False)"
      ],
      "metadata": {
        "id": "FbLyZ57gHELY"
      },
      "execution_count": null,
      "outputs": []
    },
    {
      "cell_type": "code",
      "source": [
        "print(\"The mean squared error is :\",mse)\n",
        "print(\"The root mean squared error is :\",rmse)\n",
        "print(\"The mean absolute error is :\",mae)\n",
        "print(\"The r2_score is :\",svr_score)"
      ],
      "metadata": {
        "id": "SO9Sa2eGHGdE"
      },
      "execution_count": null,
      "outputs": []
    },
    {
      "cell_type": "markdown",
      "source": [
        "PLOTTING THE GRAPHS "
      ],
      "metadata": {
        "id": "RWiSWuxB577g"
      }
    },
    {
      "cell_type": "code",
      "source": [
        "#SCATTER PLOTS BETWEEN THE SQUARE FOOT LIVING AND PRICE \n",
        "X = data['sqft_living']\n",
        "Y = data['price']\n",
        "plt.xlabel(\"sqft_living\")\n",
        "plt.ylabel(\"price\")\n",
        "plt.scatter(X,Y,color='orange')\n",
        "plt.grid()\n",
        "plt.show()"
      ],
      "metadata": {
        "id": "X1xP3xIJ5Pma"
      },
      "execution_count": null,
      "outputs": []
    },
    {
      "cell_type": "code",
      "source": [
        "#SCATTER PLOT BETWEEN THE CONDITION AND GRADE OF THE BUILDINGS\n",
        "X = data['condition']\n",
        "Y = data['grade']\n",
        "plt.xlabel('CONDITION')\n",
        "plt.ylabel('GRADE')\n",
        "plt.scatter(X,Y,color='green')\n",
        "plt.grid()\n",
        "plt.show()"
      ],
      "metadata": {
        "id": "ehwBYt8m6Hgq"
      },
      "execution_count": null,
      "outputs": []
    },
    {
      "cell_type": "code",
      "source": [
        "#BAR GRAPH BETWEEN THE CONDITION AND GRADE OF THE BUILDING \n",
        "X = data['condition']\n",
        "Y = data['grade']\n",
        "plt.xlabel('CONDITION')\n",
        "plt.ylabel('GRADE')\n",
        "plt.bar(X,Y)\n",
        "plt.grid()\n",
        "plt.show()"
      ],
      "metadata": {
        "id": "ysyS8fQa7BQR"
      },
      "execution_count": null,
      "outputs": []
    },
    {
      "cell_type": "code",
      "source": [
        "#BAR GRAPH BETWEEN THE CONDITION AND THE PRICE OF THE BUILDING .\n",
        "X = data['condition']\n",
        "Y = data['price']\n",
        "plt.xlabel('CONDITION')\n",
        "plt.ylabel('PRICE')\n",
        "plt.bar(X,Y,color='red')\n",
        "plt.grid()\n",
        "plt.show()"
      ],
      "metadata": {
        "id": "vYE4rHam70b0"
      },
      "execution_count": null,
      "outputs": []
    },
    {
      "cell_type": "code",
      "source": [
        "#FINAL COMPARISON GRAPH OF THE 3 IMPLEMENTED ALGORITHMS \n",
        "algorithms=[\"LR\", \"RF\", \"SVR\"]\n",
        "Scores=[lr_score,rf_score,svr_score]\n",
        "plt.plot(algorithms,Scores , marker = 'o',color='orange')\n",
        "plt.grid()\n",
        "plt.title(\"R2 Value Display\")\n",
        "plt.xlabel(\"Algorithms\")\n",
        "plt.ylabel(\"R2-Scores\")\n",
        "plt.show()"
      ],
      "metadata": {
        "id": "J9M0Ttvj-xCH"
      },
      "execution_count": null,
      "outputs": []
    },
    {
      "cell_type": "code",
      "source": [
        ""
      ],
      "metadata": {
        "id": "nTGH3sN2_emw"
      },
      "execution_count": null,
      "outputs": []
    }
  ]
}