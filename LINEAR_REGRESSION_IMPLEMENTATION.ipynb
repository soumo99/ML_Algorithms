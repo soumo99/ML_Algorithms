{
 "cells": [
  {
   "cell_type": "markdown",
   "id": "8ef82c61",
   "metadata": {},
   "source": [
    "# LINEAR REGRESSION"
   ]
  },
  {
   "cell_type": "code",
   "execution_count": 1,
   "id": "5b6f10fb",
   "metadata": {},
   "outputs": [],
   "source": [
    "import numpy as np\n",
    "import matplotlib.pyplot as plt\n",
    "import pandas as pd\n"
   ]
  },
  {
   "cell_type": "code",
   "execution_count": 2,
   "id": "d6d7b5a7",
   "metadata": {},
   "outputs": [],
   "source": [
    "data  = pd.read_csv(\"/Users/soumobratamanna/Documents/Data_Science_Projects/tensorflow-test/Stores.csv\")"
   ]
  },
  {
   "cell_type": "code",
   "execution_count": 3,
   "id": "6791eb61",
   "metadata": {},
   "outputs": [
    {
     "data": {
      "text/html": [
       "<div>\n",
       "<style scoped>\n",
       "    .dataframe tbody tr th:only-of-type {\n",
       "        vertical-align: middle;\n",
       "    }\n",
       "\n",
       "    .dataframe tbody tr th {\n",
       "        vertical-align: top;\n",
       "    }\n",
       "\n",
       "    .dataframe thead th {\n",
       "        text-align: right;\n",
       "    }\n",
       "</style>\n",
       "<table border=\"1\" class=\"dataframe\">\n",
       "  <thead>\n",
       "    <tr style=\"text-align: right;\">\n",
       "      <th></th>\n",
       "      <th>Store ID</th>\n",
       "      <th>Store_Area</th>\n",
       "      <th>Items_Available</th>\n",
       "      <th>Daily_Customer_Count</th>\n",
       "      <th>Store_Sales</th>\n",
       "    </tr>\n",
       "  </thead>\n",
       "  <tbody>\n",
       "    <tr>\n",
       "      <th>0</th>\n",
       "      <td>1</td>\n",
       "      <td>1659</td>\n",
       "      <td>1961</td>\n",
       "      <td>530</td>\n",
       "      <td>66490</td>\n",
       "    </tr>\n",
       "    <tr>\n",
       "      <th>1</th>\n",
       "      <td>2</td>\n",
       "      <td>1461</td>\n",
       "      <td>1752</td>\n",
       "      <td>210</td>\n",
       "      <td>39820</td>\n",
       "    </tr>\n",
       "    <tr>\n",
       "      <th>2</th>\n",
       "      <td>3</td>\n",
       "      <td>1340</td>\n",
       "      <td>1609</td>\n",
       "      <td>720</td>\n",
       "      <td>54010</td>\n",
       "    </tr>\n",
       "    <tr>\n",
       "      <th>3</th>\n",
       "      <td>4</td>\n",
       "      <td>1451</td>\n",
       "      <td>1748</td>\n",
       "      <td>620</td>\n",
       "      <td>53730</td>\n",
       "    </tr>\n",
       "    <tr>\n",
       "      <th>4</th>\n",
       "      <td>5</td>\n",
       "      <td>1770</td>\n",
       "      <td>2111</td>\n",
       "      <td>450</td>\n",
       "      <td>46620</td>\n",
       "    </tr>\n",
       "    <tr>\n",
       "      <th>5</th>\n",
       "      <td>6</td>\n",
       "      <td>1442</td>\n",
       "      <td>1733</td>\n",
       "      <td>760</td>\n",
       "      <td>45260</td>\n",
       "    </tr>\n",
       "    <tr>\n",
       "      <th>6</th>\n",
       "      <td>7</td>\n",
       "      <td>1542</td>\n",
       "      <td>1858</td>\n",
       "      <td>1030</td>\n",
       "      <td>72240</td>\n",
       "    </tr>\n",
       "    <tr>\n",
       "      <th>7</th>\n",
       "      <td>8</td>\n",
       "      <td>1261</td>\n",
       "      <td>1507</td>\n",
       "      <td>1020</td>\n",
       "      <td>37720</td>\n",
       "    </tr>\n",
       "    <tr>\n",
       "      <th>8</th>\n",
       "      <td>9</td>\n",
       "      <td>1090</td>\n",
       "      <td>1321</td>\n",
       "      <td>680</td>\n",
       "      <td>46310</td>\n",
       "    </tr>\n",
       "    <tr>\n",
       "      <th>9</th>\n",
       "      <td>10</td>\n",
       "      <td>1030</td>\n",
       "      <td>1235</td>\n",
       "      <td>1130</td>\n",
       "      <td>44150</td>\n",
       "    </tr>\n",
       "  </tbody>\n",
       "</table>\n",
       "</div>"
      ],
      "text/plain": [
       "   Store ID   Store_Area  Items_Available  Daily_Customer_Count  Store_Sales\n",
       "0          1        1659             1961                   530        66490\n",
       "1          2        1461             1752                   210        39820\n",
       "2          3        1340             1609                   720        54010\n",
       "3          4        1451             1748                   620        53730\n",
       "4          5        1770             2111                   450        46620\n",
       "5          6        1442             1733                   760        45260\n",
       "6          7        1542             1858                  1030        72240\n",
       "7          8        1261             1507                  1020        37720\n",
       "8          9        1090             1321                   680        46310\n",
       "9         10        1030             1235                  1130        44150"
      ]
     },
     "execution_count": 3,
     "metadata": {},
     "output_type": "execute_result"
    }
   ],
   "source": [
    "data.head(10)"
   ]
  },
  {
   "cell_type": "code",
   "execution_count": 4,
   "id": "0b97384a",
   "metadata": {},
   "outputs": [
    {
     "data": {
      "text/html": [
       "<div>\n",
       "<style scoped>\n",
       "    .dataframe tbody tr th:only-of-type {\n",
       "        vertical-align: middle;\n",
       "    }\n",
       "\n",
       "    .dataframe tbody tr th {\n",
       "        vertical-align: top;\n",
       "    }\n",
       "\n",
       "    .dataframe thead th {\n",
       "        text-align: right;\n",
       "    }\n",
       "</style>\n",
       "<table border=\"1\" class=\"dataframe\">\n",
       "  <thead>\n",
       "    <tr style=\"text-align: right;\">\n",
       "      <th></th>\n",
       "      <th>Store ID</th>\n",
       "      <th>Store_Area</th>\n",
       "      <th>Items_Available</th>\n",
       "      <th>Daily_Customer_Count</th>\n",
       "      <th>Store_Sales</th>\n",
       "    </tr>\n",
       "  </thead>\n",
       "  <tbody>\n",
       "    <tr>\n",
       "      <th>886</th>\n",
       "      <td>887</td>\n",
       "      <td>1655</td>\n",
       "      <td>1986</td>\n",
       "      <td>1150</td>\n",
       "      <td>77430</td>\n",
       "    </tr>\n",
       "    <tr>\n",
       "      <th>887</th>\n",
       "      <td>888</td>\n",
       "      <td>1156</td>\n",
       "      <td>1398</td>\n",
       "      <td>140</td>\n",
       "      <td>92370</td>\n",
       "    </tr>\n",
       "    <tr>\n",
       "      <th>888</th>\n",
       "      <td>889</td>\n",
       "      <td>1451</td>\n",
       "      <td>1734</td>\n",
       "      <td>670</td>\n",
       "      <td>34880</td>\n",
       "    </tr>\n",
       "    <tr>\n",
       "      <th>889</th>\n",
       "      <td>890</td>\n",
       "      <td>1539</td>\n",
       "      <td>1829</td>\n",
       "      <td>650</td>\n",
       "      <td>46580</td>\n",
       "    </tr>\n",
       "    <tr>\n",
       "      <th>890</th>\n",
       "      <td>891</td>\n",
       "      <td>1549</td>\n",
       "      <td>1851</td>\n",
       "      <td>1220</td>\n",
       "      <td>70620</td>\n",
       "    </tr>\n",
       "    <tr>\n",
       "      <th>891</th>\n",
       "      <td>892</td>\n",
       "      <td>1582</td>\n",
       "      <td>1910</td>\n",
       "      <td>1080</td>\n",
       "      <td>66390</td>\n",
       "    </tr>\n",
       "    <tr>\n",
       "      <th>892</th>\n",
       "      <td>893</td>\n",
       "      <td>1387</td>\n",
       "      <td>1663</td>\n",
       "      <td>850</td>\n",
       "      <td>82080</td>\n",
       "    </tr>\n",
       "    <tr>\n",
       "      <th>893</th>\n",
       "      <td>894</td>\n",
       "      <td>1200</td>\n",
       "      <td>1436</td>\n",
       "      <td>1060</td>\n",
       "      <td>76440</td>\n",
       "    </tr>\n",
       "    <tr>\n",
       "      <th>894</th>\n",
       "      <td>895</td>\n",
       "      <td>1299</td>\n",
       "      <td>1560</td>\n",
       "      <td>770</td>\n",
       "      <td>96610</td>\n",
       "    </tr>\n",
       "    <tr>\n",
       "      <th>895</th>\n",
       "      <td>896</td>\n",
       "      <td>1174</td>\n",
       "      <td>1429</td>\n",
       "      <td>1110</td>\n",
       "      <td>54340</td>\n",
       "    </tr>\n",
       "  </tbody>\n",
       "</table>\n",
       "</div>"
      ],
      "text/plain": [
       "     Store ID   Store_Area  Items_Available  Daily_Customer_Count  Store_Sales\n",
       "886        887        1655             1986                  1150        77430\n",
       "887        888        1156             1398                   140        92370\n",
       "888        889        1451             1734                   670        34880\n",
       "889        890        1539             1829                   650        46580\n",
       "890        891        1549             1851                  1220        70620\n",
       "891        892        1582             1910                  1080        66390\n",
       "892        893        1387             1663                   850        82080\n",
       "893        894        1200             1436                  1060        76440\n",
       "894        895        1299             1560                   770        96610\n",
       "895        896        1174             1429                  1110        54340"
      ]
     },
     "execution_count": 4,
     "metadata": {},
     "output_type": "execute_result"
    }
   ],
   "source": [
    "data.tail(10)"
   ]
  },
  {
   "cell_type": "code",
   "execution_count": 5,
   "id": "a59ee1bb",
   "metadata": {},
   "outputs": [
    {
     "data": {
      "text/plain": [
       "(896, 5)"
      ]
     },
     "execution_count": 5,
     "metadata": {},
     "output_type": "execute_result"
    }
   ],
   "source": [
    "data.shape"
   ]
  },
  {
   "cell_type": "code",
   "execution_count": 6,
   "id": "ccd47061",
   "metadata": {},
   "outputs": [
    {
     "data": {
      "text/plain": [
       "<bound method DataFrame.info of      Store ID   Store_Area  Items_Available  Daily_Customer_Count  Store_Sales\n",
       "0            1        1659             1961                   530        66490\n",
       "1            2        1461             1752                   210        39820\n",
       "2            3        1340             1609                   720        54010\n",
       "3            4        1451             1748                   620        53730\n",
       "4            5        1770             2111                   450        46620\n",
       "..         ...         ...              ...                   ...          ...\n",
       "891        892        1582             1910                  1080        66390\n",
       "892        893        1387             1663                   850        82080\n",
       "893        894        1200             1436                  1060        76440\n",
       "894        895        1299             1560                   770        96610\n",
       "895        896        1174             1429                  1110        54340\n",
       "\n",
       "[896 rows x 5 columns]>"
      ]
     },
     "execution_count": 6,
     "metadata": {},
     "output_type": "execute_result"
    }
   ],
   "source": [
    "data.info"
   ]
  },
  {
   "cell_type": "code",
   "execution_count": 7,
   "id": "aec0ed95",
   "metadata": {},
   "outputs": [
    {
     "data": {
      "text/plain": [
       "Store ID                0\n",
       "Store_Area              0\n",
       "Items_Available         0\n",
       "Daily_Customer_Count    0\n",
       "Store_Sales             0\n",
       "dtype: int64"
      ]
     },
     "execution_count": 7,
     "metadata": {},
     "output_type": "execute_result"
    }
   ],
   "source": [
    "data.isnull().sum()"
   ]
  },
  {
   "cell_type": "code",
   "execution_count": 8,
   "id": "642e97b4",
   "metadata": {},
   "outputs": [],
   "source": [
    "#DIVIDING THE DATA BETWEEN INDEPENDENT AND DEPENDENT VARIABLES \n",
    "X = data.iloc[:,:-1]\n",
    "Y = data.iloc[:,-1]"
   ]
  },
  {
   "cell_type": "code",
   "execution_count": 9,
   "id": "613538c0",
   "metadata": {},
   "outputs": [
    {
     "data": {
      "text/html": [
       "<div>\n",
       "<style scoped>\n",
       "    .dataframe tbody tr th:only-of-type {\n",
       "        vertical-align: middle;\n",
       "    }\n",
       "\n",
       "    .dataframe tbody tr th {\n",
       "        vertical-align: top;\n",
       "    }\n",
       "\n",
       "    .dataframe thead th {\n",
       "        text-align: right;\n",
       "    }\n",
       "</style>\n",
       "<table border=\"1\" class=\"dataframe\">\n",
       "  <thead>\n",
       "    <tr style=\"text-align: right;\">\n",
       "      <th></th>\n",
       "      <th>Store ID</th>\n",
       "      <th>Store_Area</th>\n",
       "      <th>Items_Available</th>\n",
       "      <th>Daily_Customer_Count</th>\n",
       "    </tr>\n",
       "  </thead>\n",
       "  <tbody>\n",
       "    <tr>\n",
       "      <th>0</th>\n",
       "      <td>1</td>\n",
       "      <td>1659</td>\n",
       "      <td>1961</td>\n",
       "      <td>530</td>\n",
       "    </tr>\n",
       "    <tr>\n",
       "      <th>1</th>\n",
       "      <td>2</td>\n",
       "      <td>1461</td>\n",
       "      <td>1752</td>\n",
       "      <td>210</td>\n",
       "    </tr>\n",
       "    <tr>\n",
       "      <th>2</th>\n",
       "      <td>3</td>\n",
       "      <td>1340</td>\n",
       "      <td>1609</td>\n",
       "      <td>720</td>\n",
       "    </tr>\n",
       "    <tr>\n",
       "      <th>3</th>\n",
       "      <td>4</td>\n",
       "      <td>1451</td>\n",
       "      <td>1748</td>\n",
       "      <td>620</td>\n",
       "    </tr>\n",
       "    <tr>\n",
       "      <th>4</th>\n",
       "      <td>5</td>\n",
       "      <td>1770</td>\n",
       "      <td>2111</td>\n",
       "      <td>450</td>\n",
       "    </tr>\n",
       "    <tr>\n",
       "      <th>...</th>\n",
       "      <td>...</td>\n",
       "      <td>...</td>\n",
       "      <td>...</td>\n",
       "      <td>...</td>\n",
       "    </tr>\n",
       "    <tr>\n",
       "      <th>891</th>\n",
       "      <td>892</td>\n",
       "      <td>1582</td>\n",
       "      <td>1910</td>\n",
       "      <td>1080</td>\n",
       "    </tr>\n",
       "    <tr>\n",
       "      <th>892</th>\n",
       "      <td>893</td>\n",
       "      <td>1387</td>\n",
       "      <td>1663</td>\n",
       "      <td>850</td>\n",
       "    </tr>\n",
       "    <tr>\n",
       "      <th>893</th>\n",
       "      <td>894</td>\n",
       "      <td>1200</td>\n",
       "      <td>1436</td>\n",
       "      <td>1060</td>\n",
       "    </tr>\n",
       "    <tr>\n",
       "      <th>894</th>\n",
       "      <td>895</td>\n",
       "      <td>1299</td>\n",
       "      <td>1560</td>\n",
       "      <td>770</td>\n",
       "    </tr>\n",
       "    <tr>\n",
       "      <th>895</th>\n",
       "      <td>896</td>\n",
       "      <td>1174</td>\n",
       "      <td>1429</td>\n",
       "      <td>1110</td>\n",
       "    </tr>\n",
       "  </tbody>\n",
       "</table>\n",
       "<p>896 rows × 4 columns</p>\n",
       "</div>"
      ],
      "text/plain": [
       "     Store ID   Store_Area  Items_Available  Daily_Customer_Count\n",
       "0            1        1659             1961                   530\n",
       "1            2        1461             1752                   210\n",
       "2            3        1340             1609                   720\n",
       "3            4        1451             1748                   620\n",
       "4            5        1770             2111                   450\n",
       "..         ...         ...              ...                   ...\n",
       "891        892        1582             1910                  1080\n",
       "892        893        1387             1663                   850\n",
       "893        894        1200             1436                  1060\n",
       "894        895        1299             1560                   770\n",
       "895        896        1174             1429                  1110\n",
       "\n",
       "[896 rows x 4 columns]"
      ]
     },
     "execution_count": 9,
     "metadata": {},
     "output_type": "execute_result"
    }
   ],
   "source": [
    "X"
   ]
  },
  {
   "cell_type": "code",
   "execution_count": 10,
   "id": "0b87a211",
   "metadata": {},
   "outputs": [
    {
     "data": {
      "text/plain": [
       "0      66490\n",
       "1      39820\n",
       "2      54010\n",
       "3      53730\n",
       "4      46620\n",
       "       ...  \n",
       "891    66390\n",
       "892    82080\n",
       "893    76440\n",
       "894    96610\n",
       "895    54340\n",
       "Name: Store_Sales, Length: 896, dtype: int64"
      ]
     },
     "execution_count": 10,
     "metadata": {},
     "output_type": "execute_result"
    }
   ],
   "source": [
    "Y"
   ]
  },
  {
   "cell_type": "code",
   "execution_count": 11,
   "id": "475fbd91",
   "metadata": {},
   "outputs": [],
   "source": [
    "from sklearn.model_selection import train_test_split\n",
    "X_train,X_test ,Y_train,Y_test = train_test_split(X,Y,test_size=0.2,random_state=42)"
   ]
  },
  {
   "cell_type": "code",
   "execution_count": 18,
   "id": "4e82112a",
   "metadata": {},
   "outputs": [
    {
     "data": {
      "text/html": [
       "<div>\n",
       "<style scoped>\n",
       "    .dataframe tbody tr th:only-of-type {\n",
       "        vertical-align: middle;\n",
       "    }\n",
       "\n",
       "    .dataframe tbody tr th {\n",
       "        vertical-align: top;\n",
       "    }\n",
       "\n",
       "    .dataframe thead th {\n",
       "        text-align: right;\n",
       "    }\n",
       "</style>\n",
       "<table border=\"1\" class=\"dataframe\">\n",
       "  <thead>\n",
       "    <tr style=\"text-align: right;\">\n",
       "      <th></th>\n",
       "      <th>Store ID</th>\n",
       "      <th>Store_Area</th>\n",
       "      <th>Items_Available</th>\n",
       "      <th>Daily_Customer_Count</th>\n",
       "    </tr>\n",
       "  </thead>\n",
       "  <tbody>\n",
       "    <tr>\n",
       "      <th>736</th>\n",
       "      <td>737</td>\n",
       "      <td>1098</td>\n",
       "      <td>1309</td>\n",
       "      <td>860</td>\n",
       "    </tr>\n",
       "    <tr>\n",
       "      <th>382</th>\n",
       "      <td>383</td>\n",
       "      <td>1454</td>\n",
       "      <td>1737</td>\n",
       "      <td>870</td>\n",
       "    </tr>\n",
       "    <tr>\n",
       "      <th>706</th>\n",
       "      <td>707</td>\n",
       "      <td>1495</td>\n",
       "      <td>1793</td>\n",
       "      <td>1020</td>\n",
       "    </tr>\n",
       "    <tr>\n",
       "      <th>817</th>\n",
       "      <td>818</td>\n",
       "      <td>1608</td>\n",
       "      <td>1962</td>\n",
       "      <td>770</td>\n",
       "    </tr>\n",
       "    <tr>\n",
       "      <th>118</th>\n",
       "      <td>119</td>\n",
       "      <td>1500</td>\n",
       "      <td>1798</td>\n",
       "      <td>860</td>\n",
       "    </tr>\n",
       "    <tr>\n",
       "      <th>...</th>\n",
       "      <td>...</td>\n",
       "      <td>...</td>\n",
       "      <td>...</td>\n",
       "      <td>...</td>\n",
       "    </tr>\n",
       "    <tr>\n",
       "      <th>106</th>\n",
       "      <td>107</td>\n",
       "      <td>1692</td>\n",
       "      <td>2031</td>\n",
       "      <td>810</td>\n",
       "    </tr>\n",
       "    <tr>\n",
       "      <th>270</th>\n",
       "      <td>271</td>\n",
       "      <td>1189</td>\n",
       "      <td>1439</td>\n",
       "      <td>780</td>\n",
       "    </tr>\n",
       "    <tr>\n",
       "      <th>860</th>\n",
       "      <td>861</td>\n",
       "      <td>1249</td>\n",
       "      <td>1510</td>\n",
       "      <td>660</td>\n",
       "    </tr>\n",
       "    <tr>\n",
       "      <th>435</th>\n",
       "      <td>436</td>\n",
       "      <td>1536</td>\n",
       "      <td>1836</td>\n",
       "      <td>990</td>\n",
       "    </tr>\n",
       "    <tr>\n",
       "      <th>102</th>\n",
       "      <td>103</td>\n",
       "      <td>1262</td>\n",
       "      <td>1500</td>\n",
       "      <td>1170</td>\n",
       "    </tr>\n",
       "  </tbody>\n",
       "</table>\n",
       "<p>716 rows × 4 columns</p>\n",
       "</div>"
      ],
      "text/plain": [
       "     Store ID   Store_Area  Items_Available  Daily_Customer_Count\n",
       "736        737        1098             1309                   860\n",
       "382        383        1454             1737                   870\n",
       "706        707        1495             1793                  1020\n",
       "817        818        1608             1962                   770\n",
       "118        119        1500             1798                   860\n",
       "..         ...         ...              ...                   ...\n",
       "106        107        1692             2031                   810\n",
       "270        271        1189             1439                   780\n",
       "860        861        1249             1510                   660\n",
       "435        436        1536             1836                   990\n",
       "102        103        1262             1500                  1170\n",
       "\n",
       "[716 rows x 4 columns]"
      ]
     },
     "execution_count": 18,
     "metadata": {},
     "output_type": "execute_result"
    }
   ],
   "source": [
    "X_train"
   ]
  },
  {
   "cell_type": "code",
   "execution_count": 23,
   "id": "63e74992",
   "metadata": {},
   "outputs": [
    {
     "data": {
      "text/plain": [
       "(716, 4)"
      ]
     },
     "execution_count": 23,
     "metadata": {},
     "output_type": "execute_result"
    }
   ],
   "source": [
    "X_train.shape"
   ]
  },
  {
   "cell_type": "code",
   "execution_count": 24,
   "id": "d9262ba8",
   "metadata": {},
   "outputs": [
    {
     "data": {
      "text/plain": [
       "(716,)"
      ]
     },
     "execution_count": 24,
     "metadata": {},
     "output_type": "execute_result"
    }
   ],
   "source": [
    "Y_train.shape"
   ]
  },
  {
   "cell_type": "code",
   "execution_count": 19,
   "id": "f6b99bbf",
   "metadata": {},
   "outputs": [
    {
     "data": {
      "text/html": [
       "<div>\n",
       "<style scoped>\n",
       "    .dataframe tbody tr th:only-of-type {\n",
       "        vertical-align: middle;\n",
       "    }\n",
       "\n",
       "    .dataframe tbody tr th {\n",
       "        vertical-align: top;\n",
       "    }\n",
       "\n",
       "    .dataframe thead th {\n",
       "        text-align: right;\n",
       "    }\n",
       "</style>\n",
       "<table border=\"1\" class=\"dataframe\">\n",
       "  <thead>\n",
       "    <tr style=\"text-align: right;\">\n",
       "      <th></th>\n",
       "      <th>Store ID</th>\n",
       "      <th>Store_Area</th>\n",
       "      <th>Items_Available</th>\n",
       "      <th>Daily_Customer_Count</th>\n",
       "    </tr>\n",
       "  </thead>\n",
       "  <tbody>\n",
       "    <tr>\n",
       "      <th>711</th>\n",
       "      <td>712</td>\n",
       "      <td>1360</td>\n",
       "      <td>1612</td>\n",
       "      <td>490</td>\n",
       "    </tr>\n",
       "    <tr>\n",
       "      <th>440</th>\n",
       "      <td>441</td>\n",
       "      <td>1721</td>\n",
       "      <td>2076</td>\n",
       "      <td>710</td>\n",
       "    </tr>\n",
       "    <tr>\n",
       "      <th>525</th>\n",
       "      <td>526</td>\n",
       "      <td>1001</td>\n",
       "      <td>1194</td>\n",
       "      <td>1210</td>\n",
       "    </tr>\n",
       "    <tr>\n",
       "      <th>722</th>\n",
       "      <td>723</td>\n",
       "      <td>1799</td>\n",
       "      <td>2173</td>\n",
       "      <td>910</td>\n",
       "    </tr>\n",
       "    <tr>\n",
       "      <th>39</th>\n",
       "      <td>40</td>\n",
       "      <td>1270</td>\n",
       "      <td>1516</td>\n",
       "      <td>10</td>\n",
       "    </tr>\n",
       "    <tr>\n",
       "      <th>...</th>\n",
       "      <td>...</td>\n",
       "      <td>...</td>\n",
       "      <td>...</td>\n",
       "      <td>...</td>\n",
       "    </tr>\n",
       "    <tr>\n",
       "      <th>845</th>\n",
       "      <td>846</td>\n",
       "      <td>1419</td>\n",
       "      <td>1743</td>\n",
       "      <td>860</td>\n",
       "    </tr>\n",
       "    <tr>\n",
       "      <th>25</th>\n",
       "      <td>26</td>\n",
       "      <td>1732</td>\n",
       "      <td>2073</td>\n",
       "      <td>820</td>\n",
       "    </tr>\n",
       "    <tr>\n",
       "      <th>84</th>\n",
       "      <td>85</td>\n",
       "      <td>1287</td>\n",
       "      <td>1525</td>\n",
       "      <td>1200</td>\n",
       "    </tr>\n",
       "    <tr>\n",
       "      <th>10</th>\n",
       "      <td>11</td>\n",
       "      <td>1187</td>\n",
       "      <td>1439</td>\n",
       "      <td>1090</td>\n",
       "    </tr>\n",
       "    <tr>\n",
       "      <th>331</th>\n",
       "      <td>332</td>\n",
       "      <td>1633</td>\n",
       "      <td>1968</td>\n",
       "      <td>330</td>\n",
       "    </tr>\n",
       "  </tbody>\n",
       "</table>\n",
       "<p>180 rows × 4 columns</p>\n",
       "</div>"
      ],
      "text/plain": [
       "     Store ID   Store_Area  Items_Available  Daily_Customer_Count\n",
       "711        712        1360             1612                   490\n",
       "440        441        1721             2076                   710\n",
       "525        526        1001             1194                  1210\n",
       "722        723        1799             2173                   910\n",
       "39          40        1270             1516                    10\n",
       "..         ...         ...              ...                   ...\n",
       "845        846        1419             1743                   860\n",
       "25          26        1732             2073                   820\n",
       "84          85        1287             1525                  1200\n",
       "10          11        1187             1439                  1090\n",
       "331        332        1633             1968                   330\n",
       "\n",
       "[180 rows x 4 columns]"
      ]
     },
     "execution_count": 19,
     "metadata": {},
     "output_type": "execute_result"
    }
   ],
   "source": [
    "X_test"
   ]
  },
  {
   "cell_type": "code",
   "execution_count": 20,
   "id": "9f2cbe0e",
   "metadata": {},
   "outputs": [
    {
     "data": {
      "text/plain": [
       "736    59530\n",
       "382    23090\n",
       "706    65300\n",
       "817    36280\n",
       "118    56710\n",
       "       ...  \n",
       "106    69310\n",
       "270    26220\n",
       "860    48950\n",
       "435    52060\n",
       "102    89080\n",
       "Name: Store_Sales, Length: 716, dtype: int64"
      ]
     },
     "execution_count": 20,
     "metadata": {},
     "output_type": "execute_result"
    }
   ],
   "source": [
    "Y_train"
   ]
  },
  {
   "cell_type": "code",
   "execution_count": 12,
   "id": "317e6d60",
   "metadata": {},
   "outputs": [],
   "source": [
    "#LOADING THE MODEL \n",
    "from sklearn.linear_model import LinearRegression"
   ]
  },
  {
   "cell_type": "code",
   "execution_count": 13,
   "id": "41543396",
   "metadata": {},
   "outputs": [],
   "source": [
    "model = LinearRegression()\n",
    "model.fit(X_train,Y_train)\n",
    "predictions = model.predict(X_test)"
   ]
  },
  {
   "cell_type": "code",
   "execution_count": 14,
   "id": "10f558b9",
   "metadata": {},
   "outputs": [],
   "source": [
    "from sklearn.metrics import r2_score, mean_squared_error , mean_absolute_error\n",
    "r2 = r2_score(Y_test,predictions)\n",
    "mse = mean_squared_error(Y_test,predictions)\n",
    "mae = mean_absolute_error(Y_test,predictions)"
   ]
  },
  {
   "cell_type": "code",
   "execution_count": 15,
   "id": "319dda2d",
   "metadata": {},
   "outputs": [
    {
     "name": "stdout",
     "output_type": "stream",
     "text": [
      "The r2 score of the model is : 0.0013749749685966206\n"
     ]
    }
   ],
   "source": [
    "print(\"The r2 score of the model is :\",r2)"
   ]
  },
  {
   "cell_type": "code",
   "execution_count": 16,
   "id": "ca6812da",
   "metadata": {},
   "outputs": [
    {
     "name": "stdout",
     "output_type": "stream",
     "text": [
      "The mse of the model is : 271673841.05819905\n"
     ]
    }
   ],
   "source": [
    "print(\"The mse of the model is :\",mse)"
   ]
  },
  {
   "cell_type": "code",
   "execution_count": 17,
   "id": "21876e09",
   "metadata": {},
   "outputs": [
    {
     "name": "stdout",
     "output_type": "stream",
     "text": [
      "The mae of the model is :  13387.258248567736\n"
     ]
    }
   ],
   "source": [
    "print(\"The mae of the model is : \",mae)"
   ]
  },
  {
   "cell_type": "code",
   "execution_count": 33,
   "id": "85199141",
   "metadata": {},
   "outputs": [
    {
     "data": {
      "image/png": "[encoded data removed]",
      "text/plain": [
       "<Figure size 432x288 with 1 Axes>"
      ]
     },
     "metadata": {
      "needs_background": "light"
     },
     "output_type": "display_data"
    }
   ],
   "source": [
    "X = data['Daily_Customer_Count']\n",
    "Y = data['Store_Sales']\n",
    "plt.xlabel('Daily_Customer_Count')\n",
    "plt.ylabel('Store_Sales')\n",
    "plt.scatter(X,Y)\n",
    "plt.grid()\n",
    "plt.show()"
   ]
  },
  {
   "cell_type": "code",
   "execution_count": null,
   "id": "3c873c81",
   "metadata": {},
   "outputs": [],
   "source": []
  }
 ],
 "metadata": {
  "kernelspec": {
   "display_name": "Python 3 (ipykernel)",
   "language": "python",
   "name": "python3"
  },
  "language_info": {
   "codemirror_mode": {
    "name": "ipython",
    "version": 3
   },
   "file_extension": ".py",
   "mimetype": "text/x-python",
   "name": "python",
   "nbconvert_exporter": "python",
   "pygments_lexer": "ipython3",
   "version": "3.8.13"
  }
 },
 "nbformat": 4,
 "nbformat_minor": 5
}
