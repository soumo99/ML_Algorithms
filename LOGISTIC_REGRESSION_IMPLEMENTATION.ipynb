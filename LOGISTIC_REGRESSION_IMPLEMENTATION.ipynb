{
 "cells": [
  {
   "cell_type": "markdown",
   "id": "928d77e5",
   "metadata": {},
   "source": [
    "# Q2 - Logistic Regression "
   ]
  },
  {
   "cell_type": "code",
   "execution_count": 1,
   "id": "7b160c48",
   "metadata": {},
   "outputs": [],
   "source": [
    "import numpy as np\n",
    "import pandas as pd\n",
    "import matplotlib.pyplot as plt\n",
    "import seaborn as sns\n",
    "\n",
    "%matplotlib inline"
   ]
  },
  {
   "cell_type": "code",
   "execution_count": 2,
   "id": "b617f0e4",
   "metadata": {},
   "outputs": [],
   "source": [
    "df = pd.read_csv('/Users/soumobratamanna/Documents/Data_Science_Projects/tensorflow-test/drug200.csv')"
   ]
  },
  {
   "cell_type": "code",
   "execution_count": 3,
   "id": "5cb779a6",
   "metadata": {},
   "outputs": [
    {
     "data": {
      "text/html": [
       "<div>\n",
       "<style scoped>\n",
       "    .dataframe tbody tr th:only-of-type {\n",
       "        vertical-align: middle;\n",
       "    }\n",
       "\n",
       "    .dataframe tbody tr th {\n",
       "        vertical-align: top;\n",
       "    }\n",
       "\n",
       "    .dataframe thead th {\n",
       "        text-align: right;\n",
       "    }\n",
       "</style>\n",
       "<table border=\"1\" class=\"dataframe\">\n",
       "  <thead>\n",
       "    <tr style=\"text-align: right;\">\n",
       "      <th></th>\n",
       "      <th>Age</th>\n",
       "      <th>Sex</th>\n",
       "      <th>BP</th>\n",
       "      <th>Cholesterol</th>\n",
       "      <th>Na_to_K</th>\n",
       "      <th>Drug</th>\n",
       "    </tr>\n",
       "  </thead>\n",
       "  <tbody>\n",
       "    <tr>\n",
       "      <th>0</th>\n",
       "      <td>23</td>\n",
       "      <td>F</td>\n",
       "      <td>HIGH</td>\n",
       "      <td>HIGH</td>\n",
       "      <td>25.355</td>\n",
       "      <td>drugY</td>\n",
       "    </tr>\n",
       "    <tr>\n",
       "      <th>1</th>\n",
       "      <td>47</td>\n",
       "      <td>M</td>\n",
       "      <td>LOW</td>\n",
       "      <td>HIGH</td>\n",
       "      <td>13.093</td>\n",
       "      <td>drugC</td>\n",
       "    </tr>\n",
       "    <tr>\n",
       "      <th>2</th>\n",
       "      <td>47</td>\n",
       "      <td>M</td>\n",
       "      <td>LOW</td>\n",
       "      <td>HIGH</td>\n",
       "      <td>10.114</td>\n",
       "      <td>drugC</td>\n",
       "    </tr>\n",
       "    <tr>\n",
       "      <th>3</th>\n",
       "      <td>28</td>\n",
       "      <td>F</td>\n",
       "      <td>NORMAL</td>\n",
       "      <td>HIGH</td>\n",
       "      <td>7.798</td>\n",
       "      <td>drugX</td>\n",
       "    </tr>\n",
       "    <tr>\n",
       "      <th>4</th>\n",
       "      <td>61</td>\n",
       "      <td>F</td>\n",
       "      <td>LOW</td>\n",
       "      <td>HIGH</td>\n",
       "      <td>18.043</td>\n",
       "      <td>drugY</td>\n",
       "    </tr>\n",
       "  </tbody>\n",
       "</table>\n",
       "</div>"
      ],
      "text/plain": [
       "   Age Sex      BP Cholesterol  Na_to_K   Drug\n",
       "0   23   F    HIGH        HIGH   25.355  drugY\n",
       "1   47   M     LOW        HIGH   13.093  drugC\n",
       "2   47   M     LOW        HIGH   10.114  drugC\n",
       "3   28   F  NORMAL        HIGH    7.798  drugX\n",
       "4   61   F     LOW        HIGH   18.043  drugY"
      ]
     },
     "execution_count": 3,
     "metadata": {},
     "output_type": "execute_result"
    }
   ],
   "source": [
    "df.head()"
   ]
  },
  {
   "cell_type": "code",
   "execution_count": 4,
   "id": "d2c0f86c",
   "metadata": {},
   "outputs": [
    {
     "data": {
      "text/html": [
       "<div>\n",
       "<style scoped>\n",
       "    .dataframe tbody tr th:only-of-type {\n",
       "        vertical-align: middle;\n",
       "    }\n",
       "\n",
       "    .dataframe tbody tr th {\n",
       "        vertical-align: top;\n",
       "    }\n",
       "\n",
       "    .dataframe thead th {\n",
       "        text-align: right;\n",
       "    }\n",
       "</style>\n",
       "<table border=\"1\" class=\"dataframe\">\n",
       "  <thead>\n",
       "    <tr style=\"text-align: right;\">\n",
       "      <th></th>\n",
       "      <th>Age</th>\n",
       "      <th>Sex</th>\n",
       "      <th>BP</th>\n",
       "      <th>Cholesterol</th>\n",
       "      <th>Na_to_K</th>\n",
       "      <th>Drug</th>\n",
       "    </tr>\n",
       "  </thead>\n",
       "  <tbody>\n",
       "    <tr>\n",
       "      <th>195</th>\n",
       "      <td>56</td>\n",
       "      <td>F</td>\n",
       "      <td>LOW</td>\n",
       "      <td>HIGH</td>\n",
       "      <td>11.567</td>\n",
       "      <td>drugC</td>\n",
       "    </tr>\n",
       "    <tr>\n",
       "      <th>196</th>\n",
       "      <td>16</td>\n",
       "      <td>M</td>\n",
       "      <td>LOW</td>\n",
       "      <td>HIGH</td>\n",
       "      <td>12.006</td>\n",
       "      <td>drugC</td>\n",
       "    </tr>\n",
       "    <tr>\n",
       "      <th>197</th>\n",
       "      <td>52</td>\n",
       "      <td>M</td>\n",
       "      <td>NORMAL</td>\n",
       "      <td>HIGH</td>\n",
       "      <td>9.894</td>\n",
       "      <td>drugX</td>\n",
       "    </tr>\n",
       "    <tr>\n",
       "      <th>198</th>\n",
       "      <td>23</td>\n",
       "      <td>M</td>\n",
       "      <td>NORMAL</td>\n",
       "      <td>NORMAL</td>\n",
       "      <td>14.020</td>\n",
       "      <td>drugX</td>\n",
       "    </tr>\n",
       "    <tr>\n",
       "      <th>199</th>\n",
       "      <td>40</td>\n",
       "      <td>F</td>\n",
       "      <td>LOW</td>\n",
       "      <td>NORMAL</td>\n",
       "      <td>11.349</td>\n",
       "      <td>drugX</td>\n",
       "    </tr>\n",
       "  </tbody>\n",
       "</table>\n",
       "</div>"
      ],
      "text/plain": [
       "     Age Sex      BP Cholesterol  Na_to_K   Drug\n",
       "195   56   F     LOW        HIGH   11.567  drugC\n",
       "196   16   M     LOW        HIGH   12.006  drugC\n",
       "197   52   M  NORMAL        HIGH    9.894  drugX\n",
       "198   23   M  NORMAL      NORMAL   14.020  drugX\n",
       "199   40   F     LOW      NORMAL   11.349  drugX"
      ]
     },
     "execution_count": 4,
     "metadata": {},
     "output_type": "execute_result"
    }
   ],
   "source": [
    "df.tail()"
   ]
  },
  {
   "cell_type": "code",
   "execution_count": 5,
   "id": "c9ba5a19",
   "metadata": {},
   "outputs": [
    {
     "name": "stdout",
     "output_type": "stream",
     "text": [
      "<class 'pandas.core.frame.DataFrame'>\n",
      "RangeIndex: 200 entries, 0 to 199\n",
      "Data columns (total 6 columns):\n",
      " #   Column       Non-Null Count  Dtype  \n",
      "---  ------       --------------  -----  \n",
      " 0   Age          200 non-null    int64  \n",
      " 1   Sex          200 non-null    object \n",
      " 2   BP           200 non-null    object \n",
      " 3   Cholesterol  200 non-null    object \n",
      " 4   Na_to_K      200 non-null    float64\n",
      " 5   Drug         200 non-null    object \n",
      "dtypes: float64(1), int64(1), object(4)\n",
      "memory usage: 9.5+ KB\n"
     ]
    }
   ],
   "source": [
    "df.info()"
   ]
  },
  {
   "cell_type": "code",
   "execution_count": 6,
   "id": "a0fca1fc",
   "metadata": {
    "scrolled": true
   },
   "outputs": [
    {
     "data": {
      "text/html": [
       "<div>\n",
       "<style scoped>\n",
       "    .dataframe tbody tr th:only-of-type {\n",
       "        vertical-align: middle;\n",
       "    }\n",
       "\n",
       "    .dataframe tbody tr th {\n",
       "        vertical-align: top;\n",
       "    }\n",
       "\n",
       "    .dataframe thead th {\n",
       "        text-align: right;\n",
       "    }\n",
       "</style>\n",
       "<table border=\"1\" class=\"dataframe\">\n",
       "  <thead>\n",
       "    <tr style=\"text-align: right;\">\n",
       "      <th></th>\n",
       "      <th>Age</th>\n",
       "      <th>Na_to_K</th>\n",
       "    </tr>\n",
       "  </thead>\n",
       "  <tbody>\n",
       "    <tr>\n",
       "      <th>count</th>\n",
       "      <td>200.000000</td>\n",
       "      <td>200.000000</td>\n",
       "    </tr>\n",
       "    <tr>\n",
       "      <th>mean</th>\n",
       "      <td>44.315000</td>\n",
       "      <td>16.084485</td>\n",
       "    </tr>\n",
       "    <tr>\n",
       "      <th>std</th>\n",
       "      <td>16.544315</td>\n",
       "      <td>7.223956</td>\n",
       "    </tr>\n",
       "    <tr>\n",
       "      <th>min</th>\n",
       "      <td>15.000000</td>\n",
       "      <td>6.269000</td>\n",
       "    </tr>\n",
       "    <tr>\n",
       "      <th>25%</th>\n",
       "      <td>31.000000</td>\n",
       "      <td>10.445500</td>\n",
       "    </tr>\n",
       "    <tr>\n",
       "      <th>50%</th>\n",
       "      <td>45.000000</td>\n",
       "      <td>13.936500</td>\n",
       "    </tr>\n",
       "    <tr>\n",
       "      <th>75%</th>\n",
       "      <td>58.000000</td>\n",
       "      <td>19.380000</td>\n",
       "    </tr>\n",
       "    <tr>\n",
       "      <th>max</th>\n",
       "      <td>74.000000</td>\n",
       "      <td>38.247000</td>\n",
       "    </tr>\n",
       "  </tbody>\n",
       "</table>\n",
       "</div>"
      ],
      "text/plain": [
       "              Age     Na_to_K\n",
       "count  200.000000  200.000000\n",
       "mean    44.315000   16.084485\n",
       "std     16.544315    7.223956\n",
       "min     15.000000    6.269000\n",
       "25%     31.000000   10.445500\n",
       "50%     45.000000   13.936500\n",
       "75%     58.000000   19.380000\n",
       "max     74.000000   38.247000"
      ]
     },
     "execution_count": 6,
     "metadata": {},
     "output_type": "execute_result"
    }
   ],
   "source": [
    "df.describe()"
   ]
  },
  {
   "cell_type": "code",
   "execution_count": 7,
   "id": "5daf97cd",
   "metadata": {},
   "outputs": [
    {
     "data": {
      "text/plain": [
       "array(['F', 'M'], dtype=object)"
      ]
     },
     "execution_count": 7,
     "metadata": {},
     "output_type": "execute_result"
    }
   ],
   "source": [
    "df['Sex'].unique()\n"
   ]
  },
  {
   "cell_type": "code",
   "execution_count": 8,
   "id": "8d304084",
   "metadata": {},
   "outputs": [],
   "source": [
    "#Encoding\n",
    "df['Sex'] = df['Sex'].map({'F':0,'M':1})"
   ]
  },
  {
   "cell_type": "code",
   "execution_count": 9,
   "id": "8b2ee4b0",
   "metadata": {},
   "outputs": [
    {
     "data": {
      "text/plain": [
       "array(['HIGH', 'LOW', 'NORMAL'], dtype=object)"
      ]
     },
     "execution_count": 9,
     "metadata": {},
     "output_type": "execute_result"
    }
   ],
   "source": [
    "df['BP'].unique()"
   ]
  },
  {
   "cell_type": "code",
   "execution_count": 10,
   "id": "3ac53626",
   "metadata": {},
   "outputs": [],
   "source": [
    "#Encoding\n",
    "df['BP'] = df['BP'].map({'HIGH':0,'LOW':1,'NORMAL':2})"
   ]
  },
  {
   "cell_type": "code",
   "execution_count": 11,
   "id": "38ee8a66",
   "metadata": {},
   "outputs": [
    {
     "data": {
      "text/plain": [
       "array(['drugY', 'drugC', 'drugX', 'drugA', 'drugB'], dtype=object)"
      ]
     },
     "execution_count": 11,
     "metadata": {},
     "output_type": "execute_result"
    }
   ],
   "source": [
    "df['Drug'].unique()"
   ]
  },
  {
   "cell_type": "code",
   "execution_count": 12,
   "id": "54431ff8",
   "metadata": {},
   "outputs": [],
   "source": [
    "#Encoding\n",
    "df['Drug'] = df['Drug'].map({'drugY':0,'drugC':1,'drugX':2,'drugA':3,'drugB':4})"
   ]
  },
  {
   "cell_type": "code",
   "execution_count": 13,
   "id": "4dc17390",
   "metadata": {},
   "outputs": [
    {
     "data": {
      "text/plain": [
       "array(['HIGH', 'NORMAL'], dtype=object)"
      ]
     },
     "execution_count": 13,
     "metadata": {},
     "output_type": "execute_result"
    }
   ],
   "source": [
    "df['Cholesterol'].unique()"
   ]
  },
  {
   "cell_type": "code",
   "execution_count": 14,
   "id": "4d0d612d",
   "metadata": {},
   "outputs": [],
   "source": [
    "#Encoding\n",
    "df['Cholesterol'] = df['Cholesterol'].map({'HIGH':0,'NORMAL':1})"
   ]
  },
  {
   "cell_type": "code",
   "execution_count": 15,
   "id": "e889c788",
   "metadata": {},
   "outputs": [
    {
     "data": {
      "text/html": [
       "<div>\n",
       "<style scoped>\n",
       "    .dataframe tbody tr th:only-of-type {\n",
       "        vertical-align: middle;\n",
       "    }\n",
       "\n",
       "    .dataframe tbody tr th {\n",
       "        vertical-align: top;\n",
       "    }\n",
       "\n",
       "    .dataframe thead th {\n",
       "        text-align: right;\n",
       "    }\n",
       "</style>\n",
       "<table border=\"1\" class=\"dataframe\">\n",
       "  <thead>\n",
       "    <tr style=\"text-align: right;\">\n",
       "      <th></th>\n",
       "      <th>Age</th>\n",
       "      <th>Sex</th>\n",
       "      <th>BP</th>\n",
       "      <th>Cholesterol</th>\n",
       "      <th>Na_to_K</th>\n",
       "      <th>Drug</th>\n",
       "    </tr>\n",
       "  </thead>\n",
       "  <tbody>\n",
       "    <tr>\n",
       "      <th>0</th>\n",
       "      <td>23</td>\n",
       "      <td>0</td>\n",
       "      <td>0</td>\n",
       "      <td>0</td>\n",
       "      <td>25.355</td>\n",
       "      <td>0</td>\n",
       "    </tr>\n",
       "    <tr>\n",
       "      <th>1</th>\n",
       "      <td>47</td>\n",
       "      <td>1</td>\n",
       "      <td>1</td>\n",
       "      <td>0</td>\n",
       "      <td>13.093</td>\n",
       "      <td>1</td>\n",
       "    </tr>\n",
       "    <tr>\n",
       "      <th>2</th>\n",
       "      <td>47</td>\n",
       "      <td>1</td>\n",
       "      <td>1</td>\n",
       "      <td>0</td>\n",
       "      <td>10.114</td>\n",
       "      <td>1</td>\n",
       "    </tr>\n",
       "    <tr>\n",
       "      <th>3</th>\n",
       "      <td>28</td>\n",
       "      <td>0</td>\n",
       "      <td>2</td>\n",
       "      <td>0</td>\n",
       "      <td>7.798</td>\n",
       "      <td>2</td>\n",
       "    </tr>\n",
       "    <tr>\n",
       "      <th>4</th>\n",
       "      <td>61</td>\n",
       "      <td>0</td>\n",
       "      <td>1</td>\n",
       "      <td>0</td>\n",
       "      <td>18.043</td>\n",
       "      <td>0</td>\n",
       "    </tr>\n",
       "    <tr>\n",
       "      <th>5</th>\n",
       "      <td>22</td>\n",
       "      <td>0</td>\n",
       "      <td>2</td>\n",
       "      <td>0</td>\n",
       "      <td>8.607</td>\n",
       "      <td>2</td>\n",
       "    </tr>\n",
       "    <tr>\n",
       "      <th>6</th>\n",
       "      <td>49</td>\n",
       "      <td>0</td>\n",
       "      <td>2</td>\n",
       "      <td>0</td>\n",
       "      <td>16.275</td>\n",
       "      <td>0</td>\n",
       "    </tr>\n",
       "    <tr>\n",
       "      <th>7</th>\n",
       "      <td>41</td>\n",
       "      <td>1</td>\n",
       "      <td>1</td>\n",
       "      <td>0</td>\n",
       "      <td>11.037</td>\n",
       "      <td>1</td>\n",
       "    </tr>\n",
       "    <tr>\n",
       "      <th>8</th>\n",
       "      <td>60</td>\n",
       "      <td>1</td>\n",
       "      <td>2</td>\n",
       "      <td>0</td>\n",
       "      <td>15.171</td>\n",
       "      <td>0</td>\n",
       "    </tr>\n",
       "    <tr>\n",
       "      <th>9</th>\n",
       "      <td>43</td>\n",
       "      <td>1</td>\n",
       "      <td>1</td>\n",
       "      <td>1</td>\n",
       "      <td>19.368</td>\n",
       "      <td>0</td>\n",
       "    </tr>\n",
       "  </tbody>\n",
       "</table>\n",
       "</div>"
      ],
      "text/plain": [
       "   Age  Sex  BP  Cholesterol  Na_to_K  Drug\n",
       "0   23    0   0            0   25.355     0\n",
       "1   47    1   1            0   13.093     1\n",
       "2   47    1   1            0   10.114     1\n",
       "3   28    0   2            0    7.798     2\n",
       "4   61    0   1            0   18.043     0\n",
       "5   22    0   2            0    8.607     2\n",
       "6   49    0   2            0   16.275     0\n",
       "7   41    1   1            0   11.037     1\n",
       "8   60    1   2            0   15.171     0\n",
       "9   43    1   1            1   19.368     0"
      ]
     },
     "execution_count": 15,
     "metadata": {},
     "output_type": "execute_result"
    }
   ],
   "source": [
    "df.head(10)"
   ]
  },
  {
   "cell_type": "code",
   "execution_count": 17,
   "id": "3a34faff",
   "metadata": {},
   "outputs": [
    {
     "data": {
      "text/plain": [
       "<seaborn.axisgrid.JointGrid at 0x166d9c1f0>"
      ]
     },
     "execution_count": 17,
     "metadata": {},
     "output_type": "execute_result"
    },
    {
     "data": {
      "image/png": "[encoded data removed]",
      "text/plain": [
       "<Figure size 432x432 with 3 Axes>"
      ]
     },
     "metadata": {
      "needs_background": "light"
     },
     "output_type": "display_data"
    }
   ],
   "source": [
    "sns.jointplot(x='Age',y='Drug',kind = 'hex',color = 'orange',data = df)"
   ]
  },
  {
   "cell_type": "code",
   "execution_count": 32,
   "id": "488481cb",
   "metadata": {},
   "outputs": [
    {
     "data": {
      "text/plain": [
       "<AxesSubplot:>"
      ]
     },
     "execution_count": 32,
     "metadata": {},
     "output_type": "execute_result"
    },
    {
     "data": {
      "image/png": "[encoded data removed]",
      "text/plain": [
       "<Figure size 1080x576 with 2 Axes>"
      ]
     },
     "metadata": {
      "needs_background": "light"
     },
     "output_type": "display_data"
    }
   ],
   "source": [
    "ax= plt.figure(figsize=(15,8))\n",
    "sns.heatmap(df.corr(),linewidths=1,linecolor='white',annot=True)"
   ]
  },
  {
   "cell_type": "code",
   "execution_count": 18,
   "id": "3100ef14",
   "metadata": {},
   "outputs": [],
   "source": [
    "#Dividing the data between independent and dependent variables \n",
    "X = df.drop(['Drug'],axis=1).values\n",
    "Y = df['Drug']\n"
   ]
  },
  {
   "cell_type": "code",
   "execution_count": 19,
   "id": "cace18f5",
   "metadata": {},
   "outputs": [
    {
     "data": {
      "text/plain": [
       "array([[23.   ,  0.   ,  0.   ,  0.   , 25.355],\n",
       "       [47.   ,  1.   ,  1.   ,  0.   , 13.093],\n",
       "       [47.   ,  1.   ,  1.   ,  0.   , 10.114],\n",
       "       [28.   ,  0.   ,  2.   ,  0.   ,  7.798],\n",
       "       [61.   ,  0.   ,  1.   ,  0.   , 18.043],\n",
       "       [22.   ,  0.   ,  2.   ,  0.   ,  8.607],\n",
       "       [49.   ,  0.   ,  2.   ,  0.   , 16.275],\n",
       "       [41.   ,  1.   ,  1.   ,  0.   , 11.037],\n",
       "       [60.   ,  1.   ,  2.   ,  0.   , 15.171],\n",
       "       [43.   ,  1.   ,  1.   ,  1.   , 19.368],\n",
       "       [47.   ,  0.   ,  1.   ,  0.   , 11.767],\n",
       "       [34.   ,  0.   ,  0.   ,  1.   , 19.199],\n",
       "       [43.   ,  1.   ,  1.   ,  0.   , 15.376],\n",
       "       [74.   ,  0.   ,  1.   ,  0.   , 20.942],\n",
       "       [50.   ,  0.   ,  2.   ,  0.   , 12.703],\n",
       "       [16.   ,  0.   ,  0.   ,  1.   , 15.516],\n",
       "       [69.   ,  1.   ,  1.   ,  1.   , 11.455],\n",
       "       [43.   ,  1.   ,  0.   ,  0.   , 13.972],\n",
       "       [23.   ,  1.   ,  1.   ,  0.   ,  7.298],\n",
       "       [32.   ,  0.   ,  0.   ,  1.   , 25.974],\n",
       "       [57.   ,  1.   ,  1.   ,  1.   , 19.128],\n",
       "       [63.   ,  1.   ,  2.   ,  0.   , 25.917],\n",
       "       [47.   ,  1.   ,  1.   ,  1.   , 30.568],\n",
       "       [48.   ,  0.   ,  1.   ,  0.   , 15.036],\n",
       "       [33.   ,  0.   ,  1.   ,  0.   , 33.486],\n",
       "       [28.   ,  0.   ,  0.   ,  1.   , 18.809],\n",
       "       [31.   ,  1.   ,  0.   ,  0.   , 30.366],\n",
       "       [49.   ,  0.   ,  2.   ,  1.   ,  9.381],\n",
       "       [39.   ,  0.   ,  1.   ,  1.   , 22.697],\n",
       "       [45.   ,  1.   ,  1.   ,  0.   , 17.951],\n",
       "       [18.   ,  0.   ,  2.   ,  1.   ,  8.75 ],\n",
       "       [74.   ,  1.   ,  0.   ,  0.   ,  9.567],\n",
       "       [49.   ,  1.   ,  1.   ,  1.   , 11.014],\n",
       "       [65.   ,  0.   ,  0.   ,  1.   , 31.876],\n",
       "       [53.   ,  1.   ,  2.   ,  0.   , 14.133],\n",
       "       [46.   ,  1.   ,  2.   ,  1.   ,  7.285],\n",
       "       [32.   ,  1.   ,  0.   ,  1.   ,  9.445],\n",
       "       [39.   ,  1.   ,  1.   ,  1.   , 13.938],\n",
       "       [39.   ,  0.   ,  2.   ,  1.   ,  9.709],\n",
       "       [15.   ,  1.   ,  2.   ,  0.   ,  9.084],\n",
       "       [73.   ,  0.   ,  2.   ,  0.   , 19.221],\n",
       "       [58.   ,  0.   ,  0.   ,  1.   , 14.239],\n",
       "       [50.   ,  1.   ,  2.   ,  1.   , 15.79 ],\n",
       "       [23.   ,  1.   ,  2.   ,  0.   , 12.26 ],\n",
       "       [50.   ,  0.   ,  2.   ,  1.   , 12.295],\n",
       "       [66.   ,  0.   ,  2.   ,  1.   ,  8.107],\n",
       "       [37.   ,  0.   ,  0.   ,  0.   , 13.091],\n",
       "       [68.   ,  1.   ,  1.   ,  0.   , 10.291],\n",
       "       [23.   ,  1.   ,  2.   ,  0.   , 31.686],\n",
       "       [28.   ,  0.   ,  1.   ,  0.   , 19.796],\n",
       "       [58.   ,  0.   ,  0.   ,  0.   , 19.416],\n",
       "       [67.   ,  1.   ,  2.   ,  1.   , 10.898],\n",
       "       [62.   ,  1.   ,  1.   ,  1.   , 27.183],\n",
       "       [24.   ,  0.   ,  0.   ,  1.   , 18.457],\n",
       "       [68.   ,  0.   ,  0.   ,  1.   , 10.189],\n",
       "       [26.   ,  0.   ,  1.   ,  0.   , 14.16 ],\n",
       "       [65.   ,  1.   ,  0.   ,  1.   , 11.34 ],\n",
       "       [40.   ,  1.   ,  0.   ,  0.   , 27.826],\n",
       "       [60.   ,  1.   ,  2.   ,  1.   , 10.091],\n",
       "       [34.   ,  1.   ,  0.   ,  0.   , 18.703],\n",
       "       [38.   ,  0.   ,  1.   ,  1.   , 29.875],\n",
       "       [24.   ,  1.   ,  0.   ,  1.   ,  9.475],\n",
       "       [67.   ,  1.   ,  1.   ,  1.   , 20.693],\n",
       "       [45.   ,  1.   ,  1.   ,  1.   ,  8.37 ],\n",
       "       [60.   ,  0.   ,  0.   ,  0.   , 13.303],\n",
       "       [68.   ,  0.   ,  2.   ,  1.   , 27.05 ],\n",
       "       [29.   ,  1.   ,  0.   ,  0.   , 12.856],\n",
       "       [17.   ,  1.   ,  2.   ,  1.   , 10.832],\n",
       "       [54.   ,  1.   ,  2.   ,  0.   , 24.658],\n",
       "       [18.   ,  0.   ,  0.   ,  1.   , 24.276],\n",
       "       [70.   ,  1.   ,  0.   ,  0.   , 13.967],\n",
       "       [28.   ,  0.   ,  2.   ,  0.   , 19.675],\n",
       "       [24.   ,  0.   ,  2.   ,  0.   , 10.605],\n",
       "       [41.   ,  0.   ,  2.   ,  1.   , 22.905],\n",
       "       [31.   ,  1.   ,  0.   ,  1.   , 17.069],\n",
       "       [26.   ,  1.   ,  1.   ,  1.   , 20.909],\n",
       "       [36.   ,  0.   ,  0.   ,  0.   , 11.198],\n",
       "       [26.   ,  0.   ,  0.   ,  1.   , 19.161],\n",
       "       [19.   ,  0.   ,  0.   ,  0.   , 13.313],\n",
       "       [32.   ,  0.   ,  1.   ,  1.   , 10.84 ],\n",
       "       [60.   ,  1.   ,  0.   ,  0.   , 13.934],\n",
       "       [64.   ,  1.   ,  2.   ,  0.   ,  7.761],\n",
       "       [32.   ,  0.   ,  1.   ,  0.   ,  9.712],\n",
       "       [38.   ,  0.   ,  0.   ,  1.   , 11.326],\n",
       "       [47.   ,  0.   ,  1.   ,  0.   , 10.067],\n",
       "       [59.   ,  1.   ,  0.   ,  0.   , 13.935],\n",
       "       [51.   ,  0.   ,  2.   ,  0.   , 13.597],\n",
       "       [69.   ,  1.   ,  1.   ,  0.   , 15.478],\n",
       "       [37.   ,  0.   ,  0.   ,  1.   , 23.091],\n",
       "       [50.   ,  0.   ,  2.   ,  1.   , 17.211],\n",
       "       [62.   ,  1.   ,  2.   ,  0.   , 16.594],\n",
       "       [41.   ,  1.   ,  0.   ,  1.   , 15.156],\n",
       "       [29.   ,  0.   ,  0.   ,  0.   , 29.45 ],\n",
       "       [42.   ,  0.   ,  1.   ,  1.   , 29.271],\n",
       "       [56.   ,  1.   ,  1.   ,  0.   , 15.015],\n",
       "       [36.   ,  1.   ,  1.   ,  1.   , 11.424],\n",
       "       [58.   ,  0.   ,  1.   ,  0.   , 38.247],\n",
       "       [56.   ,  0.   ,  0.   ,  0.   , 25.395],\n",
       "       [20.   ,  1.   ,  0.   ,  1.   , 35.639],\n",
       "       [15.   ,  0.   ,  0.   ,  1.   , 16.725],\n",
       "       [31.   ,  1.   ,  0.   ,  1.   , 11.871],\n",
       "       [45.   ,  0.   ,  0.   ,  0.   , 12.854],\n",
       "       [28.   ,  0.   ,  1.   ,  0.   , 13.127],\n",
       "       [56.   ,  1.   ,  2.   ,  0.   ,  8.966],\n",
       "       [22.   ,  1.   ,  0.   ,  1.   , 28.294],\n",
       "       [37.   ,  1.   ,  1.   ,  1.   ,  8.968],\n",
       "       [22.   ,  1.   ,  2.   ,  0.   , 11.953],\n",
       "       [42.   ,  1.   ,  1.   ,  0.   , 20.013],\n",
       "       [72.   ,  1.   ,  0.   ,  1.   ,  9.677],\n",
       "       [23.   ,  1.   ,  2.   ,  0.   , 16.85 ],\n",
       "       [50.   ,  1.   ,  0.   ,  0.   ,  7.49 ],\n",
       "       [47.   ,  0.   ,  2.   ,  1.   ,  6.683],\n",
       "       [35.   ,  1.   ,  1.   ,  1.   ,  9.17 ],\n",
       "       [65.   ,  0.   ,  1.   ,  1.   , 13.769],\n",
       "       [20.   ,  0.   ,  2.   ,  1.   ,  9.281],\n",
       "       [51.   ,  1.   ,  0.   ,  0.   , 18.295],\n",
       "       [67.   ,  1.   ,  2.   ,  1.   ,  9.514],\n",
       "       [40.   ,  0.   ,  2.   ,  0.   , 10.103],\n",
       "       [32.   ,  0.   ,  0.   ,  1.   , 10.292],\n",
       "       [61.   ,  0.   ,  0.   ,  0.   , 25.475],\n",
       "       [28.   ,  1.   ,  2.   ,  0.   , 27.064],\n",
       "       [15.   ,  1.   ,  0.   ,  1.   , 17.206],\n",
       "       [34.   ,  1.   ,  2.   ,  0.   , 22.456],\n",
       "       [36.   ,  0.   ,  2.   ,  0.   , 16.753],\n",
       "       [53.   ,  0.   ,  0.   ,  1.   , 12.495],\n",
       "       [19.   ,  0.   ,  0.   ,  1.   , 25.969],\n",
       "       [66.   ,  1.   ,  0.   ,  0.   , 16.347],\n",
       "       [35.   ,  1.   ,  2.   ,  1.   ,  7.845],\n",
       "       [47.   ,  1.   ,  1.   ,  1.   , 33.542],\n",
       "       [32.   ,  0.   ,  2.   ,  0.   ,  7.477],\n",
       "       [70.   ,  0.   ,  2.   ,  0.   , 20.489],\n",
       "       [52.   ,  1.   ,  1.   ,  1.   , 32.922],\n",
       "       [49.   ,  1.   ,  1.   ,  1.   , 13.598],\n",
       "       [24.   ,  1.   ,  2.   ,  0.   , 25.786],\n",
       "       [42.   ,  0.   ,  0.   ,  0.   , 21.036],\n",
       "       [74.   ,  1.   ,  1.   ,  1.   , 11.939],\n",
       "       [55.   ,  0.   ,  0.   ,  0.   , 10.977],\n",
       "       [35.   ,  0.   ,  0.   ,  0.   , 12.894],\n",
       "       [51.   ,  1.   ,  0.   ,  1.   , 11.343],\n",
       "       [69.   ,  0.   ,  2.   ,  0.   , 10.065],\n",
       "       [49.   ,  1.   ,  0.   ,  1.   ,  6.269],\n",
       "       [64.   ,  0.   ,  1.   ,  1.   , 25.741],\n",
       "       [60.   ,  1.   ,  0.   ,  1.   ,  8.621],\n",
       "       [74.   ,  1.   ,  0.   ,  1.   , 15.436],\n",
       "       [39.   ,  1.   ,  0.   ,  0.   ,  9.664],\n",
       "       [61.   ,  1.   ,  2.   ,  0.   ,  9.443],\n",
       "       [37.   ,  0.   ,  1.   ,  1.   , 12.006],\n",
       "       [26.   ,  0.   ,  0.   ,  1.   , 12.307],\n",
       "       [61.   ,  0.   ,  1.   ,  1.   ,  7.34 ],\n",
       "       [22.   ,  1.   ,  1.   ,  0.   ,  8.151],\n",
       "       [49.   ,  1.   ,  0.   ,  1.   ,  8.7  ],\n",
       "       [68.   ,  1.   ,  0.   ,  0.   , 11.009],\n",
       "       [55.   ,  1.   ,  2.   ,  1.   ,  7.261],\n",
       "       [72.   ,  0.   ,  1.   ,  1.   , 14.642],\n",
       "       [37.   ,  1.   ,  1.   ,  1.   , 16.724],\n",
       "       [49.   ,  1.   ,  1.   ,  0.   , 10.537],\n",
       "       [31.   ,  1.   ,  0.   ,  1.   , 11.227],\n",
       "       [53.   ,  1.   ,  1.   ,  0.   , 22.963],\n",
       "       [59.   ,  0.   ,  1.   ,  0.   , 10.444],\n",
       "       [34.   ,  0.   ,  1.   ,  1.   , 12.923],\n",
       "       [30.   ,  0.   ,  2.   ,  0.   , 10.443],\n",
       "       [57.   ,  0.   ,  0.   ,  1.   ,  9.945],\n",
       "       [43.   ,  1.   ,  2.   ,  1.   , 12.859],\n",
       "       [21.   ,  0.   ,  0.   ,  1.   , 28.632],\n",
       "       [16.   ,  1.   ,  0.   ,  1.   , 19.007],\n",
       "       [38.   ,  1.   ,  1.   ,  0.   , 18.295],\n",
       "       [58.   ,  0.   ,  1.   ,  0.   , 26.645],\n",
       "       [57.   ,  0.   ,  2.   ,  0.   , 14.216],\n",
       "       [51.   ,  0.   ,  1.   ,  1.   , 23.003],\n",
       "       [20.   ,  0.   ,  0.   ,  0.   , 11.262],\n",
       "       [28.   ,  0.   ,  2.   ,  0.   , 12.879],\n",
       "       [45.   ,  1.   ,  1.   ,  1.   , 10.017],\n",
       "       [39.   ,  0.   ,  2.   ,  1.   , 17.225],\n",
       "       [41.   ,  0.   ,  1.   ,  1.   , 18.739],\n",
       "       [42.   ,  1.   ,  0.   ,  1.   , 12.766],\n",
       "       [73.   ,  0.   ,  0.   ,  0.   , 18.348],\n",
       "       [48.   ,  1.   ,  0.   ,  1.   , 10.446],\n",
       "       [25.   ,  1.   ,  2.   ,  0.   , 19.011],\n",
       "       [39.   ,  1.   ,  2.   ,  0.   , 15.969],\n",
       "       [67.   ,  0.   ,  2.   ,  0.   , 15.891],\n",
       "       [22.   ,  0.   ,  0.   ,  1.   , 22.818],\n",
       "       [59.   ,  0.   ,  2.   ,  0.   , 13.884],\n",
       "       [20.   ,  0.   ,  1.   ,  1.   , 11.686],\n",
       "       [36.   ,  0.   ,  0.   ,  1.   , 15.49 ],\n",
       "       [18.   ,  0.   ,  0.   ,  0.   , 37.188],\n",
       "       [57.   ,  0.   ,  2.   ,  1.   , 25.893],\n",
       "       [70.   ,  1.   ,  0.   ,  0.   ,  9.849],\n",
       "       [47.   ,  1.   ,  0.   ,  0.   , 10.403],\n",
       "       [65.   ,  1.   ,  0.   ,  1.   , 34.997],\n",
       "       [64.   ,  1.   ,  0.   ,  1.   , 20.932],\n",
       "       [58.   ,  1.   ,  0.   ,  0.   , 18.991],\n",
       "       [23.   ,  1.   ,  0.   ,  0.   ,  8.011],\n",
       "       [72.   ,  1.   ,  1.   ,  0.   , 16.31 ],\n",
       "       [72.   ,  1.   ,  1.   ,  0.   ,  6.769],\n",
       "       [46.   ,  0.   ,  0.   ,  0.   , 34.686],\n",
       "       [56.   ,  0.   ,  1.   ,  0.   , 11.567],\n",
       "       [16.   ,  1.   ,  1.   ,  0.   , 12.006],\n",
       "       [52.   ,  1.   ,  2.   ,  0.   ,  9.894],\n",
       "       [23.   ,  1.   ,  2.   ,  1.   , 14.02 ],\n",
       "       [40.   ,  0.   ,  1.   ,  1.   , 11.349]])"
      ]
     },
     "execution_count": 19,
     "metadata": {},
     "output_type": "execute_result"
    }
   ],
   "source": [
    "X"
   ]
  },
  {
   "cell_type": "code",
   "execution_count": 20,
   "id": "249d823b",
   "metadata": {},
   "outputs": [
    {
     "data": {
      "text/plain": [
       "0      0\n",
       "1      1\n",
       "2      1\n",
       "3      2\n",
       "4      0\n",
       "      ..\n",
       "195    1\n",
       "196    1\n",
       "197    2\n",
       "198    2\n",
       "199    2\n",
       "Name: Drug, Length: 200, dtype: int64"
      ]
     },
     "execution_count": 20,
     "metadata": {},
     "output_type": "execute_result"
    }
   ],
   "source": [
    "Y"
   ]
  },
  {
   "cell_type": "code",
   "execution_count": 21,
   "id": "996d8a5e",
   "metadata": {},
   "outputs": [],
   "source": [
    "from sklearn.model_selection import train_test_split\n",
    "X_train,X_test,Y_train,Y_test = train_test_split(X,Y,test_size=0.33,random_state = 42)"
   ]
  },
  {
   "cell_type": "code",
   "execution_count": 22,
   "id": "e603c03d",
   "metadata": {},
   "outputs": [
    {
     "data": {
      "text/plain": [
       "array([[50.   ,  1.   ,  2.   ,  1.   , 15.79 ],\n",
       "       [64.   ,  1.   ,  0.   ,  1.   , 20.932],\n",
       "       [62.   ,  1.   ,  2.   ,  0.   , 16.594],\n",
       "       [55.   ,  0.   ,  0.   ,  0.   , 10.977],\n",
       "       [67.   ,  1.   ,  2.   ,  1.   , 10.898],\n",
       "       [35.   ,  1.   ,  2.   ,  1.   ,  7.845],\n",
       "       [43.   ,  1.   ,  2.   ,  1.   , 12.859],\n",
       "       [58.   ,  0.   ,  0.   ,  1.   , 14.239],\n",
       "       [32.   ,  0.   ,  0.   ,  1.   , 10.292],\n",
       "       [65.   ,  0.   ,  1.   ,  1.   , 13.769],\n",
       "       [31.   ,  1.   ,  0.   ,  0.   , 30.366],\n",
       "       [69.   ,  0.   ,  2.   ,  0.   , 10.065],\n",
       "       [31.   ,  1.   ,  0.   ,  1.   , 11.871],\n",
       "       [47.   ,  0.   ,  2.   ,  1.   ,  6.683],\n",
       "       [47.   ,  1.   ,  1.   ,  0.   , 10.114],\n",
       "       [26.   ,  0.   ,  0.   ,  1.   , 19.161],\n",
       "       [37.   ,  0.   ,  0.   ,  0.   , 13.091],\n",
       "       [47.   ,  1.   ,  0.   ,  0.   , 10.403],\n",
       "       [23.   ,  1.   ,  0.   ,  0.   ,  8.011],\n",
       "       [59.   ,  1.   ,  0.   ,  0.   , 13.935],\n",
       "       [57.   ,  0.   ,  0.   ,  1.   ,  9.945],\n",
       "       [32.   ,  1.   ,  0.   ,  1.   ,  9.445],\n",
       "       [58.   ,  1.   ,  0.   ,  0.   , 18.991],\n",
       "       [24.   ,  1.   ,  0.   ,  1.   ,  9.475],\n",
       "       [47.   ,  1.   ,  1.   ,  1.   , 30.568],\n",
       "       [64.   ,  0.   ,  1.   ,  1.   , 25.741],\n",
       "       [45.   ,  0.   ,  0.   ,  0.   , 12.854],\n",
       "       [65.   ,  0.   ,  0.   ,  1.   , 31.876],\n",
       "       [34.   ,  0.   ,  0.   ,  1.   , 19.199],\n",
       "       [46.   ,  0.   ,  0.   ,  0.   , 34.686],\n",
       "       [34.   ,  0.   ,  1.   ,  1.   , 12.923],\n",
       "       [49.   ,  0.   ,  2.   ,  0.   , 16.275],\n",
       "       [49.   ,  0.   ,  2.   ,  1.   ,  9.381],\n",
       "       [28.   ,  1.   ,  2.   ,  0.   , 27.064],\n",
       "       [61.   ,  0.   ,  1.   ,  0.   , 18.043],\n",
       "       [49.   ,  1.   ,  1.   ,  1.   , 11.014],\n",
       "       [60.   ,  1.   ,  0.   ,  1.   ,  8.621],\n",
       "       [61.   ,  1.   ,  2.   ,  0.   ,  9.443],\n",
       "       [23.   ,  1.   ,  2.   ,  0.   , 16.85 ],\n",
       "       [39.   ,  1.   ,  0.   ,  0.   ,  9.664],\n",
       "       [47.   ,  0.   ,  1.   ,  0.   , 11.767],\n",
       "       [67.   ,  1.   ,  1.   ,  1.   , 20.693],\n",
       "       [35.   ,  1.   ,  1.   ,  1.   ,  9.17 ],\n",
       "       [37.   ,  0.   ,  1.   ,  1.   , 12.006],\n",
       "       [58.   ,  0.   ,  1.   ,  0.   , 26.645],\n",
       "       [23.   ,  0.   ,  0.   ,  0.   , 25.355],\n",
       "       [23.   ,  1.   ,  2.   ,  1.   , 14.02 ],\n",
       "       [72.   ,  0.   ,  1.   ,  1.   , 14.642],\n",
       "       [70.   ,  1.   ,  0.   ,  0.   , 13.967],\n",
       "       [36.   ,  0.   ,  2.   ,  0.   , 16.753],\n",
       "       [60.   ,  0.   ,  0.   ,  0.   , 13.303],\n",
       "       [50.   ,  0.   ,  2.   ,  1.   , 12.295],\n",
       "       [21.   ,  0.   ,  0.   ,  1.   , 28.632],\n",
       "       [39.   ,  0.   ,  1.   ,  1.   , 22.697],\n",
       "       [73.   ,  0.   ,  2.   ,  0.   , 19.221],\n",
       "       [72.   ,  1.   ,  0.   ,  1.   ,  9.677],\n",
       "       [49.   ,  1.   ,  1.   ,  0.   , 10.537],\n",
       "       [31.   ,  1.   ,  0.   ,  1.   , 11.227],\n",
       "       [28.   ,  0.   ,  0.   ,  1.   , 18.809],\n",
       "       [48.   ,  0.   ,  1.   ,  0.   , 15.036],\n",
       "       [18.   ,  0.   ,  0.   ,  0.   , 37.188],\n",
       "       [26.   ,  0.   ,  0.   ,  1.   , 12.307],\n",
       "       [64.   ,  1.   ,  2.   ,  0.   ,  7.761],\n",
       "       [15.   ,  1.   ,  2.   ,  0.   ,  9.084],\n",
       "       [51.   ,  0.   ,  1.   ,  1.   , 23.003],\n",
       "       [68.   ,  1.   ,  1.   ,  0.   , 10.291],\n",
       "       [56.   ,  1.   ,  1.   ,  0.   , 15.015],\n",
       "       [37.   ,  1.   ,  1.   ,  1.   , 16.724],\n",
       "       [23.   ,  1.   ,  2.   ,  0.   , 12.26 ],\n",
       "       [51.   ,  1.   ,  0.   ,  1.   , 11.343],\n",
       "       [28.   ,  0.   ,  2.   ,  0.   ,  7.798],\n",
       "       [37.   ,  1.   ,  1.   ,  1.   ,  8.968],\n",
       "       [24.   ,  0.   ,  0.   ,  1.   , 18.457],\n",
       "       [24.   ,  1.   ,  2.   ,  0.   , 25.786],\n",
       "       [22.   ,  0.   ,  0.   ,  1.   , 22.818],\n",
       "       [39.   ,  1.   ,  2.   ,  0.   , 15.969],\n",
       "       [57.   ,  0.   ,  2.   ,  1.   , 25.893],\n",
       "       [28.   ,  0.   ,  1.   ,  0.   , 19.796],\n",
       "       [60.   ,  1.   ,  0.   ,  0.   , 13.934],\n",
       "       [53.   ,  1.   ,  2.   ,  0.   , 14.133],\n",
       "       [41.   ,  1.   ,  1.   ,  0.   , 11.037],\n",
       "       [50.   ,  1.   ,  0.   ,  0.   ,  7.49 ],\n",
       "       [41.   ,  1.   ,  0.   ,  1.   , 15.156],\n",
       "       [38.   ,  0.   ,  0.   ,  1.   , 11.326],\n",
       "       [48.   ,  1.   ,  0.   ,  1.   , 10.446],\n",
       "       [59.   ,  0.   ,  2.   ,  0.   , 13.884],\n",
       "       [50.   ,  0.   ,  2.   ,  1.   , 17.211],\n",
       "       [60.   ,  1.   ,  2.   ,  0.   , 15.171],\n",
       "       [74.   ,  0.   ,  1.   ,  0.   , 20.942],\n",
       "       [34.   ,  1.   ,  0.   ,  0.   , 18.703],\n",
       "       [45.   ,  1.   ,  1.   ,  1.   , 10.017],\n",
       "       [52.   ,  1.   ,  1.   ,  1.   , 32.922],\n",
       "       [43.   ,  1.   ,  0.   ,  0.   , 13.972],\n",
       "       [24.   ,  0.   ,  2.   ,  0.   , 10.605],\n",
       "       [73.   ,  0.   ,  0.   ,  0.   , 18.348],\n",
       "       [42.   ,  0.   ,  0.   ,  0.   , 21.036],\n",
       "       [57.   ,  0.   ,  2.   ,  0.   , 14.216],\n",
       "       [36.   ,  0.   ,  0.   ,  1.   , 15.49 ],\n",
       "       [45.   ,  1.   ,  1.   ,  1.   ,  8.37 ],\n",
       "       [68.   ,  0.   ,  0.   ,  1.   , 10.189],\n",
       "       [42.   ,  1.   ,  1.   ,  0.   , 20.013],\n",
       "       [58.   ,  0.   ,  0.   ,  0.   , 19.416],\n",
       "       [16.   ,  1.   ,  1.   ,  0.   , 12.006],\n",
       "       [60.   ,  1.   ,  2.   ,  1.   , 10.091],\n",
       "       [23.   ,  1.   ,  2.   ,  0.   , 31.686],\n",
       "       [37.   ,  0.   ,  0.   ,  1.   , 23.091],\n",
       "       [63.   ,  1.   ,  2.   ,  0.   , 25.917],\n",
       "       [40.   ,  1.   ,  0.   ,  0.   , 27.826],\n",
       "       [30.   ,  0.   ,  2.   ,  0.   , 10.443],\n",
       "       [72.   ,  1.   ,  1.   ,  0.   , 16.31 ],\n",
       "       [32.   ,  0.   ,  2.   ,  0.   ,  7.477],\n",
       "       [39.   ,  1.   ,  1.   ,  1.   , 13.938],\n",
       "       [53.   ,  1.   ,  1.   ,  0.   , 22.963],\n",
       "       [72.   ,  1.   ,  1.   ,  0.   ,  6.769],\n",
       "       [47.   ,  1.   ,  1.   ,  0.   , 13.093],\n",
       "       [62.   ,  1.   ,  1.   ,  1.   , 27.183],\n",
       "       [22.   ,  1.   ,  1.   ,  0.   ,  8.151],\n",
       "       [70.   ,  0.   ,  2.   ,  0.   , 20.489],\n",
       "       [68.   ,  1.   ,  0.   ,  0.   , 11.009],\n",
       "       [56.   ,  1.   ,  2.   ,  0.   ,  8.966],\n",
       "       [15.   ,  0.   ,  0.   ,  1.   , 16.725],\n",
       "       [67.   ,  1.   ,  2.   ,  1.   ,  9.514],\n",
       "       [69.   ,  1.   ,  1.   ,  0.   , 15.478],\n",
       "       [31.   ,  1.   ,  0.   ,  1.   , 17.069],\n",
       "       [15.   ,  1.   ,  0.   ,  1.   , 17.206],\n",
       "       [40.   ,  0.   ,  1.   ,  1.   , 11.349],\n",
       "       [57.   ,  1.   ,  1.   ,  1.   , 19.128],\n",
       "       [65.   ,  1.   ,  0.   ,  1.   , 34.997],\n",
       "       [28.   ,  0.   ,  2.   ,  0.   , 19.675],\n",
       "       [22.   ,  1.   ,  2.   ,  0.   , 11.953],\n",
       "       [50.   ,  0.   ,  2.   ,  0.   , 12.703],\n",
       "       [29.   ,  0.   ,  0.   ,  0.   , 29.45 ],\n",
       "       [67.   ,  0.   ,  2.   ,  0.   , 15.891],\n",
       "       [28.   ,  0.   ,  1.   ,  0.   , 13.127]])"
      ]
     },
     "execution_count": 22,
     "metadata": {},
     "output_type": "execute_result"
    }
   ],
   "source": [
    "X_train"
   ]
  },
  {
   "cell_type": "code",
   "execution_count": 23,
   "id": "a7d3d662",
   "metadata": {},
   "outputs": [
    {
     "data": {
      "text/plain": [
       "42     0\n",
       "189    0\n",
       "90     0\n",
       "136    4\n",
       "51     2\n",
       "      ..\n",
       "106    2\n",
       "14     2\n",
       "92     0\n",
       "179    0\n",
       "102    1\n",
       "Name: Drug, Length: 134, dtype: int64"
      ]
     },
     "execution_count": 23,
     "metadata": {},
     "output_type": "execute_result"
    }
   ],
   "source": [
    "Y_train"
   ]
  },
  {
   "cell_type": "code",
   "execution_count": 24,
   "id": "877b0b10",
   "metadata": {},
   "outputs": [],
   "source": [
    "from sklearn.linear_model import LogisticRegression"
   ]
  },
  {
   "cell_type": "code",
   "execution_count": 25,
   "id": "d74fa052",
   "metadata": {},
   "outputs": [
    {
     "name": "stderr",
     "output_type": "stream",
     "text": [
      "/Users/soumobratamanna/Documents/Data_Science_Projects/tensorflow-test/env/lib/python3.8/site-packages/sklearn/linear_model/_logistic.py:444: ConvergenceWarning: lbfgs failed to converge (status=1):\n",
      "STOP: TOTAL NO. of ITERATIONS REACHED LIMIT.\n",
      "\n",
      "Increase the number of iterations (max_iter) or scale the data as shown in:\n",
      "    https://scikit-learn.org/stable/modules/preprocessing.html\n",
      "Please also refer to the documentation for alternative solver options:\n",
      "    https://scikit-learn.org/stable/modules/linear_model.html#logistic-regression\n",
      "  n_iter_i = _check_optimize_result(\n"
     ]
    },
    {
     "data": {
      "text/html": [
       "<style>#sk-container-id-1 {color: black;background-color: white;}#sk-container-id-1 pre{padding: 0;}#sk-container-id-1 div.sk-toggleable {background-color: white;}#sk-container-id-1 label.sk-toggleable__label {cursor: pointer;display: block;width: 100%;margin-bottom: 0;padding: 0.3em;box-sizing: border-box;text-align: center;}#sk-container-id-1 label.sk-toggleable__label-arrow:before {content: \"▸\";float: left;margin-right: 0.25em;color: #696969;}#sk-container-id-1 label.sk-toggleable__label-arrow:hover:before {color: black;}#sk-container-id-1 div.sk-estimator:hover label.sk-toggleable__label-arrow:before {color: black;}#sk-container-id-1 div.sk-toggleable__content {max-height: 0;max-width: 0;overflow: hidden;text-align: left;background-color: #f0f8ff;}#sk-container-id-1 div.sk-toggleable__content pre {margin: 0.2em;color: black;border-radius: 0.25em;background-color: #f0f8ff;}#sk-container-id-1 input.sk-toggleable__control:checked~div.sk-toggleable__content {max-height: 200px;max-width: 100%;overflow: auto;}#sk-container-id-1 input.sk-toggleable__control:checked~label.sk-toggleable__label-arrow:before {content: \"▾\";}#sk-container-id-1 div.sk-estimator input.sk-toggleable__control:checked~label.sk-toggleable__label {background-color: #d4ebff;}#sk-container-id-1 div.sk-label input.sk-toggleable__control:checked~label.sk-toggleable__label {background-color: #d4ebff;}#sk-container-id-1 input.sk-hidden--visually {border: 0;clip: rect(1px 1px 1px 1px);clip: rect(1px, 1px, 1px, 1px);height: 1px;margin: -1px;overflow: hidden;padding: 0;position: absolute;width: 1px;}#sk-container-id-1 div.sk-estimator {font-family: monospace;background-color: #f0f8ff;border: 1px dotted black;border-radius: 0.25em;box-sizing: border-box;margin-bottom: 0.5em;}#sk-container-id-1 div.sk-estimator:hover {background-color: #d4ebff;}#sk-container-id-1 div.sk-parallel-item::after {content: \"\";width: 100%;border-bottom: 1px solid gray;flex-grow: 1;}#sk-container-id-1 div.sk-label:hover label.sk-toggleable__label {background-color: #d4ebff;}#sk-container-id-1 div.sk-serial::before {content: \"\";position: absolute;border-left: 1px solid gray;box-sizing: border-box;top: 0;bottom: 0;left: 50%;z-index: 0;}#sk-container-id-1 div.sk-serial {display: flex;flex-direction: column;align-items: center;background-color: white;padding-right: 0.2em;padding-left: 0.2em;position: relative;}#sk-container-id-1 div.sk-item {position: relative;z-index: 1;}#sk-container-id-1 div.sk-parallel {display: flex;align-items: stretch;justify-content: center;background-color: white;position: relative;}#sk-container-id-1 div.sk-item::before, #sk-container-id-1 div.sk-parallel-item::before {content: \"\";position: absolute;border-left: 1px solid gray;box-sizing: border-box;top: 0;bottom: 0;left: 50%;z-index: -1;}#sk-container-id-1 div.sk-parallel-item {display: flex;flex-direction: column;z-index: 1;position: relative;background-color: white;}#sk-container-id-1 div.sk-parallel-item:first-child::after {align-self: flex-end;width: 50%;}#sk-container-id-1 div.sk-parallel-item:last-child::after {align-self: flex-start;width: 50%;}#sk-container-id-1 div.sk-parallel-item:only-child::after {width: 0;}#sk-container-id-1 div.sk-dashed-wrapped {border: 1px dashed gray;margin: 0 0.4em 0.5em 0.4em;box-sizing: border-box;padding-bottom: 0.4em;background-color: white;}#sk-container-id-1 div.sk-label label {font-family: monospace;font-weight: bold;display: inline-block;line-height: 1.2em;}#sk-container-id-1 div.sk-label-container {text-align: center;}#sk-container-id-1 div.sk-container {/* jupyter's `normalize.less` sets `[hidden] { display: none; }` but bootstrap.min.css set `[hidden] { display: none !important; }` so we also need the `!important` here to be able to override the default hidden behavior on the sphinx rendered scikit-learn.org. See: https://github.com/scikit-learn/scikit-learn/issues/21755 */display: inline-block !important;position: relative;}#sk-container-id-1 div.sk-text-repr-fallback {display: none;}</style><div id=\"sk-container-id-1\" class=\"sk-top-container\"><div class=\"sk-text-repr-fallback\"><pre>LogisticRegression()</pre><b>In a Jupyter environment, please rerun this cell to show the HTML representation or trust the notebook. <br />On GitHub, the HTML representation is unable to render, please try loading this page with nbviewer.org.</b></div><div class=\"sk-container\" hidden><div class=\"sk-item\"><div class=\"sk-estimator sk-toggleable\"><input class=\"sk-toggleable__control sk-hidden--visually\" id=\"sk-estimator-id-1\" type=\"checkbox\" checked><label for=\"sk-estimator-id-1\" class=\"sk-toggleable__label sk-toggleable__label-arrow\">LogisticRegression</label><div class=\"sk-toggleable__content\"><pre>LogisticRegression()</pre></div></div></div></div></div>"
      ],
      "text/plain": [
       "LogisticRegression()"
      ]
     },
     "execution_count": 25,
     "metadata": {},
     "output_type": "execute_result"
    }
   ],
   "source": [
    "model = LogisticRegression()\n",
    "model.fit(X_train,Y_train)"
   ]
  },
  {
   "cell_type": "code",
   "execution_count": 26,
   "id": "e6e2c2ad",
   "metadata": {},
   "outputs": [],
   "source": [
    "predictions = model.predict(X_test)"
   ]
  },
  {
   "cell_type": "code",
   "execution_count": 27,
   "id": "b1ebeb24",
   "metadata": {},
   "outputs": [
    {
     "data": {
      "text/plain": [
       "array([2, 0, 2, 2, 0, 0, 0, 2, 3, 2, 3, 2, 0, 0, 4, 0, 4, 2, 2, 0, 4, 2,\n",
       "       2, 0, 0, 0, 2, 2, 0, 2, 0, 1, 0, 0, 3, 0, 2, 0, 0, 3, 2, 2, 2, 0,\n",
       "       0, 0, 0, 0, 4, 2, 2, 0, 2, 0, 2, 0, 4, 0, 2, 0, 0, 0, 4, 0, 2, 0])"
      ]
     },
     "execution_count": 27,
     "metadata": {},
     "output_type": "execute_result"
    }
   ],
   "source": [
    "predictions"
   ]
  },
  {
   "cell_type": "code",
   "execution_count": 28,
   "id": "c87e38d5",
   "metadata": {},
   "outputs": [],
   "source": [
    "from sklearn.metrics import confusion_matrix , accuracy_score, classification_report\n",
    "cm = confusion_matrix(Y_test,predictions)\n",
    "score = accuracy_score(Y_test,predictions)\n",
    "cr = classification_report(Y_test,predictions)"
   ]
  },
  {
   "cell_type": "code",
   "execution_count": 29,
   "id": "3706498e",
   "metadata": {},
   "outputs": [
    {
     "data": {
      "text/plain": [
       "array([[27,  0,  1,  0,  1],\n",
       "       [ 2,  1,  3,  0,  0],\n",
       "       [ 0,  0, 19,  0,  0],\n",
       "       [ 3,  0,  0,  4,  1],\n",
       "       [ 0,  0,  0,  0,  4]])"
      ]
     },
     "execution_count": 29,
     "metadata": {},
     "output_type": "execute_result"
    }
   ],
   "source": [
    "cm"
   ]
  },
  {
   "cell_type": "code",
   "execution_count": 30,
   "id": "5c33be9e",
   "metadata": {},
   "outputs": [
    {
     "data": {
      "text/plain": [
       "0.8333333333333334"
      ]
     },
     "execution_count": 30,
     "metadata": {},
     "output_type": "execute_result"
    }
   ],
   "source": [
    "score"
   ]
  },
  {
   "cell_type": "code",
   "execution_count": 31,
   "id": "f5e6d8bd",
   "metadata": {},
   "outputs": [
    {
     "name": "stdout",
     "output_type": "stream",
     "text": [
      "              precision    recall  f1-score   support\n",
      "\n",
      "           0       0.84      0.93      0.89        29\n",
      "           1       1.00      0.17      0.29         6\n",
      "           2       0.83      1.00      0.90        19\n",
      "           3       1.00      0.50      0.67         8\n",
      "           4       0.67      1.00      0.80         4\n",
      "\n",
      "    accuracy                           0.83        66\n",
      "   macro avg       0.87      0.72      0.71        66\n",
      "weighted avg       0.86      0.83      0.80        66\n",
      "\n"
     ]
    }
   ],
   "source": [
    "print(cr)"
   ]
  },
  {
   "cell_type": "code",
   "execution_count": null,
   "id": "3be9ed64",
   "metadata": {},
   "outputs": [],
   "source": []
  },
  {
   "cell_type": "code",
   "execution_count": null,
   "id": "9a5ddb35",
   "metadata": {},
   "outputs": [],
   "source": []
  }
 ],
 "metadata": {
  "kernelspec": {
   "display_name": "Python 3 (ipykernel)",
   "language": "python",
   "name": "python3"
  },
  "language_info": {
   "codemirror_mode": {
    "name": "ipython",
    "version": 3
   },
   "file_extension": ".py",
   "mimetype": "text/x-python",
   "name": "python",
   "nbconvert_exporter": "python",
   "pygments_lexer": "ipython3",
   "version": "3.8.13"
  }
 },
 "nbformat": 4,
 "nbformat_minor": 5
}
