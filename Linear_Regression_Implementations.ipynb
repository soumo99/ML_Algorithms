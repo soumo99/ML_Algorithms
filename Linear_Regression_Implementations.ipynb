{
  "nbformat": 4,
  "nbformat_minor": 0,
  "metadata": {
    "colab": {
      "name": "Linear Regression Implementations.ipynb",
      "private_outputs": true,
      "provenance": [],
      "collapsed_sections": [],
      "authorship_tag": "ABX9TyObfcvHtNd9W+tVri+c1Np3",
      "include_colab_link": true
    },
    "kernelspec": {
      "name": "python3",
      "display_name": "Python 3"
    },
    "language_info": {
      "name": "python"
    }
  },
  "cells": [
    {
      "cell_type": "markdown",
      "metadata": {
        "id": "view-in-github",
        "colab_type": "text"
      },
      "source": [
        "<a href=\"https://colab.research.google.com/github/soumo99/ML_codes/blob/main/Linear_Regression_Implementations.ipynb\" target=\"_parent\"><img src=\"https://colab.research.google.com/assets/colab-badge.svg\" alt=\"Open In Colab\"/></a>"
      ]
    },
    {
      "cell_type": "markdown",
      "source": [
        "Linear Regression implementations "
      ],
      "metadata": {
        "id": "VNn5iTv2JtwE"
      }
    },
    {
      "cell_type": "code",
      "source": [
        "import numpy as np\n",
        "import matplotlib.pyplot as plt\n",
        "import pandas as pd\n",
        "\n"
      ],
      "metadata": {
        "id": "-hGQ9ugIbc0y"
      },
      "execution_count": null,
      "outputs": []
    },
    {
      "cell_type": "markdown",
      "source": [
        "Loading the dataset"
      ],
      "metadata": {
        "id": "bVjQuyU3dDvA"
      }
    },
    {
      "cell_type": "code",
      "source": [
        "data = pd.read_csv('/content/headbrain.csv')\n",
        "data.head(10)"
      ],
      "metadata": {
        "id": "RYs9ufI6dLM5"
      },
      "execution_count": null,
      "outputs": []
    },
    {
      "cell_type": "code",
      "source": [
        "data.shape"
      ],
      "metadata": {
        "id": "1DWU5ygkdXcO"
      },
      "execution_count": null,
      "outputs": []
    },
    {
      "cell_type": "markdown",
      "source": [
        "Collecting the values of X and Y"
      ],
      "metadata": {
        "id": "507EuGtSdrV9"
      }
    },
    {
      "cell_type": "code",
      "source": [
        "X = data['Head Size(cm^3)'].values\n",
        "Y = data['Brain Weight(grams)'].values"
      ],
      "metadata": {
        "id": "gkNZrSqHdvQ_"
      },
      "execution_count": null,
      "outputs": []
    },
    {
      "cell_type": "markdown",
      "source": [
        "Calculting the value of B0 and B1 or m and c"
      ],
      "metadata": {
        "id": "ZyGRzUXgeFqG"
      }
    },
    {
      "cell_type": "code",
      "source": [
        "#Mean of X and Y\n",
        "mean_x = np.mean(X)\n",
        "mean_y = np.mean(Y)\n",
        "#Total number of values \n",
        "m = len(X)\n",
        "\n",
        "#using the formula to calculate the B0 and B1\n",
        "numer = 0\n",
        "deno = 0\n",
        "\n",
        "for i in range(m):\n",
        "  numer += (X[i] - mean_x) * (Y[i]-mean_y)\n",
        "  deno += (X[i] - mean_x) ** 2\n",
        "\n",
        "B1 = numer / deno\n",
        "B0 = mean_y - (B1 * mean_x)\n",
        "\n",
        "#Print coefficients\n",
        "print(B1 , B0) # B0 = m , B1 = c"
      ],
      "metadata": {
        "id": "GAqDMUjYePmQ"
      },
      "execution_count": null,
      "outputs": []
    },
    {
      "cell_type": "markdown",
      "source": [
        "Plotting the graph"
      ],
      "metadata": {
        "id": "h7oyb4ICgB5Y"
      }
    },
    {
      "cell_type": "code",
      "source": [
        "#Plotting values and regression lines \n",
        "max_x = np.max(X)+100\n",
        "min_x = np.min(X)-100\n",
        "\n",
        "#Calculating line values x and y\n",
        "x = np.linspace(min_x, max_x,1000)\n",
        "y = B0 + B1 * x\n",
        "\n",
        "#Plotting line\n",
        "plt.plot(x,y,color='red',label='Regression Line')\n",
        "#Plotting scatter points\n",
        "plt.scatter(X,Y,color='blue',label='Scatter Points')\n",
        "\n",
        "plt.xlabel('Head size in cm3')\n",
        "plt.ylabel('Brain weight in grams')\n",
        "plt.legend()\n",
        "plt.show()"
      ],
      "metadata": {
        "id": "hUVUnhxggEJH"
      },
      "execution_count": null,
      "outputs": []
    },
    {
      "cell_type": "markdown",
      "source": [
        "Calculating the R squared value"
      ],
      "metadata": {
        "id": "5kBIvdxWh64t"
      }
    },
    {
      "cell_type": "code",
      "source": [
        "ss_t = 0 #ss_t is the total sum\n",
        "ss_r = 0 #ss_r is the total sum of square\n",
        "\n",
        "for i in range(m):\n",
        "  y_pred = B0 + B1 * X[i]\n",
        "  ss_t += (Y[i] - mean_y) ** 2\n",
        "  ss_r += (Y[i] - y_pred) ** 2\n",
        "\n",
        "r2 = 1 - (ss_r / ss_t)\n",
        "print(r2)\n"
      ],
      "metadata": {
        "id": "92MW8PO2h9SH"
      },
      "execution_count": null,
      "outputs": []
    }
  ]
}