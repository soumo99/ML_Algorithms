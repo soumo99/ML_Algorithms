{
  "nbformat": 4,
  "nbformat_minor": 0,
  "metadata": {
    "colab": {
      "name": "Logistic_Regression_Implementations.ipynb",
      "private_outputs": true,
      "provenance": [],
      "authorship_tag": "ABX9TyOBDzAEOYHwPM2LCUU6IUDf",
      "include_colab_link": true
    },
    "kernelspec": {
      "name": "python3",
      "display_name": "Python 3"
    },
    "language_info": {
      "name": "python"
    }
  },
  "cells": [
    {
      "cell_type": "markdown",
      "metadata": {
        "id": "view-in-github",
        "colab_type": "text"
      },
      "source": [
        "<a href=\"https://colab.research.google.com/github/soumo99/ML_codes/blob/main/Logistic_Regression_Implementations.ipynb\" target=\"_parent\"><img src=\"https://colab.research.google.com/assets/colab-badge.svg\" alt=\"Open In Colab\"/></a>"
      ]
    },
    {
      "cell_type": "markdown",
      "source": [
        "TECHNIQUE 1"
      ],
      "metadata": {
        "id": "av2KQHXJvZU_"
      }
    },
    {
      "cell_type": "code",
      "source": [
        "import pandas as pd\n",
        "import matplotlib.pyplot as plt"
      ],
      "metadata": {
        "id": "39af7LdKvZse"
      },
      "execution_count": null,
      "outputs": []
    },
    {
      "cell_type": "code",
      "source": [
        "data = pd.read_csv(\"/content/Customer.csv\")\n",
        "data"
      ],
      "metadata": {
        "id": "lj_PJLMbpZPw"
      },
      "execution_count": null,
      "outputs": []
    },
    {
      "cell_type": "code",
      "source": [
        "data.shape"
      ],
      "metadata": {
        "id": "TTiizBN2ptib"
      },
      "execution_count": null,
      "outputs": []
    },
    {
      "cell_type": "code",
      "source": [
        "data.head()"
      ],
      "metadata": {
        "id": "RljyenZrpwwV"
      },
      "execution_count": null,
      "outputs": []
    },
    {
      "cell_type": "code",
      "source": [
        "data.tail()"
      ],
      "metadata": {
        "id": "uODKrX8apzHK"
      },
      "execution_count": null,
      "outputs": []
    },
    {
      "cell_type": "code",
      "source": [
        "data.info"
      ],
      "metadata": {
        "id": "kFkTegT7p3fJ"
      },
      "execution_count": null,
      "outputs": []
    },
    {
      "cell_type": "code",
      "source": [
        "plt.scatter(data.Age,data.State,marker=\"*\",color=\"red\")"
      ],
      "metadata": {
        "id": "JVUg8FTcqPr1"
      },
      "execution_count": null,
      "outputs": []
    },
    {
      "cell_type": "code",
      "source": [
        "from sklearn.model_selection import train_test_split"
      ],
      "metadata": {
        "id": "Z_FLQcukrklG"
      },
      "execution_count": null,
      "outputs": []
    },
    {
      "cell_type": "code",
      "source": [
        "X_train, X_test, y_train,y_test = train_test_split(data[['Age']],data.State,test_size=0.1)"
      ],
      "metadata": {
        "id": "yPL2lHUZrsaf"
      },
      "execution_count": null,
      "outputs": []
    },
    {
      "cell_type": "code",
      "source": [
        "X_test"
      ],
      "metadata": {
        "id": "-IEv9-PMr_aW"
      },
      "execution_count": null,
      "outputs": []
    },
    {
      "cell_type": "code",
      "source": [
        "X_train"
      ],
      "metadata": {
        "id": "T5hvYoPOsB_I"
      },
      "execution_count": null,
      "outputs": []
    },
    {
      "cell_type": "code",
      "source": [
        "from sklearn.linear_model import LogisticRegression"
      ],
      "metadata": {
        "id": "TQ0xS3IbsJBl"
      },
      "execution_count": null,
      "outputs": []
    },
    {
      "cell_type": "code",
      "source": [
        "model = LogisticRegression()"
      ],
      "metadata": {
        "id": "VB-K8N0GtPaM"
      },
      "execution_count": null,
      "outputs": []
    },
    {
      "cell_type": "markdown",
      "source": [
        "Training the model"
      ],
      "metadata": {
        "id": "SuxltP6StWD4"
      }
    },
    {
      "cell_type": "code",
      "source": [
        "model.fit(X_train,y_train)"
      ],
      "metadata": {
        "id": "Jmb2iZUPtR56"
      },
      "execution_count": null,
      "outputs": []
    },
    {
      "cell_type": "code",
      "source": [
        "model.predict(X_test)"
      ],
      "metadata": {
        "id": "6v7gk0Actcen"
      },
      "execution_count": null,
      "outputs": []
    },
    {
      "cell_type": "code",
      "source": [
        "model.score(X_test,y_test)"
      ],
      "metadata": {
        "id": "8e5wlJymuLNb"
      },
      "execution_count": null,
      "outputs": []
    },
    {
      "cell_type": "code",
      "source": [
        "model.predict_proba(X_test)"
      ],
      "metadata": {
        "id": "MuQx7mhHuYtA"
      },
      "execution_count": null,
      "outputs": []
    },
    {
      "cell_type": "code",
      "source": [
        "# model.predict(56)"
      ],
      "metadata": {
        "id": "QnkgGiqBunMr"
      },
      "execution_count": null,
      "outputs": []
    },
    {
      "cell_type": "markdown",
      "source": [
        "TECHNIQUE 2"
      ],
      "metadata": {
        "id": "VeMFFRtTvVM2"
      }
    },
    {
      "cell_type": "code",
      "source": [
        "import seaborn as sns\n",
        "import numpy as np\n",
        "import pandas as pd"
      ],
      "metadata": {
        "id": "1w7XxNwTvX_o"
      },
      "execution_count": null,
      "outputs": []
    },
    {
      "cell_type": "code",
      "source": [
        "df = sns.load_dataset('iris')"
      ],
      "metadata": {
        "id": "8iDOqDNbvnpd"
      },
      "execution_count": null,
      "outputs": []
    },
    {
      "cell_type": "code",
      "source": [
        "df.head()"
      ],
      "metadata": {
        "id": "eVQl6CmxvtkN"
      },
      "execution_count": null,
      "outputs": []
    },
    {
      "cell_type": "code",
      "source": [
        "df.tail()"
      ],
      "metadata": {
        "id": "NoSEz-2cvvQT"
      },
      "execution_count": null,
      "outputs": []
    },
    {
      "cell_type": "code",
      "source": [
        "df.shape"
      ],
      "metadata": {
        "id": "bNokEyG-vwnV"
      },
      "execution_count": null,
      "outputs": []
    },
    {
      "cell_type": "code",
      "source": [
        "df.info"
      ],
      "metadata": {
        "id": "jKOZBSt8vyGS"
      },
      "execution_count": null,
      "outputs": []
    },
    {
      "cell_type": "code",
      "source": [
        "df['species'].unique()"
      ],
      "metadata": {
        "id": "auCGF76qv5-K"
      },
      "execution_count": null,
      "outputs": []
    },
    {
      "cell_type": "code",
      "source": [
        "df.isnull().sum()"
      ],
      "metadata": {
        "id": "Vax84ZNfyh1t"
      },
      "execution_count": null,
      "outputs": []
    },
    {
      "cell_type": "markdown",
      "source": [
        "Removing setosa category column from the dataset since losgistic regression is best for binary class classification so we will work on only 2 categories"
      ],
      "metadata": {
        "id": "STkWZqQmy4cG"
      }
    },
    {
      "cell_type": "code",
      "source": [
        "#True means setosa is not present and false measn setosa is present \n",
        "df['species'] != 'setosa'"
      ],
      "metadata": {
        "id": "_03zW5KBy73E"
      },
      "execution_count": null,
      "outputs": []
    },
    {
      "cell_type": "code",
      "source": [
        "df[df['species'] != 'setosa']"
      ],
      "metadata": {
        "id": "kMSnf9Hlzibf"
      },
      "execution_count": null,
      "outputs": []
    },
    {
      "cell_type": "code",
      "source": [
        "df = df[df['species'] != 'setosa']"
      ],
      "metadata": {
        "id": "NNu_xSSIzo-v"
      },
      "execution_count": null,
      "outputs": []
    },
    {
      "cell_type": "code",
      "source": [
        "df.head()"
      ],
      "metadata": {
        "id": "2xmWLkVnzux1"
      },
      "execution_count": null,
      "outputs": []
    },
    {
      "cell_type": "code",
      "source": [
        "df['species'] = df['species'].map({'versicolor':0,'virginica':1})"
      ],
      "metadata": {
        "id": "U0E98X0Wz7vA"
      },
      "execution_count": null,
      "outputs": []
    },
    {
      "cell_type": "code",
      "source": [
        "df.head()"
      ],
      "metadata": {
        "id": "MltOstlp0WSH"
      },
      "execution_count": null,
      "outputs": []
    },
    {
      "cell_type": "code",
      "source": [
        "df.tail()"
      ],
      "metadata": {
        "id": "kHmPSxRf0a_K"
      },
      "execution_count": null,
      "outputs": []
    },
    {
      "cell_type": "markdown",
      "source": [
        "Dividing into train test split as dependent and independent"
      ],
      "metadata": {
        "id": "Y29BkHlN0oZb"
      }
    },
    {
      "cell_type": "code",
      "source": [
        "X = df.iloc[:,:-1] #taking all the columns except the last one \n",
        "Y = df.iloc[:,-1] #taking only the last column "
      ],
      "metadata": {
        "id": "Y212-eSx0uwo"
      },
      "execution_count": null,
      "outputs": []
    },
    {
      "cell_type": "code",
      "source": [
        "X"
      ],
      "metadata": {
        "id": "JMoP3Z6U206p"
      },
      "execution_count": null,
      "outputs": []
    },
    {
      "cell_type": "code",
      "source": [
        "Y"
      ],
      "metadata": {
        "id": "9uieJd2f28TL"
      },
      "execution_count": null,
      "outputs": []
    },
    {
      "cell_type": "code",
      "source": [
        "from sklearn.model_selection import train_test_split"
      ],
      "metadata": {
        "id": "7sPYqiaK3F7N"
      },
      "execution_count": null,
      "outputs": []
    },
    {
      "cell_type": "code",
      "source": [
        "X_train, X_test, y_train,y_test = train_test_split(X,Y,test_size=0.25,random_state=42)"
      ],
      "metadata": {
        "id": "0qUBKSOK3ZKB"
      },
      "execution_count": null,
      "outputs": []
    },
    {
      "cell_type": "markdown",
      "source": [
        "Validations - test data is being used for validations , model predicts from that and finds out the different results ,accuracy\n",
        "\n",
        "we will use the X_train and Y_train for validations and cross validations "
      ],
      "metadata": {
        "id": "mivZm5P04JMo"
      }
    },
    {
      "cell_type": "markdown",
      "source": [
        "GridSearchCV will be used for hyperparameter tuning with other parameters which compares and checks for the best *accuracy*"
      ],
      "metadata": {
        "id": "p1z4dw876BTf"
      }
    },
    {
      "cell_type": "code",
      "source": [
        "from sklearn.linear_model import LogisticRegression"
      ],
      "metadata": {
        "id": "fO_H7Hm64IZ5"
      },
      "execution_count": null,
      "outputs": []
    },
    {
      "cell_type": "code",
      "source": [
        "classifier = LogisticRegression()"
      ],
      "metadata": {
        "id": "U9E63Ep96W2N"
      },
      "execution_count": null,
      "outputs": []
    },
    {
      "cell_type": "code",
      "source": [
        "from sklearn.model_selection import GridSearchCV"
      ],
      "metadata": {
        "id": "Ll2xk-8d6nCf"
      },
      "execution_count": null,
      "outputs": []
    },
    {
      "cell_type": "code",
      "source": [
        "#https://scikit-learn.org/stable/modules/generated/sklearn.linear_model.LogisticRegression.html\n",
        "#It means that we are tunning all the mentioned parameters with the hyperparameter tunning . \n",
        "parameters = {'penalty':['l1','l2','elasticnet'],'C':[1,2,3,4,5,6,10,20,30,40,50],'max_iter':[100,200,300]}"
      ],
      "metadata": {
        "id": "tx6PInxC7OiM"
      },
      "execution_count": null,
      "outputs": []
    },
    {
      "cell_type": "code",
      "source": [
        "#cv = cross validation wll internaly divide the training data set into small parts and will apply all the parameters and will find out the best one\n",
        "#classifier_regressor , name of the model\n",
        "classifier_regressor = GridSearchCV(classifier,param_grid=parameters,scoring='accuracy',cv=5)"
      ],
      "metadata": {
        "id": "SgRxOQyb8Mxq"
      },
      "execution_count": null,
      "outputs": []
    },
    {
      "cell_type": "code",
      "source": [
        "classifier_regressor.fit(X_train, y_train)"
      ],
      "metadata": {
        "id": "wFIY9lkA9PsL"
      },
      "execution_count": null,
      "outputs": []
    },
    {
      "cell_type": "markdown",
      "source": [
        "Checking which of the best parameters are being selected "
      ],
      "metadata": {
        "id": "fkb4hlM8-Kru"
      }
    },
    {
      "cell_type": "code",
      "source": [
        "print(classifier_regressor.best_params_)"
      ],
      "metadata": {
        "id": "hTdtalKI-O97"
      },
      "execution_count": null,
      "outputs": []
    },
    {
      "cell_type": "markdown",
      "source": [
        "Checking for the best score"
      ],
      "metadata": {
        "id": "JGCMI1qM-b3K"
      }
    },
    {
      "cell_type": "code",
      "source": [
        "print(classifier_regressor.best_score_)"
      ],
      "metadata": {
        "id": "KJ0NpbTn-bGJ"
      },
      "execution_count": null,
      "outputs": []
    },
    {
      "cell_type": "markdown",
      "source": [
        "Predictions "
      ],
      "metadata": {
        "id": "HqwmElYi-xpl"
      }
    },
    {
      "cell_type": "code",
      "source": [
        "y_pred = classifier_regressor.predict(X_test)"
      ],
      "metadata": {
        "id": "iBuKKxKp-yqA"
      },
      "execution_count": null,
      "outputs": []
    },
    {
      "cell_type": "markdown",
      "source": [
        "Calculating the accuracy score "
      ],
      "metadata": {
        "id": "VbUvCWGH_Ac2"
      }
    },
    {
      "cell_type": "code",
      "source": [
        "from sklearn.metrics import accuracy_score,classification_report"
      ],
      "metadata": {
        "id": "7FXJARne-_tu"
      },
      "execution_count": null,
      "outputs": []
    },
    {
      "cell_type": "code",
      "source": [
        "score = accuracy_score(y_pred,y_test)\n",
        "print(score)"
      ],
      "metadata": {
        "id": "fD6xlW2k_OwL"
      },
      "execution_count": null,
      "outputs": []
    },
    {
      "cell_type": "code",
      "source": [
        "print(classification_report(y_pred,y_test))"
      ],
      "metadata": {
        "id": "GeTIl8i1_iNO"
      },
      "execution_count": null,
      "outputs": []
    },
    {
      "cell_type": "markdown",
      "source": [
        "Performing EDA"
      ],
      "metadata": {
        "id": "r8WrifqU_27W"
      }
    },
    {
      "cell_type": "code",
      "source": [
        "sns.pairplot(df,hue='species')"
      ],
      "metadata": {
        "id": "8l3d4SC7_4bL"
      },
      "execution_count": null,
      "outputs": []
    },
    {
      "cell_type": "markdown",
      "source": [
        "Correlation"
      ],
      "metadata": {
        "id": "k6llXtZqAH29"
      }
    },
    {
      "cell_type": "code",
      "source": [
        "df.corr()"
      ],
      "metadata": {
        "id": "CP7U_0LYAJ1x"
      },
      "execution_count": null,
      "outputs": []
    }
  ]
}