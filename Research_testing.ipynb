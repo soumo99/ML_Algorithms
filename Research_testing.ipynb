{
 "cells": [
  {
   "cell_type": "code",
   "execution_count": 1,
   "id": "4cd312ac",
   "metadata": {},
   "outputs": [],
   "source": [
    "#Dataset link - https://www.kaggle.com/datasets/brsdincer/star-type-classification "
   ]
  },
  {
   "cell_type": "markdown",
   "id": "10500d4c",
   "metadata": {},
   "source": [
    "# DATA PREPROCESSING "
   ]
  },
  {
   "cell_type": "code",
   "execution_count": 2,
   "id": "7bc1c9cf",
   "metadata": {},
   "outputs": [],
   "source": [
    "import numpy as np\n",
    "import matplotlib.pyplot as plt\n",
    "import pandas as pd\n"
   ]
  },
  {
   "cell_type": "code",
   "execution_count": 3,
   "id": "a0f578a2",
   "metadata": {},
   "outputs": [],
   "source": [
    "df = pd.read_csv(\"/Users/soumobratamanna/Documents/AI_ML PROJECTS/Stars.csv\")"
   ]
  },
  {
   "cell_type": "code",
   "execution_count": 4,
   "id": "5eeaaa2d",
   "metadata": {},
   "outputs": [
    {
     "data": {
      "text/html": [
       "<div>\n",
       "<style scoped>\n",
       "    .dataframe tbody tr th:only-of-type {\n",
       "        vertical-align: middle;\n",
       "    }\n",
       "\n",
       "    .dataframe tbody tr th {\n",
       "        vertical-align: top;\n",
       "    }\n",
       "\n",
       "    .dataframe thead th {\n",
       "        text-align: right;\n",
       "    }\n",
       "</style>\n",
       "<table border=\"1\" class=\"dataframe\">\n",
       "  <thead>\n",
       "    <tr style=\"text-align: right;\">\n",
       "      <th></th>\n",
       "      <th>Temperature</th>\n",
       "      <th>L</th>\n",
       "      <th>R</th>\n",
       "      <th>A_M</th>\n",
       "      <th>Color</th>\n",
       "      <th>Spectral_Class</th>\n",
       "      <th>Type</th>\n",
       "    </tr>\n",
       "  </thead>\n",
       "  <tbody>\n",
       "    <tr>\n",
       "      <th>0</th>\n",
       "      <td>3068</td>\n",
       "      <td>0.002400</td>\n",
       "      <td>0.1700</td>\n",
       "      <td>16.12</td>\n",
       "      <td>Red</td>\n",
       "      <td>M</td>\n",
       "      <td>0</td>\n",
       "    </tr>\n",
       "    <tr>\n",
       "      <th>1</th>\n",
       "      <td>3042</td>\n",
       "      <td>0.000500</td>\n",
       "      <td>0.1542</td>\n",
       "      <td>16.60</td>\n",
       "      <td>Red</td>\n",
       "      <td>M</td>\n",
       "      <td>0</td>\n",
       "    </tr>\n",
       "    <tr>\n",
       "      <th>2</th>\n",
       "      <td>2600</td>\n",
       "      <td>0.000300</td>\n",
       "      <td>0.1020</td>\n",
       "      <td>18.70</td>\n",
       "      <td>Red</td>\n",
       "      <td>M</td>\n",
       "      <td>0</td>\n",
       "    </tr>\n",
       "    <tr>\n",
       "      <th>3</th>\n",
       "      <td>2800</td>\n",
       "      <td>0.000200</td>\n",
       "      <td>0.1600</td>\n",
       "      <td>16.65</td>\n",
       "      <td>Red</td>\n",
       "      <td>M</td>\n",
       "      <td>0</td>\n",
       "    </tr>\n",
       "    <tr>\n",
       "      <th>4</th>\n",
       "      <td>1939</td>\n",
       "      <td>0.000138</td>\n",
       "      <td>0.1030</td>\n",
       "      <td>20.06</td>\n",
       "      <td>Red</td>\n",
       "      <td>M</td>\n",
       "      <td>0</td>\n",
       "    </tr>\n",
       "    <tr>\n",
       "      <th>5</th>\n",
       "      <td>2840</td>\n",
       "      <td>0.000650</td>\n",
       "      <td>0.1100</td>\n",
       "      <td>16.98</td>\n",
       "      <td>Red</td>\n",
       "      <td>M</td>\n",
       "      <td>0</td>\n",
       "    </tr>\n",
       "    <tr>\n",
       "      <th>6</th>\n",
       "      <td>2637</td>\n",
       "      <td>0.000730</td>\n",
       "      <td>0.1270</td>\n",
       "      <td>17.22</td>\n",
       "      <td>Red</td>\n",
       "      <td>M</td>\n",
       "      <td>0</td>\n",
       "    </tr>\n",
       "    <tr>\n",
       "      <th>7</th>\n",
       "      <td>2600</td>\n",
       "      <td>0.000400</td>\n",
       "      <td>0.0960</td>\n",
       "      <td>17.40</td>\n",
       "      <td>Red</td>\n",
       "      <td>M</td>\n",
       "      <td>0</td>\n",
       "    </tr>\n",
       "    <tr>\n",
       "      <th>8</th>\n",
       "      <td>2650</td>\n",
       "      <td>0.000690</td>\n",
       "      <td>0.1100</td>\n",
       "      <td>17.45</td>\n",
       "      <td>Red</td>\n",
       "      <td>M</td>\n",
       "      <td>0</td>\n",
       "    </tr>\n",
       "    <tr>\n",
       "      <th>9</th>\n",
       "      <td>2700</td>\n",
       "      <td>0.000180</td>\n",
       "      <td>0.1300</td>\n",
       "      <td>16.05</td>\n",
       "      <td>Red</td>\n",
       "      <td>M</td>\n",
       "      <td>0</td>\n",
       "    </tr>\n",
       "  </tbody>\n",
       "</table>\n",
       "</div>"
      ],
      "text/plain": [
       "   Temperature         L       R    A_M Color Spectral_Class  Type\n",
       "0         3068  0.002400  0.1700  16.12   Red              M     0\n",
       "1         3042  0.000500  0.1542  16.60   Red              M     0\n",
       "2         2600  0.000300  0.1020  18.70   Red              M     0\n",
       "3         2800  0.000200  0.1600  16.65   Red              M     0\n",
       "4         1939  0.000138  0.1030  20.06   Red              M     0\n",
       "5         2840  0.000650  0.1100  16.98   Red              M     0\n",
       "6         2637  0.000730  0.1270  17.22   Red              M     0\n",
       "7         2600  0.000400  0.0960  17.40   Red              M     0\n",
       "8         2650  0.000690  0.1100  17.45   Red              M     0\n",
       "9         2700  0.000180  0.1300  16.05   Red              M     0"
      ]
     },
     "execution_count": 4,
     "metadata": {},
     "output_type": "execute_result"
    }
   ],
   "source": [
    "df.head(10)"
   ]
  },
  {
   "cell_type": "code",
   "execution_count": 5,
   "id": "8a44ce9b",
   "metadata": {},
   "outputs": [
    {
     "data": {
      "text/html": [
       "<div>\n",
       "<style scoped>\n",
       "    .dataframe tbody tr th:only-of-type {\n",
       "        vertical-align: middle;\n",
       "    }\n",
       "\n",
       "    .dataframe tbody tr th {\n",
       "        vertical-align: top;\n",
       "    }\n",
       "\n",
       "    .dataframe thead th {\n",
       "        text-align: right;\n",
       "    }\n",
       "</style>\n",
       "<table border=\"1\" class=\"dataframe\">\n",
       "  <thead>\n",
       "    <tr style=\"text-align: right;\">\n",
       "      <th></th>\n",
       "      <th>Temperature</th>\n",
       "      <th>L</th>\n",
       "      <th>R</th>\n",
       "      <th>A_M</th>\n",
       "      <th>Color</th>\n",
       "      <th>Spectral_Class</th>\n",
       "      <th>Type</th>\n",
       "    </tr>\n",
       "  </thead>\n",
       "  <tbody>\n",
       "    <tr>\n",
       "      <th>230</th>\n",
       "      <td>24145</td>\n",
       "      <td>382993.0</td>\n",
       "      <td>1494.0</td>\n",
       "      <td>-8.84</td>\n",
       "      <td>Blue-white</td>\n",
       "      <td>B</td>\n",
       "      <td>5</td>\n",
       "    </tr>\n",
       "    <tr>\n",
       "      <th>231</th>\n",
       "      <td>38234</td>\n",
       "      <td>272830.0</td>\n",
       "      <td>1356.0</td>\n",
       "      <td>-9.29</td>\n",
       "      <td>Blue</td>\n",
       "      <td>O</td>\n",
       "      <td>5</td>\n",
       "    </tr>\n",
       "    <tr>\n",
       "      <th>232</th>\n",
       "      <td>32489</td>\n",
       "      <td>648430.0</td>\n",
       "      <td>1948.5</td>\n",
       "      <td>-10.84</td>\n",
       "      <td>Blue</td>\n",
       "      <td>O</td>\n",
       "      <td>5</td>\n",
       "    </tr>\n",
       "    <tr>\n",
       "      <th>233</th>\n",
       "      <td>27739</td>\n",
       "      <td>849420.0</td>\n",
       "      <td>1252.0</td>\n",
       "      <td>-7.59</td>\n",
       "      <td>Blue-white</td>\n",
       "      <td>B</td>\n",
       "      <td>5</td>\n",
       "    </tr>\n",
       "    <tr>\n",
       "      <th>234</th>\n",
       "      <td>21904</td>\n",
       "      <td>748490.0</td>\n",
       "      <td>1130.0</td>\n",
       "      <td>-7.67</td>\n",
       "      <td>Blue-white</td>\n",
       "      <td>B</td>\n",
       "      <td>5</td>\n",
       "    </tr>\n",
       "    <tr>\n",
       "      <th>235</th>\n",
       "      <td>38940</td>\n",
       "      <td>374830.0</td>\n",
       "      <td>1356.0</td>\n",
       "      <td>-9.93</td>\n",
       "      <td>Blue</td>\n",
       "      <td>O</td>\n",
       "      <td>5</td>\n",
       "    </tr>\n",
       "    <tr>\n",
       "      <th>236</th>\n",
       "      <td>30839</td>\n",
       "      <td>834042.0</td>\n",
       "      <td>1194.0</td>\n",
       "      <td>-10.63</td>\n",
       "      <td>Blue</td>\n",
       "      <td>O</td>\n",
       "      <td>5</td>\n",
       "    </tr>\n",
       "    <tr>\n",
       "      <th>237</th>\n",
       "      <td>8829</td>\n",
       "      <td>537493.0</td>\n",
       "      <td>1423.0</td>\n",
       "      <td>-10.73</td>\n",
       "      <td>White</td>\n",
       "      <td>A</td>\n",
       "      <td>5</td>\n",
       "    </tr>\n",
       "    <tr>\n",
       "      <th>238</th>\n",
       "      <td>9235</td>\n",
       "      <td>404940.0</td>\n",
       "      <td>1112.0</td>\n",
       "      <td>-11.23</td>\n",
       "      <td>White</td>\n",
       "      <td>A</td>\n",
       "      <td>5</td>\n",
       "    </tr>\n",
       "    <tr>\n",
       "      <th>239</th>\n",
       "      <td>37882</td>\n",
       "      <td>294903.0</td>\n",
       "      <td>1783.0</td>\n",
       "      <td>-7.80</td>\n",
       "      <td>Blue</td>\n",
       "      <td>O</td>\n",
       "      <td>5</td>\n",
       "    </tr>\n",
       "  </tbody>\n",
       "</table>\n",
       "</div>"
      ],
      "text/plain": [
       "     Temperature         L       R    A_M       Color Spectral_Class  Type\n",
       "230        24145  382993.0  1494.0  -8.84  Blue-white              B     5\n",
       "231        38234  272830.0  1356.0  -9.29        Blue              O     5\n",
       "232        32489  648430.0  1948.5 -10.84        Blue              O     5\n",
       "233        27739  849420.0  1252.0  -7.59  Blue-white              B     5\n",
       "234        21904  748490.0  1130.0  -7.67  Blue-white              B     5\n",
       "235        38940  374830.0  1356.0  -9.93        Blue              O     5\n",
       "236        30839  834042.0  1194.0 -10.63        Blue              O     5\n",
       "237         8829  537493.0  1423.0 -10.73       White              A     5\n",
       "238         9235  404940.0  1112.0 -11.23       White              A     5\n",
       "239        37882  294903.0  1783.0  -7.80        Blue              O     5"
      ]
     },
     "execution_count": 5,
     "metadata": {},
     "output_type": "execute_result"
    }
   ],
   "source": [
    "df.tail(10)"
   ]
  },
  {
   "cell_type": "code",
   "execution_count": 6,
   "id": "927d6627",
   "metadata": {},
   "outputs": [
    {
     "data": {
      "text/plain": [
       "array(['M', 'B', 'A', 'F', 'O', 'K', 'G'], dtype=object)"
      ]
     },
     "execution_count": 6,
     "metadata": {},
     "output_type": "execute_result"
    }
   ],
   "source": [
    "df['Spectral_Class'].unique()"
   ]
  },
  {
   "cell_type": "code",
   "execution_count": 7,
   "id": "fa2525d6",
   "metadata": {},
   "outputs": [],
   "source": [
    "#Removing B,A,F ,K ,G from the spectral_class \n",
    "\n",
    "indexes=df[(df['Spectral_Class']=='A') | (df['Spectral_Class'] =='B')| (df['Spectral_Class'] =='F')|(df['Spectral_Class'] =='G')|(df['Spectral_Class'] =='K')].index\n",
    "df.drop(indexes,inplace=True)"
   ]
  },
  {
   "cell_type": "code",
   "execution_count": 8,
   "id": "8750f656",
   "metadata": {},
   "outputs": [
    {
     "data": {
      "text/html": [
       "<div>\n",
       "<style scoped>\n",
       "    .dataframe tbody tr th:only-of-type {\n",
       "        vertical-align: middle;\n",
       "    }\n",
       "\n",
       "    .dataframe tbody tr th {\n",
       "        vertical-align: top;\n",
       "    }\n",
       "\n",
       "    .dataframe thead th {\n",
       "        text-align: right;\n",
       "    }\n",
       "</style>\n",
       "<table border=\"1\" class=\"dataframe\">\n",
       "  <thead>\n",
       "    <tr style=\"text-align: right;\">\n",
       "      <th></th>\n",
       "      <th>Temperature</th>\n",
       "      <th>L</th>\n",
       "      <th>R</th>\n",
       "      <th>A_M</th>\n",
       "      <th>Color</th>\n",
       "      <th>Spectral_Class</th>\n",
       "      <th>Type</th>\n",
       "    </tr>\n",
       "  </thead>\n",
       "  <tbody>\n",
       "    <tr>\n",
       "      <th>0</th>\n",
       "      <td>3068</td>\n",
       "      <td>0.002400</td>\n",
       "      <td>0.1700</td>\n",
       "      <td>16.12</td>\n",
       "      <td>Red</td>\n",
       "      <td>M</td>\n",
       "      <td>0</td>\n",
       "    </tr>\n",
       "    <tr>\n",
       "      <th>1</th>\n",
       "      <td>3042</td>\n",
       "      <td>0.000500</td>\n",
       "      <td>0.1542</td>\n",
       "      <td>16.60</td>\n",
       "      <td>Red</td>\n",
       "      <td>M</td>\n",
       "      <td>0</td>\n",
       "    </tr>\n",
       "    <tr>\n",
       "      <th>2</th>\n",
       "      <td>2600</td>\n",
       "      <td>0.000300</td>\n",
       "      <td>0.1020</td>\n",
       "      <td>18.70</td>\n",
       "      <td>Red</td>\n",
       "      <td>M</td>\n",
       "      <td>0</td>\n",
       "    </tr>\n",
       "    <tr>\n",
       "      <th>3</th>\n",
       "      <td>2800</td>\n",
       "      <td>0.000200</td>\n",
       "      <td>0.1600</td>\n",
       "      <td>16.65</td>\n",
       "      <td>Red</td>\n",
       "      <td>M</td>\n",
       "      <td>0</td>\n",
       "    </tr>\n",
       "    <tr>\n",
       "      <th>4</th>\n",
       "      <td>1939</td>\n",
       "      <td>0.000138</td>\n",
       "      <td>0.1030</td>\n",
       "      <td>20.06</td>\n",
       "      <td>Red</td>\n",
       "      <td>M</td>\n",
       "      <td>0</td>\n",
       "    </tr>\n",
       "  </tbody>\n",
       "</table>\n",
       "</div>"
      ],
      "text/plain": [
       "   Temperature         L       R    A_M Color Spectral_Class  Type\n",
       "0         3068  0.002400  0.1700  16.12   Red              M     0\n",
       "1         3042  0.000500  0.1542  16.60   Red              M     0\n",
       "2         2600  0.000300  0.1020  18.70   Red              M     0\n",
       "3         2800  0.000200  0.1600  16.65   Red              M     0\n",
       "4         1939  0.000138  0.1030  20.06   Red              M     0"
      ]
     },
     "execution_count": 8,
     "metadata": {},
     "output_type": "execute_result"
    }
   ],
   "source": [
    "df.head()"
   ]
  },
  {
   "cell_type": "code",
   "execution_count": 9,
   "id": "9314f398",
   "metadata": {},
   "outputs": [
    {
     "data": {
      "text/html": [
       "<div>\n",
       "<style scoped>\n",
       "    .dataframe tbody tr th:only-of-type {\n",
       "        vertical-align: middle;\n",
       "    }\n",
       "\n",
       "    .dataframe tbody tr th {\n",
       "        vertical-align: top;\n",
       "    }\n",
       "\n",
       "    .dataframe thead th {\n",
       "        text-align: right;\n",
       "    }\n",
       "</style>\n",
       "<table border=\"1\" class=\"dataframe\">\n",
       "  <thead>\n",
       "    <tr style=\"text-align: right;\">\n",
       "      <th></th>\n",
       "      <th>Temperature</th>\n",
       "      <th>L</th>\n",
       "      <th>R</th>\n",
       "      <th>A_M</th>\n",
       "      <th>Color</th>\n",
       "      <th>Spectral_Class</th>\n",
       "      <th>Type</th>\n",
       "    </tr>\n",
       "  </thead>\n",
       "  <tbody>\n",
       "    <tr>\n",
       "      <th>231</th>\n",
       "      <td>38234</td>\n",
       "      <td>272830.0</td>\n",
       "      <td>1356.0</td>\n",
       "      <td>-9.29</td>\n",
       "      <td>Blue</td>\n",
       "      <td>O</td>\n",
       "      <td>5</td>\n",
       "    </tr>\n",
       "    <tr>\n",
       "      <th>232</th>\n",
       "      <td>32489</td>\n",
       "      <td>648430.0</td>\n",
       "      <td>1948.5</td>\n",
       "      <td>-10.84</td>\n",
       "      <td>Blue</td>\n",
       "      <td>O</td>\n",
       "      <td>5</td>\n",
       "    </tr>\n",
       "    <tr>\n",
       "      <th>235</th>\n",
       "      <td>38940</td>\n",
       "      <td>374830.0</td>\n",
       "      <td>1356.0</td>\n",
       "      <td>-9.93</td>\n",
       "      <td>Blue</td>\n",
       "      <td>O</td>\n",
       "      <td>5</td>\n",
       "    </tr>\n",
       "    <tr>\n",
       "      <th>236</th>\n",
       "      <td>30839</td>\n",
       "      <td>834042.0</td>\n",
       "      <td>1194.0</td>\n",
       "      <td>-10.63</td>\n",
       "      <td>Blue</td>\n",
       "      <td>O</td>\n",
       "      <td>5</td>\n",
       "    </tr>\n",
       "    <tr>\n",
       "      <th>239</th>\n",
       "      <td>37882</td>\n",
       "      <td>294903.0</td>\n",
       "      <td>1783.0</td>\n",
       "      <td>-7.80</td>\n",
       "      <td>Blue</td>\n",
       "      <td>O</td>\n",
       "      <td>5</td>\n",
       "    </tr>\n",
       "  </tbody>\n",
       "</table>\n",
       "</div>"
      ],
      "text/plain": [
       "     Temperature         L       R    A_M Color Spectral_Class  Type\n",
       "231        38234  272830.0  1356.0  -9.29  Blue              O     5\n",
       "232        32489  648430.0  1948.5 -10.84  Blue              O     5\n",
       "235        38940  374830.0  1356.0  -9.93  Blue              O     5\n",
       "236        30839  834042.0  1194.0 -10.63  Blue              O     5\n",
       "239        37882  294903.0  1783.0  -7.80  Blue              O     5"
      ]
     },
     "execution_count": 9,
     "metadata": {},
     "output_type": "execute_result"
    }
   ],
   "source": [
    "df.tail()"
   ]
  },
  {
   "cell_type": "code",
   "execution_count": 10,
   "id": "2d9c9f48",
   "metadata": {},
   "outputs": [],
   "source": [
    "#Encoding M and O into 1 and 2\n",
    "df['Spectral_Class'] = df['Spectral_Class'].map({'M':1,'O':2})"
   ]
  },
  {
   "cell_type": "code",
   "execution_count": 11,
   "id": "10f37ad6",
   "metadata": {},
   "outputs": [
    {
     "data": {
      "text/html": [
       "<div>\n",
       "<style scoped>\n",
       "    .dataframe tbody tr th:only-of-type {\n",
       "        vertical-align: middle;\n",
       "    }\n",
       "\n",
       "    .dataframe tbody tr th {\n",
       "        vertical-align: top;\n",
       "    }\n",
       "\n",
       "    .dataframe thead th {\n",
       "        text-align: right;\n",
       "    }\n",
       "</style>\n",
       "<table border=\"1\" class=\"dataframe\">\n",
       "  <thead>\n",
       "    <tr style=\"text-align: right;\">\n",
       "      <th></th>\n",
       "      <th>Temperature</th>\n",
       "      <th>L</th>\n",
       "      <th>R</th>\n",
       "      <th>A_M</th>\n",
       "      <th>Color</th>\n",
       "      <th>Spectral_Class</th>\n",
       "      <th>Type</th>\n",
       "    </tr>\n",
       "  </thead>\n",
       "  <tbody>\n",
       "    <tr>\n",
       "      <th>0</th>\n",
       "      <td>3068</td>\n",
       "      <td>0.002400</td>\n",
       "      <td>0.1700</td>\n",
       "      <td>16.12</td>\n",
       "      <td>Red</td>\n",
       "      <td>1</td>\n",
       "      <td>0</td>\n",
       "    </tr>\n",
       "    <tr>\n",
       "      <th>1</th>\n",
       "      <td>3042</td>\n",
       "      <td>0.000500</td>\n",
       "      <td>0.1542</td>\n",
       "      <td>16.60</td>\n",
       "      <td>Red</td>\n",
       "      <td>1</td>\n",
       "      <td>0</td>\n",
       "    </tr>\n",
       "    <tr>\n",
       "      <th>2</th>\n",
       "      <td>2600</td>\n",
       "      <td>0.000300</td>\n",
       "      <td>0.1020</td>\n",
       "      <td>18.70</td>\n",
       "      <td>Red</td>\n",
       "      <td>1</td>\n",
       "      <td>0</td>\n",
       "    </tr>\n",
       "    <tr>\n",
       "      <th>3</th>\n",
       "      <td>2800</td>\n",
       "      <td>0.000200</td>\n",
       "      <td>0.1600</td>\n",
       "      <td>16.65</td>\n",
       "      <td>Red</td>\n",
       "      <td>1</td>\n",
       "      <td>0</td>\n",
       "    </tr>\n",
       "    <tr>\n",
       "      <th>4</th>\n",
       "      <td>1939</td>\n",
       "      <td>0.000138</td>\n",
       "      <td>0.1030</td>\n",
       "      <td>20.06</td>\n",
       "      <td>Red</td>\n",
       "      <td>1</td>\n",
       "      <td>0</td>\n",
       "    </tr>\n",
       "  </tbody>\n",
       "</table>\n",
       "</div>"
      ],
      "text/plain": [
       "   Temperature         L       R    A_M Color  Spectral_Class  Type\n",
       "0         3068  0.002400  0.1700  16.12   Red               1     0\n",
       "1         3042  0.000500  0.1542  16.60   Red               1     0\n",
       "2         2600  0.000300  0.1020  18.70   Red               1     0\n",
       "3         2800  0.000200  0.1600  16.65   Red               1     0\n",
       "4         1939  0.000138  0.1030  20.06   Red               1     0"
      ]
     },
     "execution_count": 11,
     "metadata": {},
     "output_type": "execute_result"
    }
   ],
   "source": [
    "df.head()"
   ]
  },
  {
   "cell_type": "code",
   "execution_count": 12,
   "id": "0fea08ab",
   "metadata": {},
   "outputs": [
    {
     "data": {
      "text/html": [
       "<div>\n",
       "<style scoped>\n",
       "    .dataframe tbody tr th:only-of-type {\n",
       "        vertical-align: middle;\n",
       "    }\n",
       "\n",
       "    .dataframe tbody tr th {\n",
       "        vertical-align: top;\n",
       "    }\n",
       "\n",
       "    .dataframe thead th {\n",
       "        text-align: right;\n",
       "    }\n",
       "</style>\n",
       "<table border=\"1\" class=\"dataframe\">\n",
       "  <thead>\n",
       "    <tr style=\"text-align: right;\">\n",
       "      <th></th>\n",
       "      <th>Temperature</th>\n",
       "      <th>L</th>\n",
       "      <th>R</th>\n",
       "      <th>A_M</th>\n",
       "      <th>Color</th>\n",
       "      <th>Spectral_Class</th>\n",
       "      <th>Type</th>\n",
       "    </tr>\n",
       "  </thead>\n",
       "  <tbody>\n",
       "    <tr>\n",
       "      <th>231</th>\n",
       "      <td>38234</td>\n",
       "      <td>272830.0</td>\n",
       "      <td>1356.0</td>\n",
       "      <td>-9.29</td>\n",
       "      <td>Blue</td>\n",
       "      <td>2</td>\n",
       "      <td>5</td>\n",
       "    </tr>\n",
       "    <tr>\n",
       "      <th>232</th>\n",
       "      <td>32489</td>\n",
       "      <td>648430.0</td>\n",
       "      <td>1948.5</td>\n",
       "      <td>-10.84</td>\n",
       "      <td>Blue</td>\n",
       "      <td>2</td>\n",
       "      <td>5</td>\n",
       "    </tr>\n",
       "    <tr>\n",
       "      <th>235</th>\n",
       "      <td>38940</td>\n",
       "      <td>374830.0</td>\n",
       "      <td>1356.0</td>\n",
       "      <td>-9.93</td>\n",
       "      <td>Blue</td>\n",
       "      <td>2</td>\n",
       "      <td>5</td>\n",
       "    </tr>\n",
       "    <tr>\n",
       "      <th>236</th>\n",
       "      <td>30839</td>\n",
       "      <td>834042.0</td>\n",
       "      <td>1194.0</td>\n",
       "      <td>-10.63</td>\n",
       "      <td>Blue</td>\n",
       "      <td>2</td>\n",
       "      <td>5</td>\n",
       "    </tr>\n",
       "    <tr>\n",
       "      <th>239</th>\n",
       "      <td>37882</td>\n",
       "      <td>294903.0</td>\n",
       "      <td>1783.0</td>\n",
       "      <td>-7.80</td>\n",
       "      <td>Blue</td>\n",
       "      <td>2</td>\n",
       "      <td>5</td>\n",
       "    </tr>\n",
       "  </tbody>\n",
       "</table>\n",
       "</div>"
      ],
      "text/plain": [
       "     Temperature         L       R    A_M Color  Spectral_Class  Type\n",
       "231        38234  272830.0  1356.0  -9.29  Blue               2     5\n",
       "232        32489  648430.0  1948.5 -10.84  Blue               2     5\n",
       "235        38940  374830.0  1356.0  -9.93  Blue               2     5\n",
       "236        30839  834042.0  1194.0 -10.63  Blue               2     5\n",
       "239        37882  294903.0  1783.0  -7.80  Blue               2     5"
      ]
     },
     "execution_count": 12,
     "metadata": {},
     "output_type": "execute_result"
    }
   ],
   "source": [
    "df.tail()"
   ]
  },
  {
   "cell_type": "code",
   "execution_count": 13,
   "id": "4de1d5f4",
   "metadata": {},
   "outputs": [],
   "source": [
    "#Dropping the color column\n",
    "df = df.drop(['Color'], axis=1)"
   ]
  },
  {
   "cell_type": "code",
   "execution_count": 14,
   "id": "fe56cc9b",
   "metadata": {},
   "outputs": [],
   "source": [
    "#Differentiating between dependent and independent variables \n",
    "X = df.drop(['Temperature'],axis=1)\n",
    "Y = df['Temperature']"
   ]
  },
  {
   "cell_type": "code",
   "execution_count": 15,
   "id": "c3f87a87",
   "metadata": {},
   "outputs": [
    {
     "data": {
      "text/html": [
       "<div>\n",
       "<style scoped>\n",
       "    .dataframe tbody tr th:only-of-type {\n",
       "        vertical-align: middle;\n",
       "    }\n",
       "\n",
       "    .dataframe tbody tr th {\n",
       "        vertical-align: top;\n",
       "    }\n",
       "\n",
       "    .dataframe thead th {\n",
       "        text-align: right;\n",
       "    }\n",
       "</style>\n",
       "<table border=\"1\" class=\"dataframe\">\n",
       "  <thead>\n",
       "    <tr style=\"text-align: right;\">\n",
       "      <th></th>\n",
       "      <th>L</th>\n",
       "      <th>R</th>\n",
       "      <th>A_M</th>\n",
       "      <th>Spectral_Class</th>\n",
       "      <th>Type</th>\n",
       "    </tr>\n",
       "  </thead>\n",
       "  <tbody>\n",
       "    <tr>\n",
       "      <th>0</th>\n",
       "      <td>0.002400</td>\n",
       "      <td>0.1700</td>\n",
       "      <td>16.12</td>\n",
       "      <td>1</td>\n",
       "      <td>0</td>\n",
       "    </tr>\n",
       "    <tr>\n",
       "      <th>1</th>\n",
       "      <td>0.000500</td>\n",
       "      <td>0.1542</td>\n",
       "      <td>16.60</td>\n",
       "      <td>1</td>\n",
       "      <td>0</td>\n",
       "    </tr>\n",
       "    <tr>\n",
       "      <th>2</th>\n",
       "      <td>0.000300</td>\n",
       "      <td>0.1020</td>\n",
       "      <td>18.70</td>\n",
       "      <td>1</td>\n",
       "      <td>0</td>\n",
       "    </tr>\n",
       "    <tr>\n",
       "      <th>3</th>\n",
       "      <td>0.000200</td>\n",
       "      <td>0.1600</td>\n",
       "      <td>16.65</td>\n",
       "      <td>1</td>\n",
       "      <td>0</td>\n",
       "    </tr>\n",
       "    <tr>\n",
       "      <th>4</th>\n",
       "      <td>0.000138</td>\n",
       "      <td>0.1030</td>\n",
       "      <td>20.06</td>\n",
       "      <td>1</td>\n",
       "      <td>0</td>\n",
       "    </tr>\n",
       "    <tr>\n",
       "      <th>...</th>\n",
       "      <td>...</td>\n",
       "      <td>...</td>\n",
       "      <td>...</td>\n",
       "      <td>...</td>\n",
       "      <td>...</td>\n",
       "    </tr>\n",
       "    <tr>\n",
       "      <th>231</th>\n",
       "      <td>272830.000000</td>\n",
       "      <td>1356.0000</td>\n",
       "      <td>-9.29</td>\n",
       "      <td>2</td>\n",
       "      <td>5</td>\n",
       "    </tr>\n",
       "    <tr>\n",
       "      <th>232</th>\n",
       "      <td>648430.000000</td>\n",
       "      <td>1948.5000</td>\n",
       "      <td>-10.84</td>\n",
       "      <td>2</td>\n",
       "      <td>5</td>\n",
       "    </tr>\n",
       "    <tr>\n",
       "      <th>235</th>\n",
       "      <td>374830.000000</td>\n",
       "      <td>1356.0000</td>\n",
       "      <td>-9.93</td>\n",
       "      <td>2</td>\n",
       "      <td>5</td>\n",
       "    </tr>\n",
       "    <tr>\n",
       "      <th>236</th>\n",
       "      <td>834042.000000</td>\n",
       "      <td>1194.0000</td>\n",
       "      <td>-10.63</td>\n",
       "      <td>2</td>\n",
       "      <td>5</td>\n",
       "    </tr>\n",
       "    <tr>\n",
       "      <th>239</th>\n",
       "      <td>294903.000000</td>\n",
       "      <td>1783.0000</td>\n",
       "      <td>-7.80</td>\n",
       "      <td>2</td>\n",
       "      <td>5</td>\n",
       "    </tr>\n",
       "  </tbody>\n",
       "</table>\n",
       "<p>151 rows × 5 columns</p>\n",
       "</div>"
      ],
      "text/plain": [
       "                 L          R    A_M  Spectral_Class  Type\n",
       "0         0.002400     0.1700  16.12               1     0\n",
       "1         0.000500     0.1542  16.60               1     0\n",
       "2         0.000300     0.1020  18.70               1     0\n",
       "3         0.000200     0.1600  16.65               1     0\n",
       "4         0.000138     0.1030  20.06               1     0\n",
       "..             ...        ...    ...             ...   ...\n",
       "231  272830.000000  1356.0000  -9.29               2     5\n",
       "232  648430.000000  1948.5000 -10.84               2     5\n",
       "235  374830.000000  1356.0000  -9.93               2     5\n",
       "236  834042.000000  1194.0000 -10.63               2     5\n",
       "239  294903.000000  1783.0000  -7.80               2     5\n",
       "\n",
       "[151 rows x 5 columns]"
      ]
     },
     "execution_count": 15,
     "metadata": {},
     "output_type": "execute_result"
    }
   ],
   "source": [
    "X"
   ]
  },
  {
   "cell_type": "code",
   "execution_count": 16,
   "id": "a52f9682",
   "metadata": {},
   "outputs": [
    {
     "data": {
      "text/plain": [
       "0       3068\n",
       "1       3042\n",
       "2       2600\n",
       "3       2800\n",
       "4       1939\n",
       "       ...  \n",
       "231    38234\n",
       "232    32489\n",
       "235    38940\n",
       "236    30839\n",
       "239    37882\n",
       "Name: Temperature, Length: 151, dtype: int64"
      ]
     },
     "execution_count": 16,
     "metadata": {},
     "output_type": "execute_result"
    }
   ],
   "source": [
    "Y"
   ]
  },
  {
   "cell_type": "markdown",
   "id": "a27b6310",
   "metadata": {},
   "source": [
    "# LINEAR REGRESSION IMPLEMENTATIONS"
   ]
  },
  {
   "cell_type": "code",
   "execution_count": 17,
   "id": "69cc2abd",
   "metadata": {},
   "outputs": [],
   "source": [
    "from sklearn.model_selection import train_test_split"
   ]
  },
  {
   "cell_type": "code",
   "execution_count": 58,
   "id": "de75fd9e",
   "metadata": {},
   "outputs": [],
   "source": [
    "X_train, X_test, y_train,y_test = train_test_split(X,Y,test_size=0.3,random_state=42)"
   ]
  },
  {
   "cell_type": "code",
   "execution_count": 59,
   "id": "7a873f42",
   "metadata": {},
   "outputs": [
    {
     "data": {
      "text/plain": [
       "array([[ 1.02569197,  2.23984261, -1.03499904, -0.60030023,  1.36049894],\n",
       "       [-0.72687028, -0.4984437 ,  0.78128053, -0.60030023, -0.65357302],\n",
       "       [ 0.06725947,  1.95115781, -1.33296216, -0.60030023,  1.36049894],\n",
       "       [ 0.36848111,  1.43485616, -1.09718265,  1.66583312,  1.36049894],\n",
       "       [ 0.53826058, -0.42123903, -0.9089045 ,  1.66583312,  0.85698095],\n",
       "       [ 2.21650327, -0.34906783, -0.89638141,  1.66583312,  0.85698095],\n",
       "       [ 1.59812262, -0.45454881, -0.8976769 ,  1.66583312,  0.85698095],\n",
       "       [ 0.06725947,  2.37493229, -1.04622663, -0.60030023,  1.36049894],\n",
       "       [-0.72687031, -0.49864726,  1.01187808, -0.60030023, -1.15709101],\n",
       "       [ 0.35752759, -0.48008631, -0.76035477,  1.66583312,  0.35346296],\n",
       "       [ 1.2009482 , -0.37497544, -0.88040368,  1.66583312,  0.85698095],\n",
       "       [ 0.36848111, -0.33426348, -0.83290231, -0.60030023,  0.85698095],\n",
       "       [-0.72687029, -0.49885637,  1.02137836, -0.60030023, -1.15709101],\n",
       "       [-0.72687032, -0.49874719,  1.25111224, -0.60030023, -1.15709101],\n",
       "       [ 0.05082919, -0.39348087, -0.91926843,  1.66583312,  0.85698095],\n",
       "       [ 0.35862295, -0.48713688, -0.77503701,  1.66583312,  0.35346296],\n",
       "       [-0.72687031, -0.49761096,  0.89355649, -0.60030023, -0.65357302],\n",
       "       [ 0.34109732, -0.46750262, -1.00390723, -0.60030023,  0.85698095],\n",
       "       [ 0.80662168, -0.45269827, -0.89854056, -0.60030023,  0.85698095],\n",
       "       [ 0.09464325, -0.33611402, -0.90026789, -0.60030023,  0.85698095],\n",
       "       [-0.72687031, -0.49848812,  0.85728272, -0.60030023, -0.65357302],\n",
       "       [ 0.34109732,  2.36197848, -1.36146298, -0.60030023,  1.36049894],\n",
       "       [ 2.82442332,  3.10682227, -1.3165526 ,  1.66583312,  1.36049894],\n",
       "       [-0.72687032, -0.49874164,  1.12674503, -0.60030023, -1.15709101],\n",
       "       [-0.72687032, -0.49879327,  1.0403789 , -0.60030023, -1.15709101],\n",
       "       [ 0.02892217,  2.12881   , -1.08681871, -0.60030023,  1.36049894],\n",
       "       [ 0.62440997, -0.38422816, -0.92876871,  1.66583312,  0.85698095],\n",
       "       [-0.08608973,  2.25094587, -1.32346189, -0.60030023,  1.36049894],\n",
       "       [ 2.28534611,  2.55073393, -1.07559112, -0.60030023,  1.36049894],\n",
       "       [-0.72687028, -0.49851773,  0.60682097, -0.60030023, -0.65357302],\n",
       "       [-0.00941513, -0.45454881, -1.00390723,  1.66583312,  0.85698095],\n",
       "       [-0.03132216, -0.43234229, -0.87781269,  1.66583312,  0.85698095],\n",
       "       [-0.72687032, -0.49881714,  1.30897755, -0.60030023, -1.15709101],\n",
       "       [-0.72687032, -0.49792555,  0.85123709, -0.60030023, -0.65357302],\n",
       "       [-0.72687027, -0.49831417,  0.65086769, -0.60030023, -0.65357302],\n",
       "       [-0.72687032, -0.4987583 ,  1.08615295, -0.60030023, -1.15709101],\n",
       "       [-0.7268703 , -0.49833267,  0.67591386, -0.60030023, -0.65357302],\n",
       "       [ 1.15132878, -0.31760859, -0.98317936,  1.66583312,  0.85698095],\n",
       "       [-0.72687032, -0.49873979,  1.29774995, -0.60030023, -1.15709101],\n",
       "       [ 0.71351681,  1.9974214 , -1.39514577, -0.60030023,  1.36049894],\n",
       "       [-0.72687032, -0.4987583 ,  1.34870596, -0.60030023, -1.15709101],\n",
       "       [ 0.36848111,  1.95115781, -1.30446134, -0.60030023,  1.36049894],\n",
       "       [ 0.9709244 ,  1.95115781, -1.05313592, -0.60030023,  1.36049894],\n",
       "       [-0.72687032, -0.49877921,  1.11724475, -0.60030023, -1.15709101],\n",
       "       [-0.72687032, -0.4987842 ,  1.12242672, -0.60030023, -1.15709101],\n",
       "       [-0.72687032, -0.49879198,  1.08442563, -0.60030023, -1.15709101],\n",
       "       [-0.17919461,  1.88638879, -1.30446134, -0.60030023,  1.36049894],\n",
       "       [ 1.74862391, -0.34536674, -0.86572144,  1.66583312,  0.85698095],\n",
       "       [-0.72687032, -0.49872314,  1.03174229, -0.60030023, -1.15709101],\n",
       "       [-0.72687032, -0.49873794,  1.31502318, -0.60030023, -1.15709101],\n",
       "       [ 0.22499007, -0.48742002, -0.75690012,  1.66583312,  0.35346296],\n",
       "       [ 0.61104668, -0.43419283, -0.92185942,  1.66583312,  0.85698095],\n",
       "       [-0.72687032, -0.49825865,  0.51268189, -0.60030023, -0.65357302],\n",
       "       [-0.72687032, -0.4987583 ,  1.12674503, -0.60030023, -1.15709101],\n",
       "       [-0.72687029, -0.49823459,  0.52477315, -0.60030023, -0.65357302],\n",
       "       [-0.72687032, -0.49875459,  1.29947727, -0.60030023, -1.15709101],\n",
       "       [-0.72687029, -0.49837153,  0.69318709, -0.60030023, -0.65357302],\n",
       "       [-0.72687032, -0.49866577,  1.05765213, -0.60030023, -1.15709101],\n",
       "       [-0.7268703 , -0.4980921 ,  0.55241031, -0.60030023, -0.65357302],\n",
       "       [ 0.41777192,  1.26830724, -1.35109905, -0.60030023,  1.36049894],\n",
       "       [ 0.36848111,  2.52667686, -1.358872  , -0.60030023,  1.36049894],\n",
       "       [-0.72687031, -0.49834007,  0.90996606, -0.60030023, -0.65357302],\n",
       "       [-0.72687032, -0.49872684,  1.10688082, -0.60030023, -1.15709101],\n",
       "       [-0.72687032, -0.49874719,  1.20792918, -0.60030023, -1.15709101],\n",
       "       [ 0.64779572, -0.43234229, -0.91970026,  1.66583312,  0.85698095],\n",
       "       [-0.72687032, -0.4987731 ,  1.23470268, -0.60030023, -1.15709101],\n",
       "       [ 0.56016761, -0.34536674, -0.97540641,  1.66583312,  0.85698095],\n",
       "       [-0.7268703 , -0.49842335,  0.56018326, -0.60030023, -0.65357302],\n",
       "       [ 1.15110971, -0.44344555, -0.90631351,  1.66583312,  0.85698095],\n",
       "       [-0.72687021, -0.49845666,  0.68195949, -0.60030023, -0.65357302],\n",
       "       [-0.72687032, -0.49881881,  1.09478956, -0.60030023, -1.15709101],\n",
       "       [-0.72687032, -0.49878976,  1.20361088, -0.60030023, -1.15709101],\n",
       "       [-0.72687032, -0.4987818 ,  1.08183464, -0.60030023, -1.15709101],\n",
       "       [ 3.72573324, -0.47305425, -0.91840477,  1.66583312,  0.85698095],\n",
       "       [ 1.32598256,  2.01037521, -1.23795943,  1.66583312,  1.36049894],\n",
       "       [-0.72687032, -0.49878124,  1.34179667, -0.60030023, -1.15709101],\n",
       "       [-0.72687031, -0.49866392,  0.82705458, -0.60030023, -0.65357302],\n",
       "       [-0.72687027, -0.49833267,  0.75277971, -0.60030023, -0.65357302],\n",
       "       [-0.72687032, -0.49861025,  1.0826983 , -0.60030023, -1.15709101],\n",
       "       [-0.72687032, -0.4987805 ,  0.72600622, -0.60030023, -0.65357302],\n",
       "       [-0.72687028, -0.49838819,  0.58436577, -0.60030023, -0.65357302],\n",
       "       [-0.72687032, -0.49874349,  1.12156306, -0.60030023, -1.15709101],\n",
       "       [-0.72687032, -0.49805139,  0.55845594, -0.60030023, -0.65357302],\n",
       "       [ 0.36848111, -0.46380153, -0.97886106, -0.60030023,  0.85698095],\n",
       "       [-0.72687031, -0.49839374,  0.64482206, -0.60030023, -0.65357302],\n",
       "       [ 3.37461834, -0.32871185, -1.01478937,  1.66583312,  0.85698095],\n",
       "       [-0.72687031, -0.49772199,  0.80002198, -0.60030023, -0.65357302],\n",
       "       [ 0.22608542,  1.87713607, -1.35455369, -0.60030023,  1.36049894],\n",
       "       [ 0.50419515, -0.41383685, -1.02377144,  1.66583312,  0.85698095],\n",
       "       [-0.72687032, -0.4986765 ,  1.05333382, -0.60030023, -1.15709101],\n",
       "       [-0.72687028, -0.49862876,  0.759689  , -0.60030023, -0.65357302],\n",
       "       [-0.72687031, -0.49848442,  0.83914584, -0.60030023, -0.65357302],\n",
       "       [ 0.58207464, -0.43419283, -1.01427117,  1.66583312,  0.85698095],\n",
       "       [ 0.49444652, -0.39348087, -0.89163127,  1.66583312,  0.85698095],\n",
       "       [-0.72687032, -0.49872869,  1.1362453 , -0.60030023, -1.15709101],\n",
       "       [-0.72687032, -0.49880345,  1.18201935, -0.60030023, -1.15709101],\n",
       "       [-0.00393838,  2.31756544, -1.31827992, -0.60030023,  1.36049894],\n",
       "       [-0.72687032, -0.49877717,  1.05937945, -0.60030023, -1.15709101],\n",
       "       [ 0.88824179,  2.80055731, -1.05399959,  1.66583312,  1.36049894],\n",
       "       [ 0.39038814, -0.47934609, -0.7862646 ,  1.66583312,  0.35346296],\n",
       "       [-0.03679892,  1.5810491 , -1.31396162, -0.60030023,  1.36049894],\n",
       "       [ 0.35752759, -0.42679066, -0.88385832,  1.66583312,  0.85698095],\n",
       "       [-0.72687032, -0.49870278,  0.63722184, -0.60030023, -0.65357302],\n",
       "       [-0.72687032, -0.49781452,  0.84864611, -0.60030023, -0.65357302],\n",
       "       [ 0.61493518, -0.31945913, -0.95295122,  1.66583312,  0.85698095]])"
      ]
     },
     "execution_count": 59,
     "metadata": {},
     "output_type": "execute_result"
    }
   ],
   "source": [
    "X_train"
   ]
  },
  {
   "cell_type": "code",
   "execution_count": 60,
   "id": "6c10118f",
   "metadata": {},
   "outputs": [
    {
     "data": {
      "text/plain": [
       "array([[-0.32159029,  1.1221143 , -1.26559659, -0.60030023,  1.36049894],\n",
       "       [-0.7268703 , -0.49859785,  0.78818982, -0.60030023, -0.65357302],\n",
       "       [-0.72687032, -0.49876015,  1.09824421, -0.60030023, -1.15709101],\n",
       "       [-0.72687032, -0.49878939,  1.08097098, -0.60030023, -1.15709101],\n",
       "       [ 3.56652391, -0.45269827, -0.91788657,  1.66583312,  0.85698095],\n",
       "       [ 0.82305195,  1.83272303, -1.03931734, -0.60030023,  1.36049894],\n",
       "       [-0.72687032, -0.49879309,  1.10169885, -0.60030023, -1.15709101],\n",
       "       [-0.11347352, -0.47675533, -0.89076761,  1.66583312,  0.85698095],\n",
       "       [-0.72687032, -0.49831417,  0.63532179, -0.60030023, -0.65357302],\n",
       "       [-0.72687032, -0.49879549,  1.0628341 , -0.60030023, -1.15709101],\n",
       "       [-0.72687032, -0.49871758,  1.09910787, -0.60030023, -1.15709101],\n",
       "       [-0.72687032, -0.49859915,  0.76055266, -0.60030023, -0.65357302],\n",
       "       [ 1.26119252,  2.59699752, -1.40982801, -0.60030023,  1.36049894],\n",
       "       [-0.72687032, -0.49872129,  1.00583245, -0.60030023, -1.15709101],\n",
       "       [-0.72687011, -0.49831232,  0.58522943, -0.60030023, -0.65357302],\n",
       "       [ 1.09426097, -0.35832055, -0.98663401,  1.66583312,  0.85698095],\n",
       "       [-0.72687032, -0.49879253,  1.01965103, -0.60030023, -1.15709101],\n",
       "       [ 0.76735333,  2.01037521, -1.18268511,  1.66583312,  1.36049894],\n",
       "       [-0.7268703 , -0.49851773,  0.7821442 , -0.60030023, -0.65357302],\n",
       "       [-0.72687031, -0.49771274,  0.89580201, -0.60030023, -0.65357302],\n",
       "       [ 0.28085299, -0.3435162 , -0.96245149, -0.60030023,  0.85698095],\n",
       "       [-0.72687032, -0.49878939,  1.07751634, -0.60030023, -1.15709101],\n",
       "       [ 1.02569197, -0.44529609, -0.95036024, -0.60030023,  0.85698095],\n",
       "       [-0.72687029, -0.49809025,  0.72341523, -0.60030023, -0.65357302],\n",
       "       [-0.72687029, -0.49868798,  0.61027561, -0.60030023, -0.65357302],\n",
       "       [ 2.52577575, -0.35091837, -1.00753461,  1.66583312,  0.85698095],\n",
       "       [ 0.58755139,  1.70318498, -1.06177254, -0.60030023,  1.36049894],\n",
       "       [ 0.28085299, -0.43234229, -0.92790505,  1.66583312,  0.85698095],\n",
       "       [ 0.3843637 , -0.48626713, -0.77417335,  1.66583312,  0.35346296],\n",
       "       [ 0.75185411,  2.31386435, -1.19218538, -0.60030023,  1.36049894],\n",
       "       [ 1.13522711, -0.45639935, -0.91581379, -0.60030023,  0.85698095],\n",
       "       [-0.7268703 , -0.49851773,  0.74846141, -0.60030023, -0.65357302],\n",
       "       [-0.72687031, -0.49811061,  0.54636468, -0.60030023, -0.65357302],\n",
       "       [-0.72687025, -0.49826587,  0.63791277, -0.60030023, -0.65357302],\n",
       "       [-0.72687031, -0.49826235,  0.72980632, -0.60030023, -0.65357302],\n",
       "       [-0.7268702 , -0.49825865,  0.49368134, -0.60030023, -0.65357302],\n",
       "       [ 1.26119252, -0.38237761, -0.88385832,  1.66583312,  0.85698095],\n",
       "       [-0.05322919, -0.4156874 , -0.96590614, -0.60030023,  0.85698095],\n",
       "       [ 0.10559677, -0.36387218, -0.87176706,  1.66583312,  0.85698095],\n",
       "       [-0.72687032, -0.49877125,  1.35216061, -0.60030023, -1.15709101],\n",
       "       [ 0.76280762,  1.69023117, -1.17491216, -0.60030023,  1.36049894],\n",
       "       [-0.72687032, -0.4987879 ,  1.0092871 , -0.60030023, -1.15709101],\n",
       "       [ 1.17805535, -0.33981511, -0.89033578,  1.66583312,  0.85698095],\n",
       "       [ 3.84097517,  1.71058715, -1.29841571,  1.66583312,  1.36049894],\n",
       "       [-0.72687031, -0.49866577,  0.89701114, -0.60030023, -0.65357302],\n",
       "       [-0.72687031, -0.49801808,  0.54291003, -0.60030023, -0.65357302]])"
      ]
     },
     "execution_count": 60,
     "metadata": {},
     "output_type": "execute_result"
    }
   ],
   "source": [
    "X_test"
   ]
  },
  {
   "cell_type": "code",
   "execution_count": 100,
   "id": "4f99fb56",
   "metadata": {},
   "outputs": [],
   "source": [
    "#Scaling down the values \n",
    "from sklearn.preprocessing import StandardScaler\n",
    "\n",
    "sc = StandardScaler()\n",
    "\n",
    "x_train = sc.fit_transform(X_train)\n",
    "X_test = sc.transform(X_test)"
   ]
  },
  {
   "cell_type": "code",
   "execution_count": 101,
   "id": "4df8ede3",
   "metadata": {},
   "outputs": [],
   "source": [
    "from sklearn.linear_model import LinearRegression"
   ]
  },
  {
   "cell_type": "code",
   "execution_count": 102,
   "id": "a9bf9305",
   "metadata": {},
   "outputs": [],
   "source": [
    "model = LinearRegression()\n"
   ]
  },
  {
   "cell_type": "code",
   "execution_count": 103,
   "id": "84aba670",
   "metadata": {},
   "outputs": [
    {
     "data": {
      "text/html": [
       "<style>#sk-container-id-7 {color: black;background-color: white;}#sk-container-id-7 pre{padding: 0;}#sk-container-id-7 div.sk-toggleable {background-color: white;}#sk-container-id-7 label.sk-toggleable__label {cursor: pointer;display: block;width: 100%;margin-bottom: 0;padding: 0.3em;box-sizing: border-box;text-align: center;}#sk-container-id-7 label.sk-toggleable__label-arrow:before {content: \"▸\";float: left;margin-right: 0.25em;color: #696969;}#sk-container-id-7 label.sk-toggleable__label-arrow:hover:before {color: black;}#sk-container-id-7 div.sk-estimator:hover label.sk-toggleable__label-arrow:before {color: black;}#sk-container-id-7 div.sk-toggleable__content {max-height: 0;max-width: 0;overflow: hidden;text-align: left;background-color: #f0f8ff;}#sk-container-id-7 div.sk-toggleable__content pre {margin: 0.2em;color: black;border-radius: 0.25em;background-color: #f0f8ff;}#sk-container-id-7 input.sk-toggleable__control:checked~div.sk-toggleable__content {max-height: 200px;max-width: 100%;overflow: auto;}#sk-container-id-7 input.sk-toggleable__control:checked~label.sk-toggleable__label-arrow:before {content: \"▾\";}#sk-container-id-7 div.sk-estimator input.sk-toggleable__control:checked~label.sk-toggleable__label {background-color: #d4ebff;}#sk-container-id-7 div.sk-label input.sk-toggleable__control:checked~label.sk-toggleable__label {background-color: #d4ebff;}#sk-container-id-7 input.sk-hidden--visually {border: 0;clip: rect(1px 1px 1px 1px);clip: rect(1px, 1px, 1px, 1px);height: 1px;margin: -1px;overflow: hidden;padding: 0;position: absolute;width: 1px;}#sk-container-id-7 div.sk-estimator {font-family: monospace;background-color: #f0f8ff;border: 1px dotted black;border-radius: 0.25em;box-sizing: border-box;margin-bottom: 0.5em;}#sk-container-id-7 div.sk-estimator:hover {background-color: #d4ebff;}#sk-container-id-7 div.sk-parallel-item::after {content: \"\";width: 100%;border-bottom: 1px solid gray;flex-grow: 1;}#sk-container-id-7 div.sk-label:hover label.sk-toggleable__label {background-color: #d4ebff;}#sk-container-id-7 div.sk-serial::before {content: \"\";position: absolute;border-left: 1px solid gray;box-sizing: border-box;top: 0;bottom: 0;left: 50%;z-index: 0;}#sk-container-id-7 div.sk-serial {display: flex;flex-direction: column;align-items: center;background-color: white;padding-right: 0.2em;padding-left: 0.2em;position: relative;}#sk-container-id-7 div.sk-item {position: relative;z-index: 1;}#sk-container-id-7 div.sk-parallel {display: flex;align-items: stretch;justify-content: center;background-color: white;position: relative;}#sk-container-id-7 div.sk-item::before, #sk-container-id-7 div.sk-parallel-item::before {content: \"\";position: absolute;border-left: 1px solid gray;box-sizing: border-box;top: 0;bottom: 0;left: 50%;z-index: -1;}#sk-container-id-7 div.sk-parallel-item {display: flex;flex-direction: column;z-index: 1;position: relative;background-color: white;}#sk-container-id-7 div.sk-parallel-item:first-child::after {align-self: flex-end;width: 50%;}#sk-container-id-7 div.sk-parallel-item:last-child::after {align-self: flex-start;width: 50%;}#sk-container-id-7 div.sk-parallel-item:only-child::after {width: 0;}#sk-container-id-7 div.sk-dashed-wrapped {border: 1px dashed gray;margin: 0 0.4em 0.5em 0.4em;box-sizing: border-box;padding-bottom: 0.4em;background-color: white;}#sk-container-id-7 div.sk-label label {font-family: monospace;font-weight: bold;display: inline-block;line-height: 1.2em;}#sk-container-id-7 div.sk-label-container {text-align: center;}#sk-container-id-7 div.sk-container {/* jupyter's `normalize.less` sets `[hidden] { display: none; }` but bootstrap.min.css set `[hidden] { display: none !important; }` so we also need the `!important` here to be able to override the default hidden behavior on the sphinx rendered scikit-learn.org. See: https://github.com/scikit-learn/scikit-learn/issues/21755 */display: inline-block !important;position: relative;}#sk-container-id-7 div.sk-text-repr-fallback {display: none;}</style><div id=\"sk-container-id-7\" class=\"sk-top-container\"><div class=\"sk-text-repr-fallback\"><pre>LinearRegression()</pre><b>In a Jupyter environment, please rerun this cell to show the HTML representation or trust the notebook. <br />On GitHub, the HTML representation is unable to render, please try loading this page with nbviewer.org.</b></div><div class=\"sk-container\" hidden><div class=\"sk-item\"><div class=\"sk-estimator sk-toggleable\"><input class=\"sk-toggleable__control sk-hidden--visually\" id=\"sk-estimator-id-7\" type=\"checkbox\" checked><label for=\"sk-estimator-id-7\" class=\"sk-toggleable__label sk-toggleable__label-arrow\">LinearRegression</label><div class=\"sk-toggleable__content\"><pre>LinearRegression()</pre></div></div></div></div></div>"
      ],
      "text/plain": [
       "LinearRegression()"
      ]
     },
     "execution_count": 103,
     "metadata": {},
     "output_type": "execute_result"
    }
   ],
   "source": [
    "#Training part\n",
    "model.fit(X_train,y_train)"
   ]
  },
  {
   "cell_type": "code",
   "execution_count": 104,
   "id": "85b155b6",
   "metadata": {},
   "outputs": [],
   "source": [
    "#Making Predictions\n",
    "predictions = model.predict(X_test)"
   ]
  },
  {
   "cell_type": "code",
   "execution_count": 105,
   "id": "4a13ca0f",
   "metadata": {},
   "outputs": [
    {
     "data": {
      "text/plain": [
       "array([[  -47.03137775],\n",
       "       [ 1026.95864185],\n",
       "       [ 4500.03559602],\n",
       "       [ 4644.64660781],\n",
       "       [25512.17152794],\n",
       "       [ 2453.62290155],\n",
       "       [ 4470.98737168],\n",
       "       [18495.36777489],\n",
       "       [ 2308.5285141 ],\n",
       "       [ 4796.56807988],\n",
       "       [ 4492.93858293],\n",
       "       [ 1258.48401999],\n",
       "       [ 8839.73427247],\n",
       "       [ 5274.33901419],\n",
       "       [ 2728.18234035],\n",
       "       [21885.9019547 ],\n",
       "       [ 5158.34272966],\n",
       "       [24556.84579733],\n",
       "       [ 1077.86607865],\n",
       "       [  128.31588695],\n",
       "       [ -178.61200706],\n",
       "       [ 4673.58781737],\n",
       "       [  747.82651403],\n",
       "       [ 1571.25540325],\n",
       "       [ 2517.13777907],\n",
       "       [24695.79383903],\n",
       "       [ 1791.37811614],\n",
       "       [19669.94150243],\n",
       "       [24466.71456158],\n",
       "       [ 5167.63447254],\n",
       "       [  622.10686258],\n",
       "       [ 1360.04280574],\n",
       "       [ 3054.42584783],\n",
       "       [ 2286.97964658],\n",
       "       [ 1517.15498117],\n",
       "       [ 3495.29839154],\n",
       "       [21251.18472927],\n",
       "       [ -993.44032322],\n",
       "       [19102.47761968],\n",
       "       [ 2372.82114279],\n",
       "       [ 3016.7424051 ],\n",
       "       [ 5245.18136774],\n",
       "       [21292.11082257],\n",
       "       [30157.94246157],\n",
       "       [  115.09009573],\n",
       "       [ 3083.6676728 ]])"
      ]
     },
     "execution_count": 105,
     "metadata": {},
     "output_type": "execute_result"
    }
   ],
   "source": [
    "predictions"
   ]
  },
  {
   "cell_type": "code",
   "execution_count": 67,
   "id": "3ec4dde4",
   "metadata": {},
   "outputs": [],
   "source": [
    "from sklearn.metrics import r2_score , mean_squared_error, mean_absolute_error"
   ]
  },
  {
   "cell_type": "code",
   "execution_count": 68,
   "id": "caaa0e00",
   "metadata": {},
   "outputs": [],
   "source": [
    "mse = mean_squared_error(y_test,predictions)\n",
    "lr_score = r2_score(y_test, predictions)\n",
    "mae =  mean_absolute_error(y_test, predictions)\n",
    "rmse = mean_squared_error(y_test,predictions,squared=False)"
   ]
  },
  {
   "cell_type": "code",
   "execution_count": 69,
   "id": "ab44d043",
   "metadata": {},
   "outputs": [
    {
     "data": {
      "text/plain": [
       "25419645.802137636"
      ]
     },
     "execution_count": 69,
     "metadata": {},
     "output_type": "execute_result"
    }
   ],
   "source": [
    "mse"
   ]
  },
  {
   "cell_type": "code",
   "execution_count": 70,
   "id": "55281851",
   "metadata": {},
   "outputs": [
    {
     "data": {
      "text/plain": [
       "0.6934552989872486"
      ]
     },
     "execution_count": 70,
     "metadata": {},
     "output_type": "execute_result"
    }
   ],
   "source": [
    "lr_score"
   ]
  },
  {
   "cell_type": "code",
   "execution_count": 71,
   "id": "eee3ef98",
   "metadata": {},
   "outputs": [
    {
     "data": {
      "text/plain": [
       "3313.4290535886057"
      ]
     },
     "execution_count": 71,
     "metadata": {},
     "output_type": "execute_result"
    }
   ],
   "source": [
    "mae"
   ]
  },
  {
   "cell_type": "code",
   "execution_count": 72,
   "id": "c4a5a445",
   "metadata": {},
   "outputs": [
    {
     "data": {
      "text/plain": [
       "5041.789940302713"
      ]
     },
     "execution_count": 72,
     "metadata": {},
     "output_type": "execute_result"
    }
   ],
   "source": [
    "rmse"
   ]
  },
  {
   "cell_type": "code",
   "execution_count": null,
   "id": "1a3ffdb8",
   "metadata": {},
   "outputs": [],
   "source": []
  },
  {
   "cell_type": "markdown",
   "id": "a84090c9",
   "metadata": {},
   "source": [
    "# RANDOM FOREST REGRESSOR IMPLEMENTATIONS"
   ]
  },
  {
   "cell_type": "code",
   "execution_count": 75,
   "id": "5f3c47ec",
   "metadata": {},
   "outputs": [],
   "source": [
    "from sklearn.model_selection import train_test_split\n",
    "X_train,X_test,y_train,y_test = train_test_split(X,Y,test_size=0.3,random_state=42)"
   ]
  },
  {
   "cell_type": "code",
   "execution_count": 106,
   "id": "4450b6d2",
   "metadata": {},
   "outputs": [
    {
     "data": {
      "text/plain": [
       "array([[ 1.02569197,  2.23984261, -1.03499904, -0.60030023,  1.36049894],\n",
       "       [-0.72687028, -0.4984437 ,  0.78128053, -0.60030023, -0.65357302],\n",
       "       [ 0.06725947,  1.95115781, -1.33296216, -0.60030023,  1.36049894],\n",
       "       [ 0.36848111,  1.43485616, -1.09718265,  1.66583312,  1.36049894],\n",
       "       [ 0.53826058, -0.42123903, -0.9089045 ,  1.66583312,  0.85698095],\n",
       "       [ 2.21650327, -0.34906783, -0.89638141,  1.66583312,  0.85698095],\n",
       "       [ 1.59812262, -0.45454881, -0.8976769 ,  1.66583312,  0.85698095],\n",
       "       [ 0.06725947,  2.37493229, -1.04622663, -0.60030023,  1.36049894],\n",
       "       [-0.72687031, -0.49864726,  1.01187808, -0.60030023, -1.15709101],\n",
       "       [ 0.35752759, -0.48008631, -0.76035477,  1.66583312,  0.35346296],\n",
       "       [ 1.2009482 , -0.37497544, -0.88040368,  1.66583312,  0.85698095],\n",
       "       [ 0.36848111, -0.33426348, -0.83290231, -0.60030023,  0.85698095],\n",
       "       [-0.72687029, -0.49885637,  1.02137836, -0.60030023, -1.15709101],\n",
       "       [-0.72687032, -0.49874719,  1.25111224, -0.60030023, -1.15709101],\n",
       "       [ 0.05082919, -0.39348087, -0.91926843,  1.66583312,  0.85698095],\n",
       "       [ 0.35862295, -0.48713688, -0.77503701,  1.66583312,  0.35346296],\n",
       "       [-0.72687031, -0.49761096,  0.89355649, -0.60030023, -0.65357302],\n",
       "       [ 0.34109732, -0.46750262, -1.00390723, -0.60030023,  0.85698095],\n",
       "       [ 0.80662168, -0.45269827, -0.89854056, -0.60030023,  0.85698095],\n",
       "       [ 0.09464325, -0.33611402, -0.90026789, -0.60030023,  0.85698095],\n",
       "       [-0.72687031, -0.49848812,  0.85728272, -0.60030023, -0.65357302],\n",
       "       [ 0.34109732,  2.36197848, -1.36146298, -0.60030023,  1.36049894],\n",
       "       [ 2.82442332,  3.10682227, -1.3165526 ,  1.66583312,  1.36049894],\n",
       "       [-0.72687032, -0.49874164,  1.12674503, -0.60030023, -1.15709101],\n",
       "       [-0.72687032, -0.49879327,  1.0403789 , -0.60030023, -1.15709101],\n",
       "       [ 0.02892217,  2.12881   , -1.08681871, -0.60030023,  1.36049894],\n",
       "       [ 0.62440997, -0.38422816, -0.92876871,  1.66583312,  0.85698095],\n",
       "       [-0.08608973,  2.25094587, -1.32346189, -0.60030023,  1.36049894],\n",
       "       [ 2.28534611,  2.55073393, -1.07559112, -0.60030023,  1.36049894],\n",
       "       [-0.72687028, -0.49851773,  0.60682097, -0.60030023, -0.65357302],\n",
       "       [-0.00941513, -0.45454881, -1.00390723,  1.66583312,  0.85698095],\n",
       "       [-0.03132216, -0.43234229, -0.87781269,  1.66583312,  0.85698095],\n",
       "       [-0.72687032, -0.49881714,  1.30897755, -0.60030023, -1.15709101],\n",
       "       [-0.72687032, -0.49792555,  0.85123709, -0.60030023, -0.65357302],\n",
       "       [-0.72687027, -0.49831417,  0.65086769, -0.60030023, -0.65357302],\n",
       "       [-0.72687032, -0.4987583 ,  1.08615295, -0.60030023, -1.15709101],\n",
       "       [-0.7268703 , -0.49833267,  0.67591386, -0.60030023, -0.65357302],\n",
       "       [ 1.15132878, -0.31760859, -0.98317936,  1.66583312,  0.85698095],\n",
       "       [-0.72687032, -0.49873979,  1.29774995, -0.60030023, -1.15709101],\n",
       "       [ 0.71351681,  1.9974214 , -1.39514577, -0.60030023,  1.36049894],\n",
       "       [-0.72687032, -0.4987583 ,  1.34870596, -0.60030023, -1.15709101],\n",
       "       [ 0.36848111,  1.95115781, -1.30446134, -0.60030023,  1.36049894],\n",
       "       [ 0.9709244 ,  1.95115781, -1.05313592, -0.60030023,  1.36049894],\n",
       "       [-0.72687032, -0.49877921,  1.11724475, -0.60030023, -1.15709101],\n",
       "       [-0.72687032, -0.4987842 ,  1.12242672, -0.60030023, -1.15709101],\n",
       "       [-0.72687032, -0.49879198,  1.08442563, -0.60030023, -1.15709101],\n",
       "       [-0.17919461,  1.88638879, -1.30446134, -0.60030023,  1.36049894],\n",
       "       [ 1.74862391, -0.34536674, -0.86572144,  1.66583312,  0.85698095],\n",
       "       [-0.72687032, -0.49872314,  1.03174229, -0.60030023, -1.15709101],\n",
       "       [-0.72687032, -0.49873794,  1.31502318, -0.60030023, -1.15709101],\n",
       "       [ 0.22499007, -0.48742002, -0.75690012,  1.66583312,  0.35346296],\n",
       "       [ 0.61104668, -0.43419283, -0.92185942,  1.66583312,  0.85698095],\n",
       "       [-0.72687032, -0.49825865,  0.51268189, -0.60030023, -0.65357302],\n",
       "       [-0.72687032, -0.4987583 ,  1.12674503, -0.60030023, -1.15709101],\n",
       "       [-0.72687029, -0.49823459,  0.52477315, -0.60030023, -0.65357302],\n",
       "       [-0.72687032, -0.49875459,  1.29947727, -0.60030023, -1.15709101],\n",
       "       [-0.72687029, -0.49837153,  0.69318709, -0.60030023, -0.65357302],\n",
       "       [-0.72687032, -0.49866577,  1.05765213, -0.60030023, -1.15709101],\n",
       "       [-0.7268703 , -0.4980921 ,  0.55241031, -0.60030023, -0.65357302],\n",
       "       [ 0.41777192,  1.26830724, -1.35109905, -0.60030023,  1.36049894],\n",
       "       [ 0.36848111,  2.52667686, -1.358872  , -0.60030023,  1.36049894],\n",
       "       [-0.72687031, -0.49834007,  0.90996606, -0.60030023, -0.65357302],\n",
       "       [-0.72687032, -0.49872684,  1.10688082, -0.60030023, -1.15709101],\n",
       "       [-0.72687032, -0.49874719,  1.20792918, -0.60030023, -1.15709101],\n",
       "       [ 0.64779572, -0.43234229, -0.91970026,  1.66583312,  0.85698095],\n",
       "       [-0.72687032, -0.4987731 ,  1.23470268, -0.60030023, -1.15709101],\n",
       "       [ 0.56016761, -0.34536674, -0.97540641,  1.66583312,  0.85698095],\n",
       "       [-0.7268703 , -0.49842335,  0.56018326, -0.60030023, -0.65357302],\n",
       "       [ 1.15110971, -0.44344555, -0.90631351,  1.66583312,  0.85698095],\n",
       "       [-0.72687021, -0.49845666,  0.68195949, -0.60030023, -0.65357302],\n",
       "       [-0.72687032, -0.49881881,  1.09478956, -0.60030023, -1.15709101],\n",
       "       [-0.72687032, -0.49878976,  1.20361088, -0.60030023, -1.15709101],\n",
       "       [-0.72687032, -0.4987818 ,  1.08183464, -0.60030023, -1.15709101],\n",
       "       [ 3.72573324, -0.47305425, -0.91840477,  1.66583312,  0.85698095],\n",
       "       [ 1.32598256,  2.01037521, -1.23795943,  1.66583312,  1.36049894],\n",
       "       [-0.72687032, -0.49878124,  1.34179667, -0.60030023, -1.15709101],\n",
       "       [-0.72687031, -0.49866392,  0.82705458, -0.60030023, -0.65357302],\n",
       "       [-0.72687027, -0.49833267,  0.75277971, -0.60030023, -0.65357302],\n",
       "       [-0.72687032, -0.49861025,  1.0826983 , -0.60030023, -1.15709101],\n",
       "       [-0.72687032, -0.4987805 ,  0.72600622, -0.60030023, -0.65357302],\n",
       "       [-0.72687028, -0.49838819,  0.58436577, -0.60030023, -0.65357302],\n",
       "       [-0.72687032, -0.49874349,  1.12156306, -0.60030023, -1.15709101],\n",
       "       [-0.72687032, -0.49805139,  0.55845594, -0.60030023, -0.65357302],\n",
       "       [ 0.36848111, -0.46380153, -0.97886106, -0.60030023,  0.85698095],\n",
       "       [-0.72687031, -0.49839374,  0.64482206, -0.60030023, -0.65357302],\n",
       "       [ 3.37461834, -0.32871185, -1.01478937,  1.66583312,  0.85698095],\n",
       "       [-0.72687031, -0.49772199,  0.80002198, -0.60030023, -0.65357302],\n",
       "       [ 0.22608542,  1.87713607, -1.35455369, -0.60030023,  1.36049894],\n",
       "       [ 0.50419515, -0.41383685, -1.02377144,  1.66583312,  0.85698095],\n",
       "       [-0.72687032, -0.4986765 ,  1.05333382, -0.60030023, -1.15709101],\n",
       "       [-0.72687028, -0.49862876,  0.759689  , -0.60030023, -0.65357302],\n",
       "       [-0.72687031, -0.49848442,  0.83914584, -0.60030023, -0.65357302],\n",
       "       [ 0.58207464, -0.43419283, -1.01427117,  1.66583312,  0.85698095],\n",
       "       [ 0.49444652, -0.39348087, -0.89163127,  1.66583312,  0.85698095],\n",
       "       [-0.72687032, -0.49872869,  1.1362453 , -0.60030023, -1.15709101],\n",
       "       [-0.72687032, -0.49880345,  1.18201935, -0.60030023, -1.15709101],\n",
       "       [-0.00393838,  2.31756544, -1.31827992, -0.60030023,  1.36049894],\n",
       "       [-0.72687032, -0.49877717,  1.05937945, -0.60030023, -1.15709101],\n",
       "       [ 0.88824179,  2.80055731, -1.05399959,  1.66583312,  1.36049894],\n",
       "       [ 0.39038814, -0.47934609, -0.7862646 ,  1.66583312,  0.35346296],\n",
       "       [-0.03679892,  1.5810491 , -1.31396162, -0.60030023,  1.36049894],\n",
       "       [ 0.35752759, -0.42679066, -0.88385832,  1.66583312,  0.85698095],\n",
       "       [-0.72687032, -0.49870278,  0.63722184, -0.60030023, -0.65357302],\n",
       "       [-0.72687032, -0.49781452,  0.84864611, -0.60030023, -0.65357302],\n",
       "       [ 0.61493518, -0.31945913, -0.95295122,  1.66583312,  0.85698095]])"
      ]
     },
     "execution_count": 106,
     "metadata": {},
     "output_type": "execute_result"
    }
   ],
   "source": [
    "X_train"
   ]
  },
  {
   "cell_type": "code",
   "execution_count": 107,
   "id": "1b2de956",
   "metadata": {},
   "outputs": [
    {
     "data": {
      "text/plain": [
       "array([[-0.31237351,  1.05573939, -1.24532321, -0.61772077,  1.34622861],\n",
       "       [-0.74404629, -0.50604579,  0.77122811, -0.61772077, -0.64467286],\n",
       "       [-0.74404631, -0.50620218,  1.07566121, -0.61772077, -1.14239822],\n",
       "       [-0.74404631, -0.50623036,  1.05870115, -0.61772077, -1.14239822],\n",
       "       [ 3.82894372, -0.46181505, -0.90391717,  1.61885443,  0.84850324],\n",
       "       [ 0.9068105 ,  1.74051131, -1.0231464 , -0.61772077,  1.34622861],\n",
       "       [-0.74404631, -0.50623392,  1.07905322, -0.61772077, -1.14239822],\n",
       "       [-0.09070369, -0.48499743, -0.87728987,  1.61885443,  0.84850324],\n",
       "       [-0.74404631, -0.50577241,  0.62113156, -0.61772077, -0.64467286],\n",
       "       [-0.74404631, -0.50623624,  1.04089309, -0.61772077, -1.14239822],\n",
       "       [-0.74404631, -0.50616117,  1.07650921, -0.61772077, -1.14239822],\n",
       "       [-0.74404631, -0.50604704,  0.74409201, -0.61772077, -0.64467286],\n",
       "       [ 1.3734838 ,  2.47699777, -1.38693972, -0.61772077,  1.34622861],\n",
       "       [-0.74404631, -0.50616473,  0.98492488, -0.61772077, -1.14239822],\n",
       "       [-0.74404608, -0.50577063,  0.57194738, -0.61772077, -0.64467286],\n",
       "       [ 1.19568127, -0.37086878, -0.97141821,  1.61885443,  0.84850324],\n",
       "       [-0.74404631, -0.50623339,  0.99849293, -0.61772077, -1.14239822],\n",
       "       [ 0.84748466,  1.91170429, -1.16391491,  1.61885443,  1.34622861],\n",
       "       [-0.74404629, -0.50596857,  0.76529209, -0.61772077, -0.64467286],\n",
       "       [-0.7440463 , -0.50519286,  0.87688929, -0.61772077, -0.64467286],\n",
       "       [ 0.32930229, -0.3566027 , -0.94767413, -0.61772077,  0.84850324],\n",
       "       [-0.74404631, -0.50623036,  1.05530914, -0.61772077, -1.14239822],\n",
       "       [ 1.1226469 , -0.45468201, -0.93580208, -0.61772077,  0.84850324],\n",
       "       [-0.74404627, -0.50555664,  0.70762788, -0.61772077, -0.64467286],\n",
       "       [-0.74404628, -0.50613263,  0.59653947, -0.61772077, -0.64467286],\n",
       "       [ 2.72041963, -0.36373574, -0.99193989,  1.61885443,  0.84850324],\n",
       "       [ 0.6559736 ,  1.61568309, -1.04519448, -0.61772077,  1.34622861],\n",
       "       [ 0.32930229, -0.44219919, -0.913754  ,  1.61885443,  0.84850324],\n",
       "       [ 0.43955385, -0.49416339, -0.76280946,  1.61885443,  0.35077788],\n",
       "       [ 0.83097609,  2.20415896, -1.17324294, -0.61772077,  1.34622861],\n",
       "       [ 1.23931523, -0.46538157, -0.90188196, -0.61772077,  0.84850324],\n",
       "       [-0.74404629, -0.50596857,  0.73221997, -0.61772077, -0.64467286],\n",
       "       [-0.7440463 , -0.50557626,  0.53378725, -0.61772077, -0.64467286],\n",
       "       [-0.74404624, -0.50572587,  0.62367557, -0.61772077, -0.64467286],\n",
       "       [-0.7440463 , -0.50572248,  0.7139031 , -0.61772077, -0.64467286],\n",
       "       [-0.74404618, -0.50571892,  0.48205906, -0.61772077, -0.64467286],\n",
       "       [ 1.3734838 , -0.39405116, -0.87050585,  1.61885443,  0.84850324],\n",
       "       [-0.02653611, -0.42614985, -0.95106614, -0.61772077,  0.84850324],\n",
       "       [ 0.14263297, -0.37621856, -0.8586338 ,  1.61885443,  0.84850324],\n",
       "       [-0.74404631, -0.50621288,  1.32497412, -0.61772077, -1.14239822],\n",
       "       [ 0.84264292,  1.60320027, -1.15628288, -0.61772077,  1.34622861],\n",
       "       [-0.74404631, -0.50622893,  0.98831689, -0.61772077, -1.14239822],\n",
       "       [ 1.28493254, -0.35303618, -0.87686587,  1.61885443,  0.84850324],\n",
       "       [ 4.12126788,  1.62281613, -1.27754732,  1.61885443,  1.34622861],\n",
       "       [-0.7440463 , -0.50611123,  0.8780765 , -0.61772077, -0.64467286],\n",
       "       [-0.74404629, -0.50548709,  0.53039523, -0.61772077, -0.64467286]])"
      ]
     },
     "execution_count": 107,
     "metadata": {},
     "output_type": "execute_result"
    }
   ],
   "source": [
    "X_test"
   ]
  },
  {
   "cell_type": "code",
   "execution_count": 108,
   "id": "c466e364",
   "metadata": {},
   "outputs": [],
   "source": [
    "#Scaling down the values \n",
    "from sklearn.preprocessing import StandardScaler\n",
    "\n",
    "sc = StandardScaler()\n",
    "\n",
    "x_train = sc.fit_transform(X_train)\n",
    "X_test = sc.transform(X_test)"
   ]
  },
  {
   "cell_type": "code",
   "execution_count": 109,
   "id": "4d4d46ed",
   "metadata": {},
   "outputs": [],
   "source": [
    "from sklearn.ensemble import RandomForestRegressor\n"
   ]
  },
  {
   "cell_type": "code",
   "execution_count": 110,
   "id": "ad8410ac",
   "metadata": {},
   "outputs": [],
   "source": [
    "rf = RandomForestRegressor(n_estimators = 1000, random_state = 42)\n"
   ]
  },
  {
   "cell_type": "code",
   "execution_count": 111,
   "id": "d6bdd0cc",
   "metadata": {},
   "outputs": [
    {
     "name": "stderr",
     "output_type": "stream",
     "text": [
      "/var/folders/px/s9gf__z95vqfkz8lnyxs71w00000gn/T/ipykernel_11976/4185311803.py:1: DataConversionWarning: A column-vector y was passed when a 1d array was expected. Please change the shape of y to (n_samples,), for example using ravel().\n",
      "  rf.fit(X_train,y_train)\n"
     ]
    },
    {
     "data": {
      "text/html": [
       "<style>#sk-container-id-8 {color: black;background-color: white;}#sk-container-id-8 pre{padding: 0;}#sk-container-id-8 div.sk-toggleable {background-color: white;}#sk-container-id-8 label.sk-toggleable__label {cursor: pointer;display: block;width: 100%;margin-bottom: 0;padding: 0.3em;box-sizing: border-box;text-align: center;}#sk-container-id-8 label.sk-toggleable__label-arrow:before {content: \"▸\";float: left;margin-right: 0.25em;color: #696969;}#sk-container-id-8 label.sk-toggleable__label-arrow:hover:before {color: black;}#sk-container-id-8 div.sk-estimator:hover label.sk-toggleable__label-arrow:before {color: black;}#sk-container-id-8 div.sk-toggleable__content {max-height: 0;max-width: 0;overflow: hidden;text-align: left;background-color: #f0f8ff;}#sk-container-id-8 div.sk-toggleable__content pre {margin: 0.2em;color: black;border-radius: 0.25em;background-color: #f0f8ff;}#sk-container-id-8 input.sk-toggleable__control:checked~div.sk-toggleable__content {max-height: 200px;max-width: 100%;overflow: auto;}#sk-container-id-8 input.sk-toggleable__control:checked~label.sk-toggleable__label-arrow:before {content: \"▾\";}#sk-container-id-8 div.sk-estimator input.sk-toggleable__control:checked~label.sk-toggleable__label {background-color: #d4ebff;}#sk-container-id-8 div.sk-label input.sk-toggleable__control:checked~label.sk-toggleable__label {background-color: #d4ebff;}#sk-container-id-8 input.sk-hidden--visually {border: 0;clip: rect(1px 1px 1px 1px);clip: rect(1px, 1px, 1px, 1px);height: 1px;margin: -1px;overflow: hidden;padding: 0;position: absolute;width: 1px;}#sk-container-id-8 div.sk-estimator {font-family: monospace;background-color: #f0f8ff;border: 1px dotted black;border-radius: 0.25em;box-sizing: border-box;margin-bottom: 0.5em;}#sk-container-id-8 div.sk-estimator:hover {background-color: #d4ebff;}#sk-container-id-8 div.sk-parallel-item::after {content: \"\";width: 100%;border-bottom: 1px solid gray;flex-grow: 1;}#sk-container-id-8 div.sk-label:hover label.sk-toggleable__label {background-color: #d4ebff;}#sk-container-id-8 div.sk-serial::before {content: \"\";position: absolute;border-left: 1px solid gray;box-sizing: border-box;top: 0;bottom: 0;left: 50%;z-index: 0;}#sk-container-id-8 div.sk-serial {display: flex;flex-direction: column;align-items: center;background-color: white;padding-right: 0.2em;padding-left: 0.2em;position: relative;}#sk-container-id-8 div.sk-item {position: relative;z-index: 1;}#sk-container-id-8 div.sk-parallel {display: flex;align-items: stretch;justify-content: center;background-color: white;position: relative;}#sk-container-id-8 div.sk-item::before, #sk-container-id-8 div.sk-parallel-item::before {content: \"\";position: absolute;border-left: 1px solid gray;box-sizing: border-box;top: 0;bottom: 0;left: 50%;z-index: -1;}#sk-container-id-8 div.sk-parallel-item {display: flex;flex-direction: column;z-index: 1;position: relative;background-color: white;}#sk-container-id-8 div.sk-parallel-item:first-child::after {align-self: flex-end;width: 50%;}#sk-container-id-8 div.sk-parallel-item:last-child::after {align-self: flex-start;width: 50%;}#sk-container-id-8 div.sk-parallel-item:only-child::after {width: 0;}#sk-container-id-8 div.sk-dashed-wrapped {border: 1px dashed gray;margin: 0 0.4em 0.5em 0.4em;box-sizing: border-box;padding-bottom: 0.4em;background-color: white;}#sk-container-id-8 div.sk-label label {font-family: monospace;font-weight: bold;display: inline-block;line-height: 1.2em;}#sk-container-id-8 div.sk-label-container {text-align: center;}#sk-container-id-8 div.sk-container {/* jupyter's `normalize.less` sets `[hidden] { display: none; }` but bootstrap.min.css set `[hidden] { display: none !important; }` so we also need the `!important` here to be able to override the default hidden behavior on the sphinx rendered scikit-learn.org. See: https://github.com/scikit-learn/scikit-learn/issues/21755 */display: inline-block !important;position: relative;}#sk-container-id-8 div.sk-text-repr-fallback {display: none;}</style><div id=\"sk-container-id-8\" class=\"sk-top-container\"><div class=\"sk-text-repr-fallback\"><pre>RandomForestRegressor(n_estimators=1000, random_state=42)</pre><b>In a Jupyter environment, please rerun this cell to show the HTML representation or trust the notebook. <br />On GitHub, the HTML representation is unable to render, please try loading this page with nbviewer.org.</b></div><div class=\"sk-container\" hidden><div class=\"sk-item\"><div class=\"sk-estimator sk-toggleable\"><input class=\"sk-toggleable__control sk-hidden--visually\" id=\"sk-estimator-id-8\" type=\"checkbox\" checked><label for=\"sk-estimator-id-8\" class=\"sk-toggleable__label sk-toggleable__label-arrow\">RandomForestRegressor</label><div class=\"sk-toggleable__content\"><pre>RandomForestRegressor(n_estimators=1000, random_state=42)</pre></div></div></div></div></div>"
      ],
      "text/plain": [
       "RandomForestRegressor(n_estimators=1000, random_state=42)"
      ]
     },
     "execution_count": 111,
     "metadata": {},
     "output_type": "execute_result"
    }
   ],
   "source": [
    "rf.fit(X_train,y_train)\n"
   ]
  },
  {
   "cell_type": "code",
   "execution_count": 112,
   "id": "a73e5459",
   "metadata": {},
   "outputs": [],
   "source": [
    "y_predictions = rf.predict(X_test)"
   ]
  },
  {
   "cell_type": "code",
   "execution_count": 113,
   "id": "5b8868bf",
   "metadata": {},
   "outputs": [
    {
     "data": {
      "text/plain": [
       "array([ 3529.222,  3159.94 ,  3260.392,  3249.591, 33002.022,  3588.363,\n",
       "        3262.657, 31530.79 ,  3130.506,  3291.736,  3260.392,  3136.667,\n",
       "        3583.899,  3277.694,  3150.057, 15248.348,  3277.539, 29734.851,\n",
       "        3155.182,  3235.539,  3495.425,  3293.731,  3305.799,  3135.898,\n",
       "        3136.269, 17515.657,  3616.497, 16340.554, 34374.288,  3633.553,\n",
       "        3266.906,  3141.336,  3172.597,  3130.506,  3135.898,  3172.324,\n",
       "       22272.393,  3376.73 , 25224.439,  3180.256,  3659.888,  3277.539,\n",
       "       24318.063, 26657.066,  3235.539,  3172.324])"
      ]
     },
     "execution_count": 113,
     "metadata": {},
     "output_type": "execute_result"
    }
   ],
   "source": [
    "y_predictions\n"
   ]
  },
  {
   "cell_type": "code",
   "execution_count": 114,
   "id": "57082654",
   "metadata": {},
   "outputs": [],
   "source": [
    "from sklearn.metrics import mean_squared_error ,r2_score , mean_absolute_error"
   ]
  },
  {
   "cell_type": "code",
   "execution_count": 115,
   "id": "ca0ffd38",
   "metadata": {},
   "outputs": [],
   "source": [
    "mse = mean_squared_error(y_test,y_predictions)\n",
    "mae = mean_absolute_error(y_test,y_predictions)\n",
    "rf_score = r2_score(y_test,y_predictions)\n",
    "rmse = mean_squared_error(y_test,y_predictions, squared=False)"
   ]
  },
  {
   "cell_type": "code",
   "execution_count": 116,
   "id": "f70feee7",
   "metadata": {},
   "outputs": [
    {
     "data": {
      "text/plain": [
       "24378056.59524352"
      ]
     },
     "execution_count": 116,
     "metadata": {},
     "output_type": "execute_result"
    }
   ],
   "source": [
    "mse"
   ]
  },
  {
   "cell_type": "code",
   "execution_count": 117,
   "id": "aaf50569",
   "metadata": {},
   "outputs": [
    {
     "data": {
      "text/plain": [
       "4937.413958262313"
      ]
     },
     "execution_count": 117,
     "metadata": {},
     "output_type": "execute_result"
    }
   ],
   "source": [
    "rmse"
   ]
  },
  {
   "cell_type": "code",
   "execution_count": 118,
   "id": "d4620938",
   "metadata": {},
   "outputs": [
    {
     "data": {
      "text/plain": [
       "0.7060161998940037"
      ]
     },
     "execution_count": 118,
     "metadata": {},
     "output_type": "execute_result"
    }
   ],
   "source": [
    "rf_score"
   ]
  },
  {
   "cell_type": "code",
   "execution_count": 119,
   "id": "59d4227b",
   "metadata": {},
   "outputs": [
    {
     "data": {
      "text/plain": [
       "1941.172695652174"
      ]
     },
     "execution_count": 119,
     "metadata": {},
     "output_type": "execute_result"
    }
   ],
   "source": [
    "mae "
   ]
  },
  {
   "cell_type": "code",
   "execution_count": null,
   "id": "2f42e852",
   "metadata": {},
   "outputs": [],
   "source": []
  },
  {
   "cell_type": "markdown",
   "id": "84a85b77",
   "metadata": {},
   "source": [
    "# SUPPORT VECTOR REGRESSOR IMPLEMENTATIONS\n"
   ]
  },
  {
   "cell_type": "code",
   "execution_count": 120,
   "id": "fcabaf17",
   "metadata": {},
   "outputs": [],
   "source": [
    "#Dividing the datas between independent and dependent variable \n",
    "X = df.drop(['Temperature'],axis=1)\n",
    "Y = df['Temperature']"
   ]
  },
  {
   "cell_type": "code",
   "execution_count": 121,
   "id": "d437777c",
   "metadata": {},
   "outputs": [],
   "source": [
    "from sklearn.preprocessing import StandardScaler"
   ]
  },
  {
   "cell_type": "code",
   "execution_count": 122,
   "id": "4412fc9f",
   "metadata": {},
   "outputs": [],
   "source": [
    "#Scaling down the values for better training the model\n",
    "from sklearn.preprocessing import StandardScaler \n",
    "sc_X = StandardScaler() \n",
    "sc_Y = StandardScaler() \n",
    "X = sc_X.fit_transform(X) \n",
    "Y = Y.values.reshape(-1,1)"
   ]
  },
  {
   "cell_type": "code",
   "execution_count": 123,
   "id": "5b39da4b",
   "metadata": {},
   "outputs": [
    {
     "name": "stderr",
     "output_type": "stream",
     "text": [
      "/Library/Frameworks/Python.framework/Versions/3.9/lib/python3.9/site-packages/sklearn/utils/validation.py:1111: DataConversionWarning: A column-vector y was passed when a 1d array was expected. Please change the shape of y to (n_samples, ), for example using ravel().\n",
      "  y = column_or_1d(y, warn=True)\n"
     ]
    },
    {
     "data": {
      "text/html": [
       "<style>#sk-container-id-9 {color: black;background-color: white;}#sk-container-id-9 pre{padding: 0;}#sk-container-id-9 div.sk-toggleable {background-color: white;}#sk-container-id-9 label.sk-toggleable__label {cursor: pointer;display: block;width: 100%;margin-bottom: 0;padding: 0.3em;box-sizing: border-box;text-align: center;}#sk-container-id-9 label.sk-toggleable__label-arrow:before {content: \"▸\";float: left;margin-right: 0.25em;color: #696969;}#sk-container-id-9 label.sk-toggleable__label-arrow:hover:before {color: black;}#sk-container-id-9 div.sk-estimator:hover label.sk-toggleable__label-arrow:before {color: black;}#sk-container-id-9 div.sk-toggleable__content {max-height: 0;max-width: 0;overflow: hidden;text-align: left;background-color: #f0f8ff;}#sk-container-id-9 div.sk-toggleable__content pre {margin: 0.2em;color: black;border-radius: 0.25em;background-color: #f0f8ff;}#sk-container-id-9 input.sk-toggleable__control:checked~div.sk-toggleable__content {max-height: 200px;max-width: 100%;overflow: auto;}#sk-container-id-9 input.sk-toggleable__control:checked~label.sk-toggleable__label-arrow:before {content: \"▾\";}#sk-container-id-9 div.sk-estimator input.sk-toggleable__control:checked~label.sk-toggleable__label {background-color: #d4ebff;}#sk-container-id-9 div.sk-label input.sk-toggleable__control:checked~label.sk-toggleable__label {background-color: #d4ebff;}#sk-container-id-9 input.sk-hidden--visually {border: 0;clip: rect(1px 1px 1px 1px);clip: rect(1px, 1px, 1px, 1px);height: 1px;margin: -1px;overflow: hidden;padding: 0;position: absolute;width: 1px;}#sk-container-id-9 div.sk-estimator {font-family: monospace;background-color: #f0f8ff;border: 1px dotted black;border-radius: 0.25em;box-sizing: border-box;margin-bottom: 0.5em;}#sk-container-id-9 div.sk-estimator:hover {background-color: #d4ebff;}#sk-container-id-9 div.sk-parallel-item::after {content: \"\";width: 100%;border-bottom: 1px solid gray;flex-grow: 1;}#sk-container-id-9 div.sk-label:hover label.sk-toggleable__label {background-color: #d4ebff;}#sk-container-id-9 div.sk-serial::before {content: \"\";position: absolute;border-left: 1px solid gray;box-sizing: border-box;top: 0;bottom: 0;left: 50%;z-index: 0;}#sk-container-id-9 div.sk-serial {display: flex;flex-direction: column;align-items: center;background-color: white;padding-right: 0.2em;padding-left: 0.2em;position: relative;}#sk-container-id-9 div.sk-item {position: relative;z-index: 1;}#sk-container-id-9 div.sk-parallel {display: flex;align-items: stretch;justify-content: center;background-color: white;position: relative;}#sk-container-id-9 div.sk-item::before, #sk-container-id-9 div.sk-parallel-item::before {content: \"\";position: absolute;border-left: 1px solid gray;box-sizing: border-box;top: 0;bottom: 0;left: 50%;z-index: -1;}#sk-container-id-9 div.sk-parallel-item {display: flex;flex-direction: column;z-index: 1;position: relative;background-color: white;}#sk-container-id-9 div.sk-parallel-item:first-child::after {align-self: flex-end;width: 50%;}#sk-container-id-9 div.sk-parallel-item:last-child::after {align-self: flex-start;width: 50%;}#sk-container-id-9 div.sk-parallel-item:only-child::after {width: 0;}#sk-container-id-9 div.sk-dashed-wrapped {border: 1px dashed gray;margin: 0 0.4em 0.5em 0.4em;box-sizing: border-box;padding-bottom: 0.4em;background-color: white;}#sk-container-id-9 div.sk-label label {font-family: monospace;font-weight: bold;display: inline-block;line-height: 1.2em;}#sk-container-id-9 div.sk-label-container {text-align: center;}#sk-container-id-9 div.sk-container {/* jupyter's `normalize.less` sets `[hidden] { display: none; }` but bootstrap.min.css set `[hidden] { display: none !important; }` so we also need the `!important` here to be able to override the default hidden behavior on the sphinx rendered scikit-learn.org. See: https://github.com/scikit-learn/scikit-learn/issues/21755 */display: inline-block !important;position: relative;}#sk-container-id-9 div.sk-text-repr-fallback {display: none;}</style><div id=\"sk-container-id-9\" class=\"sk-top-container\"><div class=\"sk-text-repr-fallback\"><pre>SVR()</pre><b>In a Jupyter environment, please rerun this cell to show the HTML representation or trust the notebook. <br />On GitHub, the HTML representation is unable to render, please try loading this page with nbviewer.org.</b></div><div class=\"sk-container\" hidden><div class=\"sk-item\"><div class=\"sk-estimator sk-toggleable\"><input class=\"sk-toggleable__control sk-hidden--visually\" id=\"sk-estimator-id-9\" type=\"checkbox\" checked><label for=\"sk-estimator-id-9\" class=\"sk-toggleable__label sk-toggleable__label-arrow\">SVR</label><div class=\"sk-toggleable__content\"><pre>SVR()</pre></div></div></div></div></div>"
      ],
      "text/plain": [
       "SVR()"
      ]
     },
     "execution_count": 123,
     "metadata": {},
     "output_type": "execute_result"
    }
   ],
   "source": [
    "from sklearn.svm import SVR \n",
    "regressor = SVR(kernel = 'rbf') \n",
    "regressor.fit(X, Y)"
   ]
  },
  {
   "cell_type": "code",
   "execution_count": 124,
   "id": "cf18f665",
   "metadata": {},
   "outputs": [],
   "source": [
    "predictions = regressor.predict(X)\n"
   ]
  },
  {
   "cell_type": "code",
   "execution_count": 125,
   "id": "31befa6b",
   "metadata": {},
   "outputs": [
    {
     "data": {
      "text/plain": [
       "array([3484.0562415 , 3484.00476349, 3484.16804584, 3484.00130985,\n",
       "       3484.60611407, 3483.98749032, 3483.9872943 , 3483.99255436,\n",
       "       3483.99485015, 3484.06649464, 3488.84799519, 3487.91382433,\n",
       "       3486.93650328, 3489.04294996, 3487.9198339 , 3487.02102895,\n",
       "       3486.16884303, 3488.74786985, 3486.75334001, 3488.41329607,\n",
       "       3554.19771597, 3534.73185609, 3537.39042264, 3532.93286404,\n",
       "       3534.74934405, 3536.27803587, 3537.31263889, 3532.35641851,\n",
       "       3534.01676043, 3534.4838675 , 3539.37983755, 3540.48664122,\n",
       "       3540.82464404, 3536.76347646, 3540.35024767, 3540.16278309,\n",
       "       3538.47306003, 3539.48533555, 3540.8091622 , 3538.59987475,\n",
       "       3484.04146653, 3483.9883655 , 3484.06052087, 3483.98787254,\n",
       "       3484.21376802, 3483.98640348, 3484.09538716, 3484.0172597 ,\n",
       "       3483.99214913, 3484.37129962, 3487.53238836, 3489.38945266,\n",
       "       3486.94243578, 3487.79816899, 3488.66687854, 3487.93726781,\n",
       "       3486.79225914, 3487.85172815, 3487.18476519, 3486.51936323,\n",
       "       3553.87202321, 3539.46563203, 3554.29510937, 3558.31445337,\n",
       "       3553.52502199, 3557.96909044, 3558.0831812 , 3556.73676825,\n",
       "       3555.17218392, 3558.27051323, 3538.0918845 , 3539.03801668,\n",
       "       3538.16928503, 3537.72865167, 3537.82731732, 3538.86048796,\n",
       "       3537.91819078, 3539.69512625, 3483.98655362, 3484.55718758,\n",
       "       3484.58959024, 3483.9888266 , 3483.98636568, 3484.43993091,\n",
       "       3483.99001001, 3483.99760414, 3484.41526538, 3484.05573598,\n",
       "       3488.68496421, 3489.17589104, 3488.42182757, 3486.99064605,\n",
       "       3486.40184158, 3486.18448414, 3488.20283568, 3486.38821923,\n",
       "       3487.58280483, 3486.35678024, 3554.08588702, 3557.80661568,\n",
       "       3558.31364097, 3555.58830747, 3558.47998885, 3558.2784107 ,\n",
       "       3554.76851911, 3555.49361684, 3557.06549632, 3558.31049172,\n",
       "       3556.3974777 , 3539.63514416, 3538.20040501, 3540.4098509 ,\n",
       "       3537.73261887, 3548.28647605, 3484.04403011, 3484.10439091,\n",
       "       3484.00115536, 3483.99028113, 3483.98638528, 3483.98856855,\n",
       "       3483.9948541 , 3483.99999986, 3484.37791069, 3484.02742571,\n",
       "       3488.16980866, 3488.81137925, 3486.79790422, 3487.15666339,\n",
       "       3487.4406191 , 3486.67960814, 3486.45234569, 3486.11414047,\n",
       "       3487.20460712, 3486.17455672, 3553.94032123, 3552.98473267,\n",
       "       3558.21283644, 3558.70202381, 3558.62991685, 3551.95585524,\n",
       "       3558.36590431, 3558.05917192, 3549.25356024, 3540.5610888 ,\n",
       "       3558.40405671, 3542.07028036, 3544.41441233, 3535.01540104,\n",
       "       3544.13894364, 3535.60890221, 3539.11643985])"
      ]
     },
     "execution_count": 125,
     "metadata": {},
     "output_type": "execute_result"
    }
   ],
   "source": [
    "predictions"
   ]
  },
  {
   "cell_type": "code",
   "execution_count": 126,
   "id": "ee0ae087",
   "metadata": {},
   "outputs": [],
   "source": [
    "from sklearn.metrics import mean_squared_error ,r2_score, mean_absolute_error"
   ]
  },
  {
   "cell_type": "code",
   "execution_count": 127,
   "id": "619908ff",
   "metadata": {},
   "outputs": [],
   "source": [
    "mse = mean_squared_error(Y,predictions)\n",
    "rmse = mean_squared_error(Y,predictions, squared = False)\n",
    "mae = mean_absolute_error(Y,predictions)\n",
    "svr_score = r2_score(Y,predictions)"
   ]
  },
  {
   "cell_type": "code",
   "execution_count": 128,
   "id": "e2e821ac",
   "metadata": {},
   "outputs": [
    {
     "data": {
      "text/plain": [
       "122151918.37567084"
      ]
     },
     "execution_count": 128,
     "metadata": {},
     "output_type": "execute_result"
    }
   ],
   "source": [
    "mse"
   ]
  },
  {
   "cell_type": "code",
   "execution_count": 129,
   "id": "30b0a4db",
   "metadata": {},
   "outputs": [
    {
     "data": {
      "text/plain": [
       "5191.524248686771"
      ]
     },
     "execution_count": 129,
     "metadata": {},
     "output_type": "execute_result"
    }
   ],
   "source": [
    "mae"
   ]
  },
  {
   "cell_type": "code",
   "execution_count": 130,
   "id": "b7b2e0e6",
   "metadata": {},
   "outputs": [
    {
     "data": {
      "text/plain": [
       "11052.235899385736"
      ]
     },
     "execution_count": 130,
     "metadata": {},
     "output_type": "execute_result"
    }
   ],
   "source": [
    "rmse"
   ]
  },
  {
   "cell_type": "code",
   "execution_count": 131,
   "id": "1091b311",
   "metadata": {},
   "outputs": [
    {
     "data": {
      "text/plain": [
       "-0.22612776374629928"
      ]
     },
     "execution_count": 131,
     "metadata": {},
     "output_type": "execute_result"
    }
   ],
   "source": [
    "svr_score"
   ]
  },
  {
   "cell_type": "markdown",
   "id": "7e1742de",
   "metadata": {},
   "source": [
    "# GRAPH VISUALIZATION "
   ]
  },
  {
   "cell_type": "code",
   "execution_count": 132,
   "id": "97deb7c8",
   "metadata": {},
   "outputs": [
    {
     "data": {
      "image/png": "[encoded data removed]",
      "text/plain": [
       "<Figure size 432x288 with 1 Axes>"
      ]
     },
     "metadata": {
      "needs_background": "light"
     },
     "output_type": "display_data"
    }
   ],
   "source": [
    "#LR - Linear Regression\n",
    "#RF - Random Forest Regressor\n",
    "#Support Vector Regressor\n",
    "algorithms=[\"LR\", \"RF\", \"SVR\"]\n",
    "Scores=[lr_score,rf_score,svr_score]\n",
    "plt.plot(algorithms,Scores , marker = 'o',color='red')\n",
    "plt.grid()\n",
    "plt.title(\"R2 Value Display\")\n",
    "plt.xlabel(\"Algorithms\")\n",
    "plt.ylabel(\"R2-Scores\")\n",
    "plt.show()"
   ]
  },
  {
   "cell_type": "code",
   "execution_count": null,
   "id": "8c6453ec",
   "metadata": {},
   "outputs": [],
   "source": []
  },
  {
   "cell_type": "code",
   "execution_count": null,
   "id": "a593984e",
   "metadata": {},
   "outputs": [],
   "source": []
  }
 ],
 "metadata": {
  "kernelspec": {
   "display_name": "Python 3 (ipykernel)",
   "language": "python",
   "name": "python3"
  },
  "language_info": {
   "codemirror_mode": {
    "name": "ipython",
    "version": 3
   },
   "file_extension": ".py",
   "mimetype": "text/x-python",
   "name": "python",
   "nbconvert_exporter": "python",
   "pygments_lexer": "ipython3",
   "version": "3.9.5"
  }
 },
 "nbformat": 4,
 "nbformat_minor": 5
}
