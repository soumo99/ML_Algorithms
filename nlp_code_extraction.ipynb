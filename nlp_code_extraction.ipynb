{
  "nbformat": 4,
  "nbformat_minor": 0,
  "metadata": {
    "colab": {
      "provenance": [],
      "collapsed_sections": [],
      "authorship_tag": "ABX9TyNXghBtupIRXhu+OZzD024S",
      "include_colab_link": true
    },
    "kernelspec": {
      "name": "python3",
      "display_name": "Python 3"
    },
    "language_info": {
      "name": "python"
    },
    "gpuClass": "standard"
  },
  "cells": [
    {
      "cell_type": "markdown",
      "metadata": {
        "id": "view-in-github",
        "colab_type": "text"
      },
      "source": [
        "<a href=\"https://colab.research.google.com/github/soumo99/ML_codes/blob/main/nlp_code_extraction.ipynb\" target=\"_parent\"><img src=\"https://colab.research.google.com/assets/colab-badge.svg\" alt=\"Open In Colab\"/></a>"
      ]
    },
    {
      "cell_type": "markdown",
      "source": [
        "# EXPERIMENT 3.1\n",
        "# NAME - SOUMOBRATA MANNA\n",
        "# UID - 21MCA2484\n",
        "# SEC - 8 A\n",
        "# SUBJECT CODE - 21CAP - 703\n",
        "# SUBJECT NAME - MACHINE LEARNING LAB"
      ],
      "metadata": {
        "id": "h2ytVXVvd43G"
      }
    },
    {
      "cell_type": "markdown",
      "source": [
        "Q : 1 : How to extract\n",
        "\n",
        "a. Letter \n",
        "\n",
        " b. Word \n",
        "\n",
        " c. Sentence \n",
        "\n",
        " From the data set using Python.\n",
        "\n"
      ],
      "metadata": {
        "id": "bK9XvCEYfoLF"
      }
    },
    {
      "cell_type": "markdown",
      "source": [
        "# TECHNIQUE - 1 - Using Spacy"
      ],
      "metadata": {
        "id": "IZegFjb7dwx3"
      }
    },
    {
      "cell_type": "markdown",
      "source": [
        "EXTRACTING WORDS FROM SENTENCE USING SPACY AND REGEX"
      ],
      "metadata": {
        "id": "UlNT_8DLTUAQ"
      }
    },
    {
      "cell_type": "code",
      "execution_count": 1,
      "metadata": {
        "id": "ebccMeS-iRaO"
      },
      "outputs": [],
      "source": [
        "import spacy "
      ]
    },
    {
      "cell_type": "code",
      "source": [
        "nlp = spacy.blank('en')\n",
        "doc = nlp(\"Data science is the study of large quantities of data .which can reveal insights that help organizations make strategic choices.\")\n",
        "\n",
        "for token in doc:\n",
        "  print(token)"
      ],
      "metadata": {
        "colab": {
          "base_uri": "https://localhost:8080/",
          "height": 0
        },
        "id": "hugAHn4mRIhg",
        "outputId": "dac84301-c195-4369-c962-26ca9f7b4a45"
      },
      "execution_count": 2,
      "outputs": [
        {
          "output_type": "stream",
          "name": "stdout",
          "text": [
            "Data\n",
            "science\n",
            "is\n",
            "the\n",
            "study\n",
            "of\n",
            "large\n",
            "quantities\n",
            "of\n",
            "data\n",
            ".\n",
            " \n",
            "which\n",
            "can\n",
            "reveal\n",
            "insights\n",
            "that\n",
            "help\n",
            "organizations\n",
            "make\n",
            "strategic\n",
            "choices\n",
            ".\n"
          ]
        }
      ]
    },
    {
      "cell_type": "code",
      "source": [
        "token_0 = doc[0:2]\n",
        "print(token_0)"
      ],
      "metadata": {
        "colab": {
          "base_uri": "https://localhost:8080/",
          "height": 0
        },
        "id": "vda-FOWCR8yH",
        "outputId": "19775d73-8c25-47dc-978a-cdbe63d65355"
      },
      "execution_count": 3,
      "outputs": [
        {
          "output_type": "stream",
          "name": "stdout",
          "text": [
            "Data science\n"
          ]
        }
      ]
    },
    {
      "cell_type": "markdown",
      "source": [
        "# TECHNIQUE - 2 -  Using Regular Expression \n",
        "\n"
      ],
      "metadata": {
        "id": "46rTYeT7dRQT"
      }
    },
    {
      "cell_type": "code",
      "source": [
        "import re\n"
      ],
      "metadata": {
        "id": "U18nGR5FSMVj"
      },
      "execution_count": 4,
      "outputs": []
    },
    {
      "cell_type": "code",
      "source": [
        "word = \"Data science is the study of large quantities of data .  which can reveal insights that help organizations make strategic choices.\""
      ],
      "metadata": {
        "id": "zpZzc_ZqSg-6"
      },
      "execution_count": 5,
      "outputs": []
    },
    {
      "cell_type": "code",
      "source": [
        "print(\"The original string is :\", word)"
      ],
      "metadata": {
        "colab": {
          "base_uri": "https://localhost:8080/",
          "height": 0
        },
        "id": "LMsDh7D9SsDx",
        "outputId": "a0f9dd96-d0dc-47d7-fa61-5ce02ecf6c9e"
      },
      "execution_count": 6,
      "outputs": [
        {
          "output_type": "stream",
          "name": "stdout",
          "text": [
            "The original string is : Data science is the study of large quantities of data .  which can reveal insights that help organizations make strategic choices.\n"
          ]
        }
      ]
    },
    {
      "cell_type": "code",
      "source": [
        "res = re.findall(r'\\w+', word)"
      ],
      "metadata": {
        "id": "ov0wlL8cSxwj"
      },
      "execution_count": 7,
      "outputs": []
    },
    {
      "cell_type": "code",
      "source": [
        "print(\"The tekenize word is : \", res)"
      ],
      "metadata": {
        "colab": {
          "base_uri": "https://localhost:8080/",
          "height": 0
        },
        "id": "knWcg_HpS4CI",
        "outputId": "d88e7d54-da51-4c6c-b832-53d1c6868bc4"
      },
      "execution_count": 8,
      "outputs": [
        {
          "output_type": "stream",
          "name": "stdout",
          "text": [
            "The tekenize word is :  ['Data', 'science', 'is', 'the', 'study', 'of', 'large', 'quantities', 'of', 'data', 'which', 'can', 'reveal', 'insights', 'that', 'help', 'organizations', 'make', 'strategic', 'choices']\n"
          ]
        }
      ]
    },
    {
      "cell_type": "code",
      "source": [],
      "metadata": {
        "id": "uuODi1W0TEg2"
      },
      "execution_count": 8,
      "outputs": []
    },
    {
      "cell_type": "markdown",
      "source": [
        "EXTRACTING SENTENCES FROM A PARAGRAPH"
      ],
      "metadata": {
        "id": "gESFzqVaTcY6"
      }
    },
    {
      "cell_type": "code",
      "source": [
        "import nltk"
      ],
      "metadata": {
        "id": "6aBA5pgPThch"
      },
      "execution_count": 9,
      "outputs": []
    },
    {
      "cell_type": "code",
      "source": [
        "nltk.download('punkt') "
      ],
      "metadata": {
        "colab": {
          "base_uri": "https://localhost:8080/",
          "height": 0
        },
        "id": "R25yg-KgUIFS",
        "outputId": "0c40a870-cf7b-41fc-c570-545ac235da8e"
      },
      "execution_count": 10,
      "outputs": [
        {
          "output_type": "stream",
          "name": "stderr",
          "text": [
            "[nltk_data] Downloading package punkt to /root/nltk_data...\n",
            "[nltk_data]   Unzipping tokenizers/punkt.zip.\n"
          ]
        },
        {
          "output_type": "execute_result",
          "data": {
            "text/plain": [
              "True"
            ]
          },
          "metadata": {},
          "execution_count": 10
        }
      ]
    },
    {
      "cell_type": "code",
      "source": [
        "essay = '''Random forest is a Supervised Machine Learning Algorithm that is used widely in Classification and Regression problems. \n",
        "It builds decision trees on different samples and takes their majority vote for classification and average in case of regression.\n",
        "\n",
        "One of the most important features of the Random Forest Algorithm is that it can handle the data set containing continuous \n",
        "variables as in the case of regression and categorical variables as in the case of classification. It performs better results\n",
        " for classification problems.'''\n",
        "\n"
      ],
      "metadata": {
        "id": "6WP9YZo9ULIT"
      },
      "execution_count": 11,
      "outputs": []
    },
    {
      "cell_type": "code",
      "source": [
        "essay"
      ],
      "metadata": {
        "colab": {
          "base_uri": "https://localhost:8080/",
          "height": 89
        },
        "id": "Yn9fkrdvUtY2",
        "outputId": "2009f8d9-01f2-4a51-b4a3-cd0de2f545e5"
      },
      "execution_count": 12,
      "outputs": [
        {
          "output_type": "execute_result",
          "data": {
            "text/plain": [
              "'Random forest is a Supervised Machine Learning Algorithm that is used widely in Classification and Regression problems. \\nIt builds decision trees on different samples and takes their majority vote for classification and average in case of regression.\\n\\nOne of the most important features of the Random Forest Algorithm is that it can handle the data set containing continuous \\nvariables as in the case of regression and categorical variables as in the case of classification. It performs better results\\n for classification problems.'"
            ],
            "application/vnd.google.colaboratory.intrinsic+json": {
              "type": "string"
            }
          },
          "metadata": {},
          "execution_count": 12
        }
      ]
    },
    {
      "cell_type": "code",
      "source": [
        "sent_tokens = nltk.sent_tokenize(essay)\n",
        "\n",
        "for t in sent_tokens:\n",
        "  print(t,\"\\n\")"
      ],
      "metadata": {
        "colab": {
          "base_uri": "https://localhost:8080/",
          "height": 0
        },
        "id": "nOVzwNOTUuZS",
        "outputId": "295dbfc3-bf55-48ba-9c60-62802fb1ec23"
      },
      "execution_count": 13,
      "outputs": [
        {
          "output_type": "stream",
          "name": "stdout",
          "text": [
            "Random forest is a Supervised Machine Learning Algorithm that is used widely in Classification and Regression problems. \n",
            "\n",
            "It builds decision trees on different samples and takes their majority vote for classification and average in case of regression. \n",
            "\n",
            "One of the most important features of the Random Forest Algorithm is that it can handle the data set containing continuous \n",
            "variables as in the case of regression and categorical variables as in the case of classification. \n",
            "\n",
            "It performs better results\n",
            " for classification problems. \n",
            "\n"
          ]
        }
      ]
    },
    {
      "cell_type": "code",
      "source": [],
      "metadata": {
        "id": "J6dnCMQ_U8hj"
      },
      "execution_count": 13,
      "outputs": []
    }
  ]
}