{
  "nbformat": 4,
  "nbformat_minor": 0,
  "metadata": {
    "colab": {
      "provenance": [],
      "authorship_tag": "ABX9TyPN4SuptZmhwlnXuVq+R/c1",
      "include_colab_link": true
    },
    "kernelspec": {
      "name": "python3",
      "display_name": "Python 3"
    },
    "language_info": {
      "name": "python"
    },
    "gpuClass": "standard"
  },
  "cells": [
    {
      "cell_type": "markdown",
      "metadata": {
        "id": "view-in-github",
        "colab_type": "text"
      },
      "source": [
        "<a href=\"https://colab.research.google.com/github/soumo99/ML_codes/blob/main/nlp_email_number_extraction.ipynb\" target=\"_parent\"><img src=\"https://colab.research.google.com/assets/colab-badge.svg\" alt=\"Open In Colab\"/></a>"
      ]
    },
    {
      "cell_type": "markdown",
      "source": [
        "# EXPERIMENT 3.2\n",
        "# NAME - SOUMOBRATA MANNA\n",
        "# UID - 21MCA2484\n",
        "# SEC - 8 A\n",
        "# SUBJECT CODE - 21CAP - 703\n",
        "# SUBJECT NAME - MACHINE LEARNING LAB"
      ],
      "metadata": {
        "id": "nfvK2oZmpGKY"
      }
    },
    {
      "cell_type": "markdown",
      "source": [
        "Q - 1 : Write a Program to search an Email id and Mobile No. from given Dataset Using Python with suitable  library\n",
        "\n"
      ],
      "metadata": {
        "id": "ADD0v0-amCrj"
      }
    },
    {
      "cell_type": "markdown",
      "source": [
        "# Email Extraction from sentence"
      ],
      "metadata": {
        "id": "-2uKrNqMnyHy"
      }
    },
    {
      "cell_type": "code",
      "execution_count": 1,
      "metadata": {
        "id": "aDKWYoEFl-Nt"
      },
      "outputs": [],
      "source": [
        "import re"
      ]
    },
    {
      "cell_type": "code",
      "source": [
        "essay = '''Hello I am Soumobrata Manna , final year mca student of chandigarh university my contact details are phone number\n",
        " - 8420882191 and email soumo@gmail.com and alternate email manna@gmail.com '''\n",
        "\n",
        " "
      ],
      "metadata": {
        "id": "IxOj_Iz3nMeb"
      },
      "execution_count": 2,
      "outputs": []
    },
    {
      "cell_type": "code",
      "source": [
        "essay"
      ],
      "metadata": {
        "colab": {
          "base_uri": "https://localhost:8080/",
          "height": 53
        },
        "id": "JrocY2UJnXYy",
        "outputId": "437cc388-0154-4bb1-a9b5-ee6a2486d317"
      },
      "execution_count": 3,
      "outputs": [
        {
          "output_type": "execute_result",
          "data": {
            "text/plain": [
              "'Hello I am Soumobrata Manna , final year mca student of chandigarh university my contact details are phone number\\n - 8420882191 and email soumo@gmail.com and alternate email manna@gmail.com '"
            ],
            "application/vnd.google.colaboratory.intrinsic+json": {
              "type": "string"
            }
          },
          "metadata": {},
          "execution_count": 3
        }
      ]
    },
    {
      "cell_type": "code",
      "source": [
        "email_extract = re.findall('\\S+@\\S+', essay)"
      ],
      "metadata": {
        "id": "v5uSIkOFnX8D"
      },
      "execution_count": 4,
      "outputs": []
    },
    {
      "cell_type": "code",
      "source": [
        "email_extract"
      ],
      "metadata": {
        "colab": {
          "base_uri": "https://localhost:8080/"
        },
        "id": "j4hI0DcjnqS3",
        "outputId": "f1b2e09e-8495-4fb3-ea3b-9544953c1650"
      },
      "execution_count": 5,
      "outputs": [
        {
          "output_type": "execute_result",
          "data": {
            "text/plain": [
              "['soumo@gmail.com', 'manna@gmail.com']"
            ]
          },
          "metadata": {},
          "execution_count": 5
        }
      ]
    },
    {
      "cell_type": "markdown",
      "source": [
        "# Phone number extraction from sentence "
      ],
      "metadata": {
        "id": "nHS40vwtn3bS"
      }
    },
    {
      "cell_type": "code",
      "source": [
        "essay = '''Hello I am Soumobrata Manna , final year mca student of chandigarh university my contact details are phone number\n",
        " - 8420882191 and email soumo@gmail.com and alternate email manna@gmail.com '''\n",
        "\n",
        " "
      ],
      "metadata": {
        "id": "EsdbXTd8nsSb"
      },
      "execution_count": 6,
      "outputs": []
    },
    {
      "cell_type": "code",
      "source": [
        "essay"
      ],
      "metadata": {
        "colab": {
          "base_uri": "https://localhost:8080/",
          "height": 53
        },
        "id": "5tLL4y8foYxx",
        "outputId": "a1bf05a5-c2b3-4e3d-b99b-5ddfa2042986"
      },
      "execution_count": 7,
      "outputs": [
        {
          "output_type": "execute_result",
          "data": {
            "text/plain": [
              "'Hello I am Soumobrata Manna , final year mca student of chandigarh university my contact details are phone number\\n - 8420882191 and email soumo@gmail.com and alternate email manna@gmail.com '"
            ],
            "application/vnd.google.colaboratory.intrinsic+json": {
              "type": "string"
            }
          },
          "metadata": {},
          "execution_count": 7
        }
      ]
    },
    {
      "cell_type": "code",
      "source": [
        "number = re.compile(r'\\d\\d\\d\\d\\d\\d\\d\\d\\d\\d')\n",
        "number_extract = number.search(essay)"
      ],
      "metadata": {
        "id": "7Gjb8YdGoZ4G"
      },
      "execution_count": 8,
      "outputs": []
    },
    {
      "cell_type": "code",
      "source": [
        "number_extract.group()"
      ],
      "metadata": {
        "colab": {
          "base_uri": "https://localhost:8080/",
          "height": 35
        },
        "id": "t5NydGavowgS",
        "outputId": "85ee7feb-9d97-4ea8-f63b-97031b215460"
      },
      "execution_count": 9,
      "outputs": [
        {
          "output_type": "execute_result",
          "data": {
            "text/plain": [
              "'8420882191'"
            ],
            "application/vnd.google.colaboratory.intrinsic+json": {
              "type": "string"
            }
          },
          "metadata": {},
          "execution_count": 9
        }
      ]
    },
    {
      "cell_type": "code",
      "source": [],
      "metadata": {
        "id": "CtyV_78io2_6"
      },
      "execution_count": null,
      "outputs": []
    }
  ]
}