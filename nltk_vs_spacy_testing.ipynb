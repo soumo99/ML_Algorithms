{
  "nbformat": 4,
  "nbformat_minor": 0,
  "metadata": {
    "colab": {
      "name": "nltk_vs_spacy_testing.ipynb",
      "private_outputs": true,
      "provenance": [],
      "authorship_tag": "ABX9TyNe3WtjdAVUGjlmNiN9ap2J",
      "include_colab_link": true
    },
    "kernelspec": {
      "name": "python3",
      "display_name": "Python 3"
    },
    "language_info": {
      "name": "python"
    }
  },
  "cells": [
    {
      "cell_type": "markdown",
      "metadata": {
        "id": "view-in-github",
        "colab_type": "text"
      },
      "source": [
        "<a href=\"https://colab.research.google.com/github/soumo99/ML_codes/blob/main/nltk_vs_spacy_testing.ipynb\" target=\"_parent\"><img src=\"https://colab.research.google.com/assets/colab-badge.svg\" alt=\"Open In Colab\"/></a>"
      ]
    },
    {
      "cell_type": "markdown",
      "source": [
        "SPACY TESTING "
      ],
      "metadata": {
        "id": "8E-b-Yw0d_lI"
      }
    },
    {
      "cell_type": "code",
      "source": [
        "import spacy"
      ],
      "metadata": {
        "id": "3hZr9W6neCBq"
      },
      "execution_count": null,
      "outputs": []
    },
    {
      "cell_type": "markdown",
      "source": [
        "SENTENCE TOKENIZATION IN SPACY"
      ],
      "metadata": {
        "id": "OpvLA-vJe7rQ"
      }
    },
    {
      "cell_type": "code",
      "source": [
        "#en_core_web_sm is a small English pipeline trained on written web text (blogs, news, comments), that includes vocabulary, syntax and entities.\n",
        "nlp = spacy.load(\"en_core_web_sm\")\n",
        "#nlp = spacy.blank('en)\n",
        "doc = nlp(\"Data science is the study of large quantities of data .  which can reveal insights that help organizations make strategic choices.\")\n",
        "\n",
        "for sentence in doc.sents:\n",
        "  print(sentence)"
      ],
      "metadata": {
        "id": "VIufdXIueH58"
      },
      "execution_count": null,
      "outputs": []
    },
    {
      "cell_type": "markdown",
      "source": [
        "WORD TOKENIZATION "
      ],
      "metadata": {
        "id": "nSRRQuJufHin"
      }
    },
    {
      "cell_type": "code",
      "source": [
        "for sentence in doc.sents:\n",
        "  for word in sentence:\n",
        "    print(word)"
      ],
      "metadata": {
        "id": "_tzdCEcBfJeq"
      },
      "execution_count": null,
      "outputs": []
    },
    {
      "cell_type": "markdown",
      "source": [
        "NLTK TESTING"
      ],
      "metadata": {
        "id": "yhTPpUTDfWOm"
      }
    },
    {
      "cell_type": "code",
      "source": [
        "import nltk\n",
        "#nltk.download() , used for downloading the nltk packages \n",
        "nltk.download('punkt')"
      ],
      "metadata": {
        "id": "b19nURlTfYCb"
      },
      "execution_count": null,
      "outputs": []
    },
    {
      "cell_type": "markdown",
      "source": [
        "SENTENCE TOKENIZATION"
      ],
      "metadata": {
        "id": "ZBOXLRyhh0Kx"
      }
    },
    {
      "cell_type": "code",
      "source": [
        "from nltk.tokenize import sent_tokenize\n",
        "\n",
        "sent_tokenize(\"Data science is the study of large quantities of data .  which can reveal insights that help organizations make strategic choices.\")"
      ],
      "metadata": {
        "id": "9sCHZbbKgqfc"
      },
      "execution_count": null,
      "outputs": []
    },
    {
      "cell_type": "markdown",
      "source": [
        "WORD TOKENIZATION"
      ],
      "metadata": {
        "id": "V1cCIRx4h3AS"
      }
    },
    {
      "cell_type": "code",
      "source": [
        "from nltk.tokenize import word_tokenize\n",
        "\n",
        "word_tokenize(\"Data science is the study of large quantities of data .  which can reveal insights that help organizations make strategic choices.\")"
      ],
      "metadata": {
        "id": "QhmdYNcdh43T"
      },
      "execution_count": null,
      "outputs": []
    },
    {
      "cell_type": "markdown",
      "source": [
        "Differences between spacy and nltk - \n",
        "\n",
        "Spacy is object oriented whereas nltk is a string processing library . \n",
        "\n",
        "spaCy keeps the best algorithm for a problem in its toolkit and keep it updated whereas  NLTK provides a plethora of algorithms to choose from for a particular problem which is boon for a researcher but a bane for a developer.  If someone cares about the end results then spacy will be a good choice otherwise if someone cares about specific algo and customizations then nltk will be a better choice. \n",
        "\n",
        "Spacy is user friendly whereas nltk is also user friendly but comapred to spacy it's not much \n",
        "\n",
        "Spacy is perfect for app developers whereas nltk is best for the researchers \n",
        "\n",
        "Spacy is a new library and has very active user community whereas nltk is an old library but the user community is as active than Spacy . \n",
        "\n",
        "NLTK is a string processing library. It takes strings as input and returns strings or lists of strings as output. Whereas, spaCy uses object-oriented approach. When we parse a text, spaCy returns document object whose words and sentences are objects themselves.\n",
        "\n",
        "spaCy has support for word vectors whereas NLTK does not . \n",
        "\n",
        "NLTK supports various languages whereas spaCy have statistical models for 7 languages (English, German, Spanish, French, Portuguese, Italian, and Dutch). It also supports named entities for multi language.\n",
        "\n",
        "\n",
        "In the graph comparison it is proved that nltk works best for the word tokenization and parts of speech tagging whereas spacy works best for sentence tokenization\n",
        "\n",
        "\n"
      ],
      "metadata": {
        "id": "HWo9Dp3WfvtK"
      }
    }
  ]
}