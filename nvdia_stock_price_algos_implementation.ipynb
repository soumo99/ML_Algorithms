{
  "nbformat": 4,
  "nbformat_minor": 0,
  "metadata": {
    "colab": {
      "name": "nvdia_stock_price_algos_implementation.ipynb",
      "private_outputs": true,
      "provenance": [],
      "authorship_tag": "ABX9TyM/5cFJK7Ii55XrFXn5n69G",
      "include_colab_link": true
    },
    "kernelspec": {
      "name": "python3",
      "display_name": "Python 3"
    },
    "language_info": {
      "name": "python"
    }
  },
  "cells": [
    {
      "cell_type": "markdown",
      "metadata": {
        "id": "view-in-github",
        "colab_type": "text"
      },
      "source": [
        "<a href=\"https://colab.research.google.com/github/soumo99/ML_codes/blob/main/nvdia_stock_price_algos_implementation.ipynb\" target=\"_parent\"><img src=\"https://colab.research.google.com/assets/colab-badge.svg\" alt=\"Open In Colab\"/></a>"
      ]
    },
    {
      "cell_type": "markdown",
      "source": [
        "LINEAR REGRESSION IMPLEMENTATION "
      ],
      "metadata": {
        "id": "jWgyhXieLoih"
      }
    },
    {
      "cell_type": "code",
      "source": [
        "import seaborn as sns\n",
        "import pandas as pd\n",
        "import numpy as np\n",
        "import matplotlib.pyplot as plt"
      ],
      "metadata": {
        "id": "MGyUScq8Lo45"
      },
      "execution_count": null,
      "outputs": []
    },
    {
      "cell_type": "code",
      "source": [
        "data = pd.read_csv(\"/content/NVDA.csv\")"
      ],
      "metadata": {
        "id": "OEba2OwB0dDs"
      },
      "execution_count": null,
      "outputs": []
    },
    {
      "cell_type": "code",
      "source": [
        "data.shape"
      ],
      "metadata": {
        "id": "mFwl59PF0kU2"
      },
      "execution_count": null,
      "outputs": []
    },
    {
      "cell_type": "code",
      "source": [
        "data.head(10)"
      ],
      "metadata": {
        "id": "I38in05_0l_N"
      },
      "execution_count": null,
      "outputs": []
    },
    {
      "cell_type": "code",
      "source": [
        "data.tail(10)"
      ],
      "metadata": {
        "id": "oIG-5FKy0nty"
      },
      "execution_count": null,
      "outputs": []
    },
    {
      "cell_type": "code",
      "source": [
        "data.info"
      ],
      "metadata": {
        "id": "81S1lK6b0p20"
      },
      "execution_count": null,
      "outputs": []
    },
    {
      "cell_type": "code",
      "source": [
        "data.isnull().sum()"
      ],
      "metadata": {
        "id": "gsu7Up-Z0sqM"
      },
      "execution_count": null,
      "outputs": []
    },
    {
      "cell_type": "code",
      "source": [
        "data.count()"
      ],
      "metadata": {
        "id": "FRMW-GLK0w-f"
      },
      "execution_count": null,
      "outputs": []
    },
    {
      "cell_type": "code",
      "source": [
        "data['Close'].value_counts()"
      ],
      "metadata": {
        "id": "HyHeVrkC2Gvf"
      },
      "execution_count": null,
      "outputs": []
    },
    {
      "cell_type": "code",
      "source": [
        "X = data['Open'].values\n",
        "Y = data['Close'].values"
      ],
      "metadata": {
        "id": "n1JPy5IF2om3"
      },
      "execution_count": null,
      "outputs": []
    },
    {
      "cell_type": "code",
      "source": [
        "#Mean of X and Y\n",
        "mean_x = np.mean(X)\n",
        "mean_y = np.mean(Y)\n",
        "#Total number of values \n",
        "m = len(X)\n",
        "\n",
        "#using the formula to calculate the B0 and B1\n",
        "numer = 0\n",
        "deno = 0\n",
        "\n",
        "for i in range(m):\n",
        "  numer += (X[i] - mean_x) * (Y[i]-mean_y)\n",
        "  deno += (X[i] - mean_x) ** 2\n",
        "\n",
        "B1 = numer / deno\n",
        "B0 = mean_y - (B1 * mean_x)\n",
        "\n",
        "#Print coefficients\n",
        "print(B1 , B0) # B0 = m , B1 = c"
      ],
      "metadata": {
        "id": "eWGziKO4KiQi"
      },
      "execution_count": null,
      "outputs": []
    },
    {
      "cell_type": "code",
      "source": [
        "#Plotting values and regression lines \n",
        "max_x = np.max(X)+100\n",
        "min_x = np.min(X)-100\n",
        "\n",
        "#Calculating line values x and y\n",
        "x = np.linspace(min_x, max_x,1000)\n",
        "y = B0 + B1 * x\n",
        "\n",
        "#Plotting line\n",
        "plt.plot(x,y,color='red',label='Regression Line')\n",
        "#Plotting scatter points\n",
        "plt.scatter(X,Y,color='blue',label='Scatter Points')\n",
        "\n",
        "plt.xlabel('Open')\n",
        "plt.ylabel('Close')\n",
        "plt.legend()\n",
        "plt.show()"
      ],
      "metadata": {
        "id": "ONCw5FVYKndj"
      },
      "execution_count": null,
      "outputs": []
    },
    {
      "cell_type": "code",
      "source": [
        "ss_t = 0 #ss_t is the total sum\n",
        "ss_r = 0 #ss_r is the total sum of square\n",
        "\n",
        "for i in range(m):\n",
        "  y_pred = B0 + B1 * X[i]\n",
        "  ss_t += (Y[i] - mean_y) ** 2\n",
        "  ss_r += (Y[i] - y_pred) ** 2\n",
        "\n",
        "r2 = 1 - (ss_r / ss_t)\n",
        "print(r2)\n"
      ],
      "metadata": {
        "id": "rH88-KtiK3rm"
      },
      "execution_count": null,
      "outputs": []
    }
  ]
}