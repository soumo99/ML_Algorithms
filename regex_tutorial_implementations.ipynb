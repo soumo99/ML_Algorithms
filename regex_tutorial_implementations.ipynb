{
  "nbformat": 4,
  "nbformat_minor": 0,
  "metadata": {
    "colab": {
      "name": "regex_tutorial_implementations.ipynb",
      "private_outputs": true,
      "provenance": [],
      "authorship_tag": "ABX9TyNZ8BCNqEi26NFSkMCOOknE",
      "include_colab_link": true
    },
    "kernelspec": {
      "name": "python3",
      "display_name": "Python 3"
    },
    "language_info": {
      "name": "python"
    }
  },
  "cells": [
    {
      "cell_type": "markdown",
      "metadata": {
        "id": "view-in-github",
        "colab_type": "text"
      },
      "source": [
        "<a href=\"https://colab.research.google.com/github/soumo99/ML_codes/blob/main/regex_tutorial_implementations.ipynb\" target=\"_parent\"><img src=\"https://colab.research.google.com/assets/colab-badge.svg\" alt=\"Open In Colab\"/></a>"
      ]
    },
    {
      "cell_type": "code",
      "execution_count": null,
      "metadata": {
        "id": "gIKqj_kQkRJe"
      },
      "outputs": [],
      "source": [
        "#re means regular expression , in python it comes inbuilt and helps in pattern matching \n",
        "import re\n"
      ]
    },
    {
      "cell_type": "code",
      "source": [
        "chat_1 = 'codebasics: you ask a lot of questions 8420882191 , abc@gmail.com , 7980720381'\n",
        "chat_2 = 'codebasics: here it is :(123)-567-8912, abc@gmail.com'\n",
        "chat_3 = 'codebasics : yes, phone: 9883734358 email:abc@gmail.com'"
      ],
      "metadata": {
        "id": "0BnBaCbIm1e1"
      },
      "execution_count": null,
      "outputs": []
    },
    {
      "cell_type": "code",
      "source": [
        "#Phone number pattern matching \n",
        "\n",
        "pattern_1 = '\\d{10}'\n",
        "\n",
        "matches_1 = re.findall(pattern_1,chat_1)\n",
        "matches_1\n",
        "\n",
        "pattern_2 = '\\(\\d{3}\\)-\\d{3}-\\d{4}'\n",
        "\n",
        "matches_2 = re.findall(pattern_2,chat_2)\n",
        "matches_2\n",
        "\n",
        "pattern_3 = '\\d{10}|\\(\\d{3}\\)-\\d{3}-\\d{4}'\n",
        "\n",
        "matches_3 = re.findall(pattern_3,chat_1)\n",
        "matches_3\n",
        "\n"
      ],
      "metadata": {
        "id": "_RCm-8sFnIn3"
      },
      "execution_count": null,
      "outputs": []
    },
    {
      "cell_type": "code",
      "source": [
        "#Email id pattern matching\n",
        "\n",
        "pattern_1 = '[a-z0-9A-Z]*@[a-z0-9A-Z]*\\.com'\n",
        "\n",
        "matches_1 = re.findall(pattern_1,chat_2)\n",
        "matches_1"
      ],
      "metadata": {
        "id": "Va65pk-sshkv"
      },
      "execution_count": null,
      "outputs": []
    },
    {
      "cell_type": "code",
      "source": [
        "#Order nnumber matching \n",
        "\n",
        "chat_1 = 'Soumo, hello I am having issues with my order # 8420882191'\n",
        "chat_2 = 'Soumo, hello I am having issues with my order  8420882191'\n",
        "chat_3 = 'Soumo, hello I am having issues with my order number 8420882191'"
      ],
      "metadata": {
        "id": "yOJ_5FCNtHf3"
      },
      "execution_count": null,
      "outputs": []
    },
    {
      "cell_type": "code",
      "source": [
        "pattern_1 = 'order[^\\d]*(\\d*)'\n",
        "\n",
        "matches_1 = re.findall(pattern_1,chat_1)\n",
        "matches_1"
      ],
      "metadata": {
        "id": "GIuqjHSLtXKe"
      },
      "execution_count": null,
      "outputs": []
    },
    {
      "cell_type": "code",
      "source": [
        "text = '''Born\tPichai Sundararajan June 10, 1972 (age 49)\n",
        "Madurai, Tamil Nadu, India\n",
        "Citizenship\tUnited States[1]\n",
        "Education\tIIT Kharagpur (BTech)\n",
        "Stanford University (MS)\n",
        "University of Pennsylvania (MBA)\n",
        "Title\tCEO of Alphabet and Google\n",
        "Board member of\t\n",
        "Alphabet Inc.[2]\n",
        "Magic Leap (2014–2018)[3]\n",
        "Spouse(s)\tAnjali Pichai\n",
        "Children\t2\n",
        "Awards\tIND Padma Bhushan BAR.png Padma Bhushan'''"
      ],
      "metadata": {
        "id": "dG8VjK8NxS1G"
      },
      "execution_count": null,
      "outputs": []
    },
    {
      "cell_type": "code",
      "source": [
        "#Fetching the age \n",
        "pattern_1 = 'age (\\d+)'\n",
        "\n",
        "matches_1 = re.findall(pattern_1,text)\n",
        "matches_1"
      ],
      "metadata": {
        "id": "LXldZvbMZ0gX"
      },
      "execution_count": null,
      "outputs": []
    },
    {
      "cell_type": "code",
      "source": [
        "#Fetching the name \n",
        "pattern_2 = 'Born.*'\n",
        "\n",
        "matches_2 = re.findall(pattern_2,text)\n",
        "matches_2[0].strip()"
      ],
      "metadata": {
        "id": "-6g-Lo9YbqNX"
      },
      "execution_count": null,
      "outputs": []
    }
  ]
}