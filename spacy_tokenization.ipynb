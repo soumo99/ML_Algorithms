{
  "nbformat": 4,
  "nbformat_minor": 0,
  "metadata": {
    "colab": {
      "name": "spacy_tokenization.ipynb",
      "private_outputs": true,
      "provenance": [],
      "authorship_tag": "ABX9TyOWYKv6g1fj5wknwj5+bZ1E",
      "include_colab_link": true
    },
    "kernelspec": {
      "name": "python3",
      "display_name": "Python 3"
    },
    "language_info": {
      "name": "python"
    }
  },
  "cells": [
    {
      "cell_type": "markdown",
      "metadata": {
        "id": "view-in-github",
        "colab_type": "text"
      },
      "source": [
        "<a href=\"https://colab.research.google.com/github/soumo99/ML_codes/blob/main/spacy_tokenization.ipynb\" target=\"_parent\"><img src=\"https://colab.research.google.com/assets/colab-badge.svg\" alt=\"Open In Colab\"/></a>"
      ]
    },
    {
      "cell_type": "code",
      "execution_count": null,
      "metadata": {
        "id": "x2_h0RSxus5n"
      },
      "outputs": [],
      "source": [
        "import spacy"
      ]
    },
    {
      "cell_type": "code",
      "source": [
        "nlp = spacy.blank('en')\n",
        "doc = nlp(\"Data science is the study of large quantities of data .  which can reveal insights that help organizations make strategic choices.\")\n",
        "\n",
        "for token in doc:\n",
        "  print(token)"
      ],
      "metadata": {
        "id": "mOr0W7aku0T-"
      },
      "execution_count": null,
      "outputs": []
    },
    {
      "cell_type": "code",
      "source": [
        "#Span is the substring from a particular string \n",
        "span = doc[1:5]\n",
        "type(span)"
      ],
      "metadata": {
        "id": "htUXY1HXxOED"
      },
      "execution_count": null,
      "outputs": []
    },
    {
      "cell_type": "code",
      "source": [
        "token_0 = doc[0]\n",
        "print(token_0)"
      ],
      "metadata": {
        "id": "mG9fKUA_x1Nv"
      },
      "execution_count": null,
      "outputs": []
    },
    {
      "cell_type": "code",
      "source": [
        "dir(token_0)"
      ],
      "metadata": {
        "id": "oEX3bignyKBT"
      },
      "execution_count": null,
      "outputs": []
    },
    {
      "cell_type": "code",
      "source": [
        "token_0.is_alpha"
      ],
      "metadata": {
        "id": "mMZ8SZdXyNgd"
      },
      "execution_count": null,
      "outputs": []
    },
    {
      "cell_type": "code",
      "source": [
        "token_0.like_num"
      ],
      "metadata": {
        "id": "QIsB_JIlySFa"
      },
      "execution_count": null,
      "outputs": []
    },
    {
      "cell_type": "code",
      "source": [
        "doc_test = nlp(\"Soumo gets two $ as a cashback from Google pay :)\")\n",
        "\n",
        "token0 = doc_test[0]\n",
        "print(token0)"
      ],
      "metadata": {
        "id": "zT_BeBrjyur5"
      },
      "execution_count": null,
      "outputs": []
    },
    {
      "cell_type": "code",
      "source": [
        "token1 = doc_test[2]\n",
        "print(token1)\n"
      ],
      "metadata": {
        "id": "Gyaw9p6hzIxY"
      },
      "execution_count": null,
      "outputs": []
    },
    {
      "cell_type": "code",
      "source": [
        "token1.like_num"
      ],
      "metadata": {
        "id": "IqEkO2bfzUrl"
      },
      "execution_count": null,
      "outputs": []
    },
    {
      "cell_type": "code",
      "source": [
        "token2 = doc_test[3]\n",
        "print(token2)"
      ],
      "metadata": {
        "id": "zH6DR61hzdLG"
      },
      "execution_count": null,
      "outputs": []
    },
    {
      "cell_type": "code",
      "source": [
        "token2.is_currency"
      ],
      "metadata": {
        "id": "v1RCv6wrzoc8"
      },
      "execution_count": null,
      "outputs": []
    },
    {
      "cell_type": "code",
      "source": [
        "#Attributes testing\n",
        "\n",
        "for token in doc_test:\n",
        "  print(token, \"==>\",\"index : \",token.i,\n",
        "        \"is_alpha : \",token.is_alpha,\n",
        "        \"is_punct : \",token.is_punct,\n",
        "        \"like_num : \",token.like_num,\n",
        "        \"is_currency : \",token.is_currency,\n",
        "        )"
      ],
      "metadata": {
        "id": "6pr-8mgIzzKF"
      },
      "execution_count": null,
      "outputs": []
    },
    {
      "cell_type": "code",
      "source": [
        "#Create a blank pipeline\n",
        "nlp = spacy.blank('en')\n",
        "\n",
        "doc_1 = nlp('''\"Let's go to N.Y!\"''')\n",
        "\n",
        "for token in doc_1:\n",
        "  print(token)"
      ],
      "metadata": {
        "id": "kZZKJThswdqg"
      },
      "execution_count": null,
      "outputs": []
    },
    {
      "cell_type": "code",
      "source": [
        "type(nlp)"
      ],
      "metadata": {
        "id": "o0WqP3Zpw1L8"
      },
      "execution_count": null,
      "outputs": []
    },
    {
      "cell_type": "code",
      "source": [
        "type(doc)"
      ],
      "metadata": {
        "id": "A0X1P5Kyw5QE"
      },
      "execution_count": null,
      "outputs": []
    },
    {
      "cell_type": "code",
      "source": [
        "type(token)"
      ],
      "metadata": {
        "id": "SqVBGycyw8x1"
      },
      "execution_count": null,
      "outputs": []
    },
    {
      "cell_type": "code",
      "source": [
        "with open(\"students.txt\") as f:\n",
        "  text = f.readlines()\n",
        "text"
      ],
      "metadata": {
        "id": "oboKE37RxL6T"
      },
      "execution_count": null,
      "outputs": []
    },
    {
      "cell_type": "code",
      "source": [
        "text = ' '.join(text)\n",
        "text"
      ],
      "metadata": {
        "id": "HHdqG9rPwAo2"
      },
      "execution_count": null,
      "outputs": []
    },
    {
      "cell_type": "code",
      "source": [
        "doc = nlp(text)\n",
        "emails = []\n",
        "for token in doc:\n",
        "  if token.like_email:\n",
        "    emails.append(token.text)\n",
        "emails"
      ],
      "metadata": {
        "id": "EzQF7asKwHCB"
      },
      "execution_count": null,
      "outputs": []
    }
  ]
}