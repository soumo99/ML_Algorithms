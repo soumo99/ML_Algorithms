{
  "nbformat": 4,
  "nbformat_minor": 0,
  "metadata": {
    "colab": {
      "name": "svm_implementations.ipynb",
      "private_outputs": true,
      "provenance": [],
      "authorship_tag": "ABX9TyNF9244x3odx2XANIuQgoCO",
      "include_colab_link": true
    },
    "kernelspec": {
      "name": "python3",
      "display_name": "Python 3"
    },
    "language_info": {
      "name": "python"
    }
  },
  "cells": [
    {
      "cell_type": "markdown",
      "metadata": {
        "id": "view-in-github",
        "colab_type": "text"
      },
      "source": [
        "<a href=\"https://colab.research.google.com/github/soumo99/ML_Algorithms/blob/main/svm_implementations.ipynb\" target=\"_parent\"><img src=\"https://colab.research.google.com/assets/colab-badge.svg\" alt=\"Open In Colab\"/></a>"
      ]
    },
    {
      "cell_type": "code",
      "execution_count": null,
      "metadata": {
        "id": "VHK4bqhcH9lN"
      },
      "outputs": [],
      "source": [
        "import numpy as np\n",
        "import pandas as pd\n",
        "import matplotlib.pyplot as plt"
      ]
    },
    {
      "cell_type": "code",
      "source": [
        "df = pd.read_csv(\"/content/cell_samples.csv\")\n",
        "df"
      ],
      "metadata": {
        "id": "hiANQqOLIKel"
      },
      "execution_count": null,
      "outputs": []
    },
    {
      "cell_type": "code",
      "source": [
        "df.shape"
      ],
      "metadata": {
        "id": "PWybyhUCIj-w"
      },
      "execution_count": null,
      "outputs": []
    },
    {
      "cell_type": "code",
      "source": [
        "df.info()"
      ],
      "metadata": {
        "id": "NRGyQy_RIl_T"
      },
      "execution_count": null,
      "outputs": []
    },
    {
      "cell_type": "code",
      "source": [
        "df.count()"
      ],
      "metadata": {
        "id": "EYhuy7gEI7Bp"
      },
      "execution_count": null,
      "outputs": []
    },
    {
      "cell_type": "code",
      "source": [
        "df.isnull().sum()"
      ],
      "metadata": {
        "id": "UfEuEL23JN6h"
      },
      "execution_count": null,
      "outputs": []
    },
    {
      "cell_type": "code",
      "source": [
        "df['Class'].value_counts()"
      ],
      "metadata": {
        "id": "Yk89KDiGKD5-"
      },
      "execution_count": null,
      "outputs": []
    },
    {
      "cell_type": "markdown",
      "source": [
        "Distribution of classes between benign and malignant "
      ],
      "metadata": {
        "id": "eR1sBpcaK72w"
      }
    },
    {
      "cell_type": "code",
      "source": [
        "benign_df = df[df['Class']==2][0:200]\n",
        "malignant_df = df[df['Class']==4][0:200]"
      ],
      "metadata": {
        "id": "a176E-sUK97U"
      },
      "execution_count": null,
      "outputs": []
    },
    {
      "cell_type": "markdown",
      "source": [
        "Plotting the graph"
      ],
      "metadata": {
        "id": "EPFh71uiLbeV"
      }
    },
    {
      "cell_type": "code",
      "source": [
        "axes = benign_df.plot(kind='scatter',x='Clump',y='UnifSize',color='blue',label = 'Benign')\n",
        "malignant_df.plot(kind='scatter',x='Clump',y='UnifSize',color='green',label = 'Malignant', ax = axes)"
      ],
      "metadata": {
        "id": "K775KdTcLdEB"
      },
      "execution_count": null,
      "outputs": []
    },
    {
      "cell_type": "markdown",
      "source": [
        "Identifying unwanted rows "
      ],
      "metadata": {
        "id": "iXeTz7D1Ta69"
      }
    },
    {
      "cell_type": "code",
      "source": [
        "df.dtypes"
      ],
      "metadata": {
        "id": "qBR_7e3aTedJ"
      },
      "execution_count": null,
      "outputs": []
    },
    {
      "cell_type": "code",
      "source": [
        "df = df[pd.to_numeric(df['BareNuc'],errors = 'coerce').notnull()]\n",
        "df['BareNuc'] = df['BareNuc'].astype('int')\n",
        "df.dtypes"
      ],
      "metadata": {
        "id": "m2tf62wDUYdw"
      },
      "execution_count": null,
      "outputs": []
    },
    {
      "cell_type": "markdown",
      "source": [
        "Removing unwanted columns "
      ],
      "metadata": {
        "id": "nN1FCAlLWxC1"
      }
    },
    {
      "cell_type": "code",
      "source": [
        "df.columns"
      ],
      "metadata": {
        "id": "E0gOr9n1WzA-"
      },
      "execution_count": null,
      "outputs": []
    },
    {
      "cell_type": "code",
      "source": [
        "feature_df = df[['Clump', 'UnifSize', 'UnifShape', 'MargAdh', 'SingEpiSize',\n",
        "       'BareNuc', 'BlandChrom', 'NormNucl', 'Mit']]\n",
        "#Removed Class from the x component because class will become the y component \n",
        "#Independent variable \n",
        "X = np.asarray(feature_df)\n",
        "\n",
        "#Dependent variable \n",
        "Y = np.asarray(df['Class'])\n",
        "\n",
        "X[0:10]\n",
        "\n",
        "Y[0:5]"
      ],
      "metadata": {
        "id": "Wcjg8EreUXu4"
      },
      "execution_count": null,
      "outputs": []
    },
    {
      "cell_type": "markdown",
      "source": [
        "Divide the entire data into training and testing "
      ],
      "metadata": {
        "id": "XR6g5ynRY7s3"
      }
    },
    {
      "cell_type": "code",
      "source": [
        "'''\n",
        "df(100) = Train(80 rows) // Test(20 rows)\n",
        "Train(X,Y) where X is a 2D array and Y is 1D array\n",
        "Test(X,Y)\n",
        "'''\n",
        "\n",
        "from sklearn.model_selection import train_test_split\n",
        "\n",
        "X_train , X_test , Y_train , Y_test = train_test_split(X,Y,test_size=0.2,random_state = 4)\n",
        "\n",
        "X_train.shape # (546, 9)\n",
        "\n",
        "X_test.shape # (137, 9)\n",
        "\n",
        "Y_train.shape # (546,) = 546 x 1\n",
        "\n",
        "Y_test.shape # (137,) = 137 x 1\n"
      ],
      "metadata": {
        "id": "lUsJ6NySY-xA"
      },
      "execution_count": null,
      "outputs": []
    },
    {
      "cell_type": "markdown",
      "source": [
        "Modelling  (SVM with scikit learn )"
      ],
      "metadata": {
        "id": "yT2c2wA7bGwF"
      }
    },
    {
      "cell_type": "code",
      "source": [
        "#SVM supports 4 types of kernel functions - linear , polynomial , Radial basis function (Default), sigmoid\n",
        "#Gamma is the kernel coeeficient for evaluating the other dimensions which would help to visualize the data from a diff perspective\n",
        "#If the value of the gamma is auto then it uses (1/n_features) , if gamma scale is passed then it uses 1/(n_features * x.var())\n",
        "from sklearn import svm\n",
        "\n",
        "#C  is the cost if the points which are placed on the wrong side of the hyperplane \n",
        "classifier = svm.SVC(kernel='linear',gamma = 'auto',C=2)\n",
        "classifier.fit(X_train,Y_train)\n",
        "#Now once the classifier is built we would make the precidtion based on the testing component\n",
        "y_predict = classifier.predict(X_test)"
      ],
      "metadata": {
        "id": "NN6WyvrnbL_8"
      },
      "execution_count": null,
      "outputs": []
    },
    {
      "cell_type": "markdown",
      "source": [
        "Evaluation (Results)"
      ],
      "metadata": {
        "id": "w3ZXZh10AwGX"
      }
    },
    {
      "cell_type": "code",
      "source": [
        "#We have to comapre the y_predict values with the Y_test values , Y_test contains all the actual values of the classes of each of the record available in  X_test\n",
        "\n",
        "from sklearn.metrics import classification_report\n",
        "\n",
        "print(classification_report(Y_test,y_predict))"
      ],
      "metadata": {
        "id": "Rh8UIQfsAzY0"
      },
      "execution_count": null,
      "outputs": []
    },
    {
      "cell_type": "markdown",
      "source": [
        "Precision is the ratio of true prediction + false prediction \n",
        "\n",
        "Confusion matrix is a 2x2 grid and calculates the number of true negative , flase negative , true positive , flase positive\n",
        "\n",
        "Precision - True positive / (True positive + False positive) , which means out of total cancer patients how many are correctly predicted \n",
        "\n",
        "Recall - Out of serious cancer patients how many are being predicted by the system \n",
        "True positive / (True positve + flase positive)\n",
        "\n",
        "F1 is the harmonical mean  = 2* ((precision * recall) / (precision +recall))"
      ],
      "metadata": {
        "id": "TMFjUS6NCvOM"
      }
    }
  ]
}