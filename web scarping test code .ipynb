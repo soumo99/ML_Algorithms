{
 "cells": [
  {
   "cell_type": "code",
   "execution_count": 1,
   "id": "6b94d852",
   "metadata": {},
   "outputs": [
    {
     "name": "stdout",
     "output_type": "stream",
     "text": [
      "Requirement already satisfied: bs4 in /Users/soumobratamanna/miniforge3/lib/python3.9/site-packages (0.0.1)\n",
      "Requirement already satisfied: beautifulsoup4 in /Users/soumobratamanna/miniforge3/lib/python3.9/site-packages (from bs4) (4.12.2)\n",
      "Requirement already satisfied: soupsieve>1.2 in /Users/soumobratamanna/miniforge3/lib/python3.9/site-packages (from beautifulsoup4->bs4) (2.4.1)\n",
      "Note: you may need to restart the kernel to use updated packages.\n"
     ]
    }
   ],
   "source": [
    "pip install bs4"
   ]
  },
  {
   "cell_type": "code",
   "execution_count": 2,
   "id": "44663df9",
   "metadata": {},
   "outputs": [],
   "source": [
    "from bs4 import BeautifulSoup\n",
    "import pandas as pd\n",
    "import numpy as np\n",
    "import requests\n"
   ]
  },
  {
   "cell_type": "code",
   "execution_count": 3,
   "id": "54488121",
   "metadata": {},
   "outputs": [],
   "source": [
    "URL = 'https://www.amazon.in/s?k=google+pixel&crid=289HIR879GPG9&sprefix=google+pixel%2Caps%2C212&ref=nb_sb_noss_2'"
   ]
  },
  {
   "cell_type": "markdown",
   "id": "ca511a76",
   "metadata": {},
   "source": [
    "Header for Request - Sending Request using user agent which verifies that I am a genuine User"
   ]
  },
  {
   "cell_type": "code",
   "execution_count": 4,
   "id": "3fe37800",
   "metadata": {},
   "outputs": [],
   "source": [
    "HEADERS = ({'User-Agent':'Mozilla/5.0 (Macintosh; Intel Mac OS X 10_15_7) AppleWebKit/537.36 (KHTML, like Gecko) Chrome/112.0.0.0 Safari/537.36','Accept-Language':'en-US,en ;q=0.5'})"
   ]
  },
  {
   "cell_type": "markdown",
   "id": "bfb19a7e",
   "metadata": {},
   "source": [
    "HTTP Request "
   ]
  },
  {
   "cell_type": "code",
   "execution_count": 5,
   "id": "a56ca395",
   "metadata": {},
   "outputs": [],
   "source": [
    "webpage = requests.get(URL, headers = HEADERS)"
   ]
  },
  {
   "cell_type": "code",
   "execution_count": 6,
   "id": "c40ca62f",
   "metadata": {},
   "outputs": [
    {
     "data": {
      "text/plain": [
       "<Response [200]>"
      ]
     },
     "execution_count": 6,
     "metadata": {},
     "output_type": "execute_result"
    }
   ],
   "source": [
    "webpage"
   ]
  },
  {
   "cell_type": "markdown",
   "id": "9b1292a3",
   "metadata": {},
   "source": [
    "Response :  200 means , HTTP Request was successfull"
   ]
  },
  {
   "cell_type": "code",
   "execution_count": null,
   "id": "6289a718",
   "metadata": {},
   "outputs": [],
   "source": [
    "webpage.content"
   ]
  },
  {
   "cell_type": "markdown",
   "id": "a0bd88d9",
   "metadata": {},
   "source": [
    "format"
   ]
  },
  {
   "cell_type": "code",
   "execution_count": 8,
   "id": "5506fd0d",
   "metadata": {},
   "outputs": [
    {
     "data": {
      "text/plain": [
       "bytes"
      ]
     },
     "execution_count": 8,
     "metadata": {},
     "output_type": "execute_result"
    }
   ],
   "source": [
    "type(webpage.content)"
   ]
  },
  {
   "cell_type": "markdown",
   "id": "585b2e3c",
   "metadata": {},
   "source": [
    "Soup object containing all data "
   ]
  },
  {
   "cell_type": "code",
   "execution_count": 9,
   "id": "5c158ca2",
   "metadata": {},
   "outputs": [],
   "source": [
    "soup = BeautifulSoup(webpage.content,'html.parser')"
   ]
  },
  {
   "cell_type": "code",
   "execution_count": 10,
   "id": "e20b7181",
   "metadata": {},
   "outputs": [],
   "source": [
    "# soup"
   ]
  },
  {
   "cell_type": "markdown",
   "id": "0c784760",
   "metadata": {},
   "source": [
    "Fetching links as list of Tag Objects "
   ]
  },
  {
   "cell_type": "markdown",
   "id": "fbc8a9bb",
   "metadata": {},
   "source": [
    "finding all of the a tags that are being extracted "
   ]
  },
  {
   "cell_type": "code",
   "execution_count": 11,
   "id": "d5241e56",
   "metadata": {},
   "outputs": [],
   "source": [
    "links = soup.find_all('a',attrs = {'class':'a-link-normal s-underline-text s-underline-link-text s-link-style a-text-normal'})"
   ]
  },
  {
   "cell_type": "code",
   "execution_count": 12,
   "id": "1ad43a06",
   "metadata": {},
   "outputs": [
    {
     "data": {
      "text/plain": [
       "[<a class=\"a-link-normal s-underline-text s-underline-link-text s-link-style a-text-normal\" href=\"/sspa/click?ie=UTF8&amp;spc=MTo0MDk5MTYyMjQ1OTg3MjE2OjE2ODMyNzkzNTg6c3BfYXRmOjIwMTIxNzE0MzEyMTk4OjowOjo&amp;url=%2FOnePlus-Eternal-Green-256GB-Storage%2Fdp%2FB0BQJM2PXW%2Fref%3Dsr_1_1_sspa%3Fcrid%3D289HIR879GPG9%26keywords%3Dgoogle%2Bpixel%26qid%3D1683279358%26sprefix%3Dgoogle%2Bpixel%252Caps%252C212%26sr%3D8-1-spons%26sp_csd%3Dd2lkZ2V0TmFtZT1zcF9hdGY%26psc%3D1\" target=\"_blank\"><span class=\"a-size-medium a-color-base a-text-normal\">OnePlus 11 5G (Eternal Green, 16GB RAM, 256GB Storage)</span> </a>,\n",
       " <a class=\"a-link-normal s-underline-text s-underline-link-text s-link-style a-text-normal\" href=\"/Google-Pixel-Pro-Stromy-Storage/dp/B09MZJSK8Y/ref=sr_1_2?crid=289HIR879GPG9&amp;keywords=google+pixel&amp;qid=1683279358&amp;sprefix=google+pixel%2Caps%2C212&amp;sr=8-2\" target=\"_blank\"><span class=\"a-size-medium a-color-base a-text-normal\">Google Pixel 6 Pro 5G (Stromy Black, 12GB RAM, 128GB Storage)</span> </a>,\n",
       " <a class=\"a-link-normal s-underline-text s-underline-link-text s-link-style a-text-normal\" href=\"/Google-Pixel-Kinda-Coral-Storage/dp/B09G76DGFY/ref=sr_1_3?crid=289HIR879GPG9&amp;keywords=google+pixel&amp;qid=1683279358&amp;sprefix=google+pixel%2Caps%2C212&amp;sr=8-3\" target=\"_blank\"><span class=\"a-size-medium a-color-base a-text-normal\">Google Pixel 6 5G (Kinda Coral, 8GB RAM, 128GB Storage)</span> </a>,\n",
       " <a class=\"a-link-normal s-underline-text s-underline-link-text s-link-style a-text-normal\" href=\"/Google-Pixel-Stromy-Black-Storage/dp/B09HJYV6TC/ref=sr_1_4?crid=289HIR879GPG9&amp;keywords=google+pixel&amp;qid=1683279358&amp;sprefix=google+pixel%2Caps%2C212&amp;sr=8-4\" target=\"_blank\"><span class=\"a-size-medium a-color-base a-text-normal\">Google Pixel 6 (Stromy Black, 8GB RAM, 256 Storage)</span> </a>,\n",
       " <a class=\"a-link-normal s-underline-text s-underline-link-text s-link-style a-text-normal\" href=\"/Google-Pixel-Sage-128GB-Storage/dp/B0B87XQRXX/ref=sxin_14_hcs-la-eu-tqprod?content-id=amzn1.sym.b97f8b16-49e0-42a3-b811-94a239f21cfb%3Aamzn1.sym.b97f8b16-49e0-42a3-b811-94a239f21cfb&amp;crid=289HIR879GPG9&amp;cv_ct_cx=google+pixel&amp;keywords=google+pixel&amp;pd_rd_i=B0B87XQRXX&amp;pd_rd_r=b82a130b-d718-4e4e-9619-ee6cb3c79991&amp;pd_rd_w=lySP8&amp;pd_rd_wg=353sw&amp;pf_rd_p=b97f8b16-49e0-42a3-b811-94a239f21cfb&amp;pf_rd_r=EC8EJNN9V0FMYF63P9BR&amp;qid=1683279358&amp;sbo=RZvfv%2F%2FHxDF%2BO5021pAnSA%3D%3D&amp;sprefix=google+pixel%2Caps%2C212&amp;sr=1-1-ca1238e8-4946-4218-b362-7c3431ea8df6\" target=\"_blank\"><span class=\"a-size-base-plus a-color-base a-text-normal\">Google Pixel 6a 5G (Sage, 6GB RAM, 128GB Storage)</span> </a>,\n",
       " <a class=\"a-link-normal s-underline-text s-underline-link-text s-link-style a-text-normal\" href=\"/Google-Pixel-Stormy-Black-Storage/dp/B09L5FLF7Q/ref=sxin_14_hcs-la-eu-tqprod?content-id=amzn1.sym.b97f8b16-49e0-42a3-b811-94a239f21cfb%3Aamzn1.sym.b97f8b16-49e0-42a3-b811-94a239f21cfb&amp;crid=289HIR879GPG9&amp;cv_ct_cx=google+pixel&amp;keywords=google+pixel&amp;pd_rd_i=B09L5FLF7Q&amp;pd_rd_r=b82a130b-d718-4e4e-9619-ee6cb3c79991&amp;pd_rd_w=lySP8&amp;pd_rd_wg=353sw&amp;pf_rd_p=b97f8b16-49e0-42a3-b811-94a239f21cfb&amp;pf_rd_r=EC8EJNN9V0FMYF63P9BR&amp;qid=1683279358&amp;sbo=RZvfv%2F%2FHxDF%2BO5021pAnSA%3D%3D&amp;sprefix=google+pixel%2Caps%2C212&amp;sr=1-2-ca1238e8-4946-4218-b362-7c3431ea8df6\" target=\"_blank\"><span class=\"a-size-base-plus a-color-base a-text-normal\">Google Pixel 6 Pro 5G (Stormy Black, 12GB RAM, 512GB Storage)</span> </a>,\n",
       " <a class=\"a-link-normal s-underline-text s-underline-link-text s-link-style a-text-normal\" href=\"/Google-Pixel-Snow-256GB-Storage/dp/B0BCQXG46W/ref=sxin_14_hcs-la-eu-tqprod?content-id=amzn1.sym.b97f8b16-49e0-42a3-b811-94a239f21cfb%3Aamzn1.sym.b97f8b16-49e0-42a3-b811-94a239f21cfb&amp;crid=289HIR879GPG9&amp;cv_ct_cx=google+pixel&amp;keywords=google+pixel&amp;pd_rd_i=B0BCQXG46W&amp;pd_rd_r=b82a130b-d718-4e4e-9619-ee6cb3c79991&amp;pd_rd_w=lySP8&amp;pd_rd_wg=353sw&amp;pf_rd_p=b97f8b16-49e0-42a3-b811-94a239f21cfb&amp;pf_rd_r=EC8EJNN9V0FMYF63P9BR&amp;qid=1683279358&amp;sbo=RZvfv%2F%2FHxDF%2BO5021pAnSA%3D%3D&amp;sprefix=google+pixel%2Caps%2C212&amp;sr=1-3-ca1238e8-4946-4218-b362-7c3431ea8df6\" target=\"_blank\"><span class=\"a-size-base-plus a-color-base a-text-normal\">Google Pixel 7 Pro 5G (Snow, 12GB RAM, 256GB Storage)</span> </a>,\n",
       " <a class=\"a-link-normal s-underline-text s-underline-link-text s-link-style a-text-normal\" href=\"/Google-Pixel-Snow-256GB-Storage/dp/B0BCQWQH52/ref=sxin_14_hcs-la-eu-tqprod?content-id=amzn1.sym.b97f8b16-49e0-42a3-b811-94a239f21cfb%3Aamzn1.sym.b97f8b16-49e0-42a3-b811-94a239f21cfb&amp;crid=289HIR879GPG9&amp;cv_ct_cx=google+pixel&amp;keywords=google+pixel&amp;pd_rd_i=B0BCQWQH52&amp;pd_rd_r=b82a130b-d718-4e4e-9619-ee6cb3c79991&amp;pd_rd_w=lySP8&amp;pd_rd_wg=353sw&amp;pf_rd_p=b97f8b16-49e0-42a3-b811-94a239f21cfb&amp;pf_rd_r=EC8EJNN9V0FMYF63P9BR&amp;qid=1683279358&amp;sbo=RZvfv%2F%2FHxDF%2BO5021pAnSA%3D%3D&amp;sprefix=google+pixel%2Caps%2C212&amp;sr=1-4-ca1238e8-4946-4218-b362-7c3431ea8df6\" target=\"_blank\"><span class=\"a-size-base-plus a-color-base a-text-normal\">Google Pixel 7 5G (Snow, 8GB RAM, 256GB Storage)</span> </a>,\n",
       " <a class=\"a-link-normal s-underline-text s-underline-link-text s-link-style a-text-normal\" href=\"/Google-Pixel-Pro-Obsidian-256/dp/B0BNV36NQM/ref=sxin_14_hcs-la-eu-tqprod?content-id=amzn1.sym.b97f8b16-49e0-42a3-b811-94a239f21cfb%3Aamzn1.sym.b97f8b16-49e0-42a3-b811-94a239f21cfb&amp;crid=289HIR879GPG9&amp;cv_ct_cx=google+pixel&amp;keywords=google+pixel&amp;pd_rd_i=B0BNV36NQM&amp;pd_rd_r=b82a130b-d718-4e4e-9619-ee6cb3c79991&amp;pd_rd_w=lySP8&amp;pd_rd_wg=353sw&amp;pf_rd_p=b97f8b16-49e0-42a3-b811-94a239f21cfb&amp;pf_rd_r=EC8EJNN9V0FMYF63P9BR&amp;qid=1683279358&amp;sbo=RZvfv%2F%2FHxDF%2BO5021pAnSA%3D%3D&amp;sprefix=google+pixel%2Caps%2C212&amp;sr=1-5-ca1238e8-4946-4218-b362-7c3431ea8df6\" target=\"_blank\"><span class=\"a-size-base-plus a-color-base a-text-normal\">Google Pixel 7 Pro 5G (Obsidian, 256 GB) (12 GB RAM)</span> </a>,\n",
       " <a class=\"a-link-normal s-underline-text s-underline-link-text s-link-style a-text-normal\" href=\"/Google-Pixel-Lemongrass-256GB-Storage/dp/B0BCRC3Q3R/ref=sxin_14_hcs-la-eu-tqprod?content-id=amzn1.sym.b97f8b16-49e0-42a3-b811-94a239f21cfb%3Aamzn1.sym.b97f8b16-49e0-42a3-b811-94a239f21cfb&amp;crid=289HIR879GPG9&amp;cv_ct_cx=google+pixel&amp;keywords=google+pixel&amp;pd_rd_i=B0BCRC3Q3R&amp;pd_rd_r=b82a130b-d718-4e4e-9619-ee6cb3c79991&amp;pd_rd_w=lySP8&amp;pd_rd_wg=353sw&amp;pf_rd_p=b97f8b16-49e0-42a3-b811-94a239f21cfb&amp;pf_rd_r=EC8EJNN9V0FMYF63P9BR&amp;qid=1683279358&amp;sbo=RZvfv%2F%2FHxDF%2BO5021pAnSA%3D%3D&amp;sprefix=google+pixel%2Caps%2C212&amp;sr=1-6-ca1238e8-4946-4218-b362-7c3431ea8df6\" target=\"_blank\"><span class=\"a-size-base-plus a-color-base a-text-normal\">Google Pixel 7 5G (Lemongrass, 8GB RAM, 256GB Storage)</span> </a>,\n",
       " <a class=\"a-link-normal s-underline-text s-underline-link-text s-link-style a-text-normal\" href=\"/Google-Pixel-Obsidian-512GB-Storage/dp/B0BCQV4YCG/ref=sxin_14_hcs-la-eu-tqprod?content-id=amzn1.sym.b97f8b16-49e0-42a3-b811-94a239f21cfb%3Aamzn1.sym.b97f8b16-49e0-42a3-b811-94a239f21cfb&amp;crid=289HIR879GPG9&amp;cv_ct_cx=google+pixel&amp;keywords=google+pixel&amp;pd_rd_i=B0BCQV4YCG&amp;pd_rd_r=b82a130b-d718-4e4e-9619-ee6cb3c79991&amp;pd_rd_w=lySP8&amp;pd_rd_wg=353sw&amp;pf_rd_p=b97f8b16-49e0-42a3-b811-94a239f21cfb&amp;pf_rd_r=EC8EJNN9V0FMYF63P9BR&amp;qid=1683279358&amp;sbo=RZvfv%2F%2FHxDF%2BO5021pAnSA%3D%3D&amp;sprefix=google+pixel%2Caps%2C212&amp;sr=1-7-ca1238e8-4946-4218-b362-7c3431ea8df6\" target=\"_blank\"><span class=\"a-size-base-plus a-color-base a-text-normal\">Google Pixel 7 Pro 5G (Obsidian, 12GB RAM, 512GB Storage)</span> </a>,\n",
       " <a class=\"a-link-normal s-underline-text s-underline-link-text s-link-style a-text-normal\" href=\"/Google-Pixel-Cloudy-White-Storage/dp/B09KNBCPZ6/ref=sr_1_5?crid=289HIR879GPG9&amp;keywords=google+pixel&amp;qid=1683279358&amp;sprefix=google+pixel%2Caps%2C212&amp;sr=8-5\" target=\"_blank\"><span class=\"a-size-medium a-color-base a-text-normal\">Google Pixel 6 Pro 5G (Cloudy White, 12GB RAM, 128GB Storage)</span> </a>,\n",
       " <a class=\"a-link-normal s-underline-text s-underline-link-text s-link-style a-text-normal\" href=\"/Google-Pixel-Just-Black-Storage/dp/B07ZTS5XPW/ref=sr_1_6?crid=289HIR879GPG9&amp;keywords=google+pixel&amp;qid=1683279358&amp;sprefix=google+pixel%2Caps%2C212&amp;sr=8-6\" target=\"_blank\"><span class=\"a-size-medium a-color-base a-text-normal\">Google Pixel 4 (Just Black, 6GB RAM, 64GB Storage)</span> </a>,\n",
       " <a class=\"a-link-normal s-underline-text s-underline-link-text s-link-style a-text-normal\" href=\"/Google-Pixel-Charcoal-128GB-Storage/dp/B0B3PSRHHN/ref=sr_1_7?crid=289HIR879GPG9&amp;keywords=google+pixel&amp;qid=1683279358&amp;sprefix=google+pixel%2Caps%2C212&amp;sr=8-7\" target=\"_blank\"><span class=\"a-size-medium a-color-base a-text-normal\">Google Pixel 6a 5G (Charcoal, 6GB RAM, 128GB Storage)</span> </a>,\n",
       " <a class=\"a-link-normal s-underline-text s-underline-link-text s-link-style a-text-normal\" href=\"/Google-Pixel-Obsidian-128GB-Storage/dp/B0BJL8H3QY/ref=sr_1_8?crid=289HIR879GPG9&amp;keywords=google+pixel&amp;qid=1683279358&amp;sprefix=google+pixel%2Caps%2C212&amp;sr=8-8\" target=\"_blank\"><span class=\"a-size-medium a-color-base a-text-normal\">Google Pixel 7 5G (Obsidian, 8GB Ram 128GB Storage)</span> </a>,\n",
       " <a class=\"a-link-normal s-underline-text s-underline-link-text s-link-style a-text-normal\" href=\"/Google-Pixel-Chalk-128GB-Storage/dp/B0B3PQPNKS/ref=sr_1_9?crid=289HIR879GPG9&amp;keywords=google+pixel&amp;qid=1683279358&amp;sprefix=google+pixel%2Caps%2C212&amp;sr=8-9\" target=\"_blank\"><span class=\"a-size-medium a-color-base a-text-normal\">Google Pixel 6a 5G (Chalk, 6GB RAM, 128GB Storage)</span> </a>,\n",
       " <a class=\"a-link-normal s-underline-text s-underline-link-text s-link-style a-text-normal\" href=\"/Google-Pixel-Pro-Obsidian-128/dp/B0BDJ55SSD/ref=sr_1_10?crid=289HIR879GPG9&amp;keywords=google+pixel&amp;qid=1683279358&amp;sprefix=google+pixel%2Caps%2C212&amp;sr=8-10\" target=\"_blank\"><span class=\"a-size-medium a-color-base a-text-normal\">Google Pixel 7 Pro (Obsidian, 128 GB) (12 GB RAM)</span> </a>,\n",
       " <a class=\"a-link-normal s-underline-text s-underline-link-text s-link-style a-text-normal\" href=\"/Google-Pixel-64GB-Orange-Phone/dp/B07ZJRN265/ref=sr_1_11?crid=289HIR879GPG9&amp;keywords=google+pixel&amp;qid=1683279358&amp;sprefix=google+pixel%2Caps%2C212&amp;sr=8-11\" target=\"_blank\"><span class=\"a-size-medium a-color-base a-text-normal\">Google Pixel 4 64GB - Oh So Orange - Phone</span> </a>,\n",
       " <a class=\"a-link-normal s-underline-text s-underline-link-text s-link-style a-text-normal\" href=\"/Google-Pixel-Sorta-Seafoam-Storage/dp/B09HJY4G4Z/ref=sr_1_12?crid=289HIR879GPG9&amp;keywords=google+pixel&amp;qid=1683279358&amp;sprefix=google+pixel%2Caps%2C212&amp;sr=8-12\" target=\"_blank\"><span class=\"a-size-medium a-color-base a-text-normal\">Google Pixel 6 5G (Sorta Seafoam, 8GB RAM, 128GB Storage)</span> </a>,\n",
       " <a class=\"a-link-normal s-underline-text s-underline-link-text s-link-style a-text-normal\" href=\"/Google-Pixel-Sage-128-RAM/dp/B0B4DMCF5W/ref=sr_1_13?crid=289HIR879GPG9&amp;keywords=google+pixel&amp;qid=1683279358&amp;sprefix=google+pixel%2Caps%2C212&amp;sr=8-13\" target=\"_blank\"><span class=\"a-size-medium a-color-base a-text-normal\">Google Pixel 6a 5G (Sage, 128 GB) (6 GB RAM)</span> </a>,\n",
       " <a class=\"a-link-normal s-underline-text s-underline-link-text s-link-style a-text-normal\" href=\"/Google-Pixel-Snow-128GB-Storage/dp/B0BJLCK3YD/ref=sr_1_14?crid=289HIR879GPG9&amp;keywords=google+pixel&amp;qid=1683279358&amp;sprefix=google+pixel%2Caps%2C212&amp;sr=8-14\" target=\"_blank\"><span class=\"a-size-medium a-color-base a-text-normal\">Google Pixel 7 5G (Snow, 8GB Ram 128GB Storage)</span> </a>,\n",
       " <a class=\"a-link-normal s-underline-text s-underline-link-text s-link-style a-text-normal\" href=\"/Google-Pixel-Black-128GB-Storage/dp/B08CFSZLQ4/ref=sr_1_15?crid=289HIR879GPG9&amp;keywords=google+pixel&amp;qid=1683279358&amp;sprefix=google+pixel%2Caps%2C212&amp;sr=8-15\" target=\"_blank\"><span class=\"a-size-medium a-color-base a-text-normal\">Google Pixel 4a (Just Black, 6GB RAM, 128GB Storage)</span> </a>,\n",
       " <a class=\"a-link-normal s-underline-text s-underline-link-text s-link-style a-text-normal\" href=\"/Google-Pixel-Sage-128GB-Storage/dp/B0B87XQRXX/ref=sr_1_16?crid=289HIR879GPG9&amp;keywords=google+pixel&amp;qid=1683279358&amp;sprefix=google+pixel%2Caps%2C212&amp;sr=8-16\" target=\"_blank\"><span class=\"a-size-medium a-color-base a-text-normal\">Google Pixel 6a 5G (Sage, 6GB RAM, 128GB Storage)</span> </a>,\n",
       " <a class=\"a-link-normal s-underline-text s-underline-link-text s-link-style a-text-normal\" href=\"/Google-Pixel-Lemongrass-128GB-Storage/dp/B0BJL6BJ1Q/ref=sr_1_17?crid=289HIR879GPG9&amp;keywords=google+pixel&amp;qid=1683279358&amp;sprefix=google+pixel%2Caps%2C212&amp;sr=8-17\" target=\"_blank\"><span class=\"a-size-medium a-color-base a-text-normal\">Google Pixel 7 5G (Lemongrass, 8GB Ram 128GB Storage)</span> </a>,\n",
       " <a class=\"a-link-normal s-underline-text s-underline-link-text s-link-style a-text-normal\" href=\"/OMOTON-Compatible-Google-Pixel-Installation/dp/B0BLXK3PFC/ref=sxbs_aspa_sqa?c_c=-48982582&amp;content-id=amzn1.sym.2ebf6aef-07da-440f-8e9d-3a959a5bfb5c%3Aamzn1.sym.2ebf6aef-07da-440f-8e9d-3a959a5bfb5c&amp;crid=289HIR879GPG9&amp;cv_ct_cx=google+pixel&amp;keywords=google+pixel&amp;pd_rd_i=B0BLXK3PFC&amp;pd_rd_r=5b75b637-b856-4cf6-a428-e78873e0920d&amp;pd_rd_w=QJqGo&amp;pd_rd_wg=5ppeJ&amp;pf_rd_p=2ebf6aef-07da-440f-8e9d-3a959a5bfb5c&amp;pf_rd_r=EC8EJNN9V0FMYF63P9BR&amp;qid=1683279358&amp;sbo=RZvfv%2F%2FHxDF%2BO5021pAnSA%3D%3D&amp;sprefix=google+pixel%2Caps%2C212&amp;sr=1-1-93291ede-2a7a-4e75-a6c2-b89c29736263\" target=\"_blank\"><span class=\"a-size-base-plus a-color-base a-text-normal\">OMOTON Advanced HD+ Tempered Glass Screen Protector Compatible for Google Pixel 7 Edge to Edge with Easy Installation Kit</span> </a>,\n",
       " <a class=\"a-link-normal s-underline-text s-underline-link-text s-link-style a-text-normal\" href=\"/TheGiftKart-Protective-Protection-Silicon-Silicone/dp/B0BH8SVXGG/ref=sxbs_aspa_sqa?c_c=-48982582&amp;content-id=amzn1.sym.2ebf6aef-07da-440f-8e9d-3a959a5bfb5c%3Aamzn1.sym.2ebf6aef-07da-440f-8e9d-3a959a5bfb5c&amp;crid=289HIR879GPG9&amp;cv_ct_cx=google+pixel&amp;keywords=google+pixel&amp;pd_rd_i=B0BH8SVXGG&amp;pd_rd_r=5b75b637-b856-4cf6-a428-e78873e0920d&amp;pd_rd_w=QJqGo&amp;pd_rd_wg=5ppeJ&amp;pf_rd_p=2ebf6aef-07da-440f-8e9d-3a959a5bfb5c&amp;pf_rd_r=EC8EJNN9V0FMYF63P9BR&amp;qid=1683279358&amp;sbo=RZvfv%2F%2FHxDF%2BO5021pAnSA%3D%3D&amp;sprefix=google+pixel%2Caps%2C212&amp;sr=1-3-93291ede-2a7a-4e75-a6c2-b89c29736263\" target=\"_blank\"><span class=\"a-size-base-plus a-color-base a-text-normal\">TheGiftKart Sleek Back Cover Case for Google Pixel 7 | Slim Fit Protective Design | Ultra Matte Finish | Camera Protection Bump | Soft Silicon Back Cover Case for Google Pixel 7 (Silicone|Matte Black)</span> </a>,\n",
       " <a class=\"a-link-normal s-underline-text s-underline-link-text s-link-style a-text-normal\" href=\"/POPIO-Compatible-Google-Pixel-Installation/dp/B0BQ6BV2K7/ref=sxbs_aspa_sqa?c_c=-48982582&amp;content-id=amzn1.sym.2ebf6aef-07da-440f-8e9d-3a959a5bfb5c%3Aamzn1.sym.2ebf6aef-07da-440f-8e9d-3a959a5bfb5c&amp;crid=289HIR879GPG9&amp;cv_ct_cx=google+pixel&amp;keywords=google+pixel&amp;pd_rd_i=B0BQ6BV2K7&amp;pd_rd_r=5b75b637-b856-4cf6-a428-e78873e0920d&amp;pd_rd_w=QJqGo&amp;pd_rd_wg=5ppeJ&amp;pf_rd_p=2ebf6aef-07da-440f-8e9d-3a959a5bfb5c&amp;pf_rd_r=EC8EJNN9V0FMYF63P9BR&amp;qid=1683279358&amp;sbo=RZvfv%2F%2FHxDF%2BO5021pAnSA%3D%3D&amp;sprefix=google+pixel%2Caps%2C212&amp;sr=1-5-93291ede-2a7a-4e75-a6c2-b89c29736263\" target=\"_blank\"><span class=\"a-size-base-plus a-color-base a-text-normal\">POPIO Tempered Glass Screen Protector Compatible for Google Pixel 7 (Black) with Edge to Edge Coverage and Easy Installation kit</span> </a>,\n",
       " <a class=\"a-link-normal s-underline-text s-underline-link-text s-link-style a-text-normal\" href=\"/CZARTECH-Protector-Google-Pixel-Alignment/dp/B0BT7XSSMD/ref=sxbs_aspa_sqa?c_c=-48982582&amp;content-id=amzn1.sym.2ebf6aef-07da-440f-8e9d-3a959a5bfb5c%3Aamzn1.sym.2ebf6aef-07da-440f-8e9d-3a959a5bfb5c&amp;crid=289HIR879GPG9&amp;cv_ct_cx=google+pixel&amp;keywords=google+pixel&amp;pd_rd_i=B0BT7XSSMD&amp;pd_rd_r=5b75b637-b856-4cf6-a428-e78873e0920d&amp;pd_rd_w=QJqGo&amp;pd_rd_wg=5ppeJ&amp;pf_rd_p=2ebf6aef-07da-440f-8e9d-3a959a5bfb5c&amp;pf_rd_r=EC8EJNN9V0FMYF63P9BR&amp;qid=1683279358&amp;sbo=RZvfv%2F%2FHxDF%2BO5021pAnSA%3D%3D&amp;sprefix=google+pixel%2Caps%2C212&amp;sr=1-7-93291ede-2a7a-4e75-a6c2-b89c29736263\" target=\"_blank\"><span class=\"a-size-base-plus a-color-base a-text-normal\">CZARTECH Tempered Glass Screen Protector for Google Pixel 7 With Edge to Edge Coverage &amp; Easy Alignment Frame (Pack of 2)</span> </a>,\n",
       " <a class=\"a-link-normal s-underline-text s-underline-link-text s-link-style a-text-normal\" href=\"/Renewed-Google-Pixel-128GB-Storage/dp/B0BQQTP1PS/ref=sxbs_aspa_sqa?c_c=-48982582&amp;content-id=amzn1.sym.2ebf6aef-07da-440f-8e9d-3a959a5bfb5c%3Aamzn1.sym.2ebf6aef-07da-440f-8e9d-3a959a5bfb5c&amp;crid=289HIR879GPG9&amp;cv_ct_cx=google+pixel&amp;keywords=google+pixel&amp;pd_rd_i=B0BQQTP1PS&amp;pd_rd_r=5b75b637-b856-4cf6-a428-e78873e0920d&amp;pd_rd_w=QJqGo&amp;pd_rd_wg=5ppeJ&amp;pf_rd_p=2ebf6aef-07da-440f-8e9d-3a959a5bfb5c&amp;pf_rd_r=EC8EJNN9V0FMYF63P9BR&amp;qid=1683279358&amp;sprefix=google+pixel%2Caps%2C212&amp;sr=1-8-93291ede-2a7a-4e75-a6c2-b89c29736263\" target=\"_blank\"><span class=\"a-size-base-plus a-color-base a-text-normal\">(Renewed) Google Pixel 7 5G (Snow, 8GB Ram 128GB Storage)</span> </a>]"
      ]
     },
     "execution_count": 12,
     "metadata": {},
     "output_type": "execute_result"
    }
   ],
   "source": [
    "links"
   ]
  },
  {
   "cell_type": "markdown",
   "id": "f79f1aed",
   "metadata": {},
   "source": [
    "slicing - Extracting  Only the first link"
   ]
  },
  {
   "cell_type": "code",
   "execution_count": 13,
   "id": "9528db76",
   "metadata": {},
   "outputs": [
    {
     "data": {
      "text/plain": [
       "<a class=\"a-link-normal s-underline-text s-underline-link-text s-link-style a-text-normal\" href=\"/sspa/click?ie=UTF8&amp;spc=MTo0MDk5MTYyMjQ1OTg3MjE2OjE2ODMyNzkzNTg6c3BfYXRmOjIwMTIxNzE0MzEyMTk4OjowOjo&amp;url=%2FOnePlus-Eternal-Green-256GB-Storage%2Fdp%2FB0BQJM2PXW%2Fref%3Dsr_1_1_sspa%3Fcrid%3D289HIR879GPG9%26keywords%3Dgoogle%2Bpixel%26qid%3D1683279358%26sprefix%3Dgoogle%2Bpixel%252Caps%252C212%26sr%3D8-1-spons%26sp_csd%3Dd2lkZ2V0TmFtZT1zcF9hdGY%26psc%3D1\" target=\"_blank\"><span class=\"a-size-medium a-color-base a-text-normal\">OnePlus 11 5G (Eternal Green, 16GB RAM, 256GB Storage)</span> </a>"
      ]
     },
     "execution_count": 13,
     "metadata": {},
     "output_type": "execute_result"
    }
   ],
   "source": [
    "links[0]"
   ]
  },
  {
   "cell_type": "markdown",
   "id": "16f57ca0",
   "metadata": {},
   "source": [
    "Getting the actual link"
   ]
  },
  {
   "cell_type": "code",
   "execution_count": 14,
   "id": "e6ee17b5",
   "metadata": {},
   "outputs": [
    {
     "data": {
      "text/plain": [
       "'/sspa/click?ie=UTF8&spc=MTo0MDk5MTYyMjQ1OTg3MjE2OjE2ODMyNzkzNTg6c3BfYXRmOjIwMTIxNzE0MzEyMTk4OjowOjo&url=%2FOnePlus-Eternal-Green-256GB-Storage%2Fdp%2FB0BQJM2PXW%2Fref%3Dsr_1_1_sspa%3Fcrid%3D289HIR879GPG9%26keywords%3Dgoogle%2Bpixel%26qid%3D1683279358%26sprefix%3Dgoogle%2Bpixel%252Caps%252C212%26sr%3D8-1-spons%26sp_csd%3Dd2lkZ2V0TmFtZT1zcF9hdGY%26psc%3D1'"
      ]
     },
     "execution_count": 14,
     "metadata": {},
     "output_type": "execute_result"
    }
   ],
   "source": [
    "links[0].get('href')"
   ]
  },
  {
   "cell_type": "code",
   "execution_count": 15,
   "id": "0f053afb",
   "metadata": {},
   "outputs": [],
   "source": [
    "link = links[0].get('href')"
   ]
  },
  {
   "cell_type": "markdown",
   "id": "14ad1dd8",
   "metadata": {},
   "source": [
    "Opening in the amazon website "
   ]
  },
  {
   "cell_type": "code",
   "execution_count": 16,
   "id": "cb3f1db1",
   "metadata": {},
   "outputs": [],
   "source": [
    "product_list = 'https://amazon.in' + link"
   ]
  },
  {
   "cell_type": "code",
   "execution_count": 17,
   "id": "709076f4",
   "metadata": {},
   "outputs": [
    {
     "data": {
      "text/plain": [
       "'https://amazon.in/sspa/click?ie=UTF8&spc=MTo0MDk5MTYyMjQ1OTg3MjE2OjE2ODMyNzkzNTg6c3BfYXRmOjIwMTIxNzE0MzEyMTk4OjowOjo&url=%2FOnePlus-Eternal-Green-256GB-Storage%2Fdp%2FB0BQJM2PXW%2Fref%3Dsr_1_1_sspa%3Fcrid%3D289HIR879GPG9%26keywords%3Dgoogle%2Bpixel%26qid%3D1683279358%26sprefix%3Dgoogle%2Bpixel%252Caps%252C212%26sr%3D8-1-spons%26sp_csd%3Dd2lkZ2V0TmFtZT1zcF9hdGY%26psc%3D1'"
      ]
     },
     "execution_count": 17,
     "metadata": {},
     "output_type": "execute_result"
    }
   ],
   "source": [
    "product_list"
   ]
  },
  {
   "cell_type": "markdown",
   "id": "f0a4d75e",
   "metadata": {},
   "source": [
    "Again the same process is need to be repeated , we have to request to this page to get the html document and pass that page to html format "
   ]
  },
  {
   "cell_type": "code",
   "execution_count": 18,
   "id": "687ac78c",
   "metadata": {},
   "outputs": [],
   "source": [
    "new_webpage = requests.get(product_list, headers = HEADERS)"
   ]
  },
  {
   "cell_type": "code",
   "execution_count": 19,
   "id": "aeac1369",
   "metadata": {},
   "outputs": [
    {
     "data": {
      "text/plain": [
       "<Response [200]>"
      ]
     },
     "execution_count": 19,
     "metadata": {},
     "output_type": "execute_result"
    }
   ],
   "source": [
    "new_webpage"
   ]
  },
  {
   "cell_type": "code",
   "execution_count": 20,
   "id": "c0ffd5d5",
   "metadata": {},
   "outputs": [],
   "source": [
    "new_soup = BeautifulSoup(new_webpage.content,'html.parser')"
   ]
  },
  {
   "cell_type": "code",
   "execution_count": 21,
   "id": "4587e729",
   "metadata": {},
   "outputs": [],
   "source": [
    "new_soup"
   ]
  },
  {
   "cell_type": "markdown",
   "id": "d7caee0d",
   "metadata": {},
   "source": [
    "Entire HTML Code Extracted "
   ]
  },
  {
   "cell_type": "code",
   "execution_count": null,
   "id": "15d41218",
   "metadata": {},
   "outputs": [
    {
     "data": {
      "text/plain": [
       "<span class=\"a-size-medium product-title-word-break product-title-resize\" id=\"productTitle\">        OnePlus 11 5G (Eternal Green, 16GB RAM, 256GB Storage)       </span>"
      ]
     },
     "execution_count": 22,
     "metadata": {},
     "output_type": "execute_result"
    }
   ],
   "source": [
    "new_soup.find(\"span\",attrs = {\"id\" : 'productTitle' })"
   ]
  },
  {
   "cell_type": "markdown",
   "id": "7b7d8023",
   "metadata": {},
   "source": [
    "Extracting the text out of it "
   ]
  },
  {
   "cell_type": "code",
   "execution_count": null,
   "id": "48cc1a7d",
   "metadata": {},
   "outputs": [
    {
     "data": {
      "text/plain": [
       "'        OnePlus 11 5G (Eternal Green, 16GB RAM, 256GB Storage)       '"
      ]
     },
     "execution_count": 23,
     "metadata": {},
     "output_type": "execute_result"
    }
   ],
   "source": [
    "new_soup.find(\"span\",attrs = {\"id\" : 'productTitle' }).text"
   ]
  },
  {
   "cell_type": "markdown",
   "id": "366612f7",
   "metadata": {},
   "source": [
    "Removing the white spaces using strip function"
   ]
  },
  {
   "cell_type": "code",
   "execution_count": null,
   "id": "11121f7b",
   "metadata": {},
   "outputs": [
    {
     "data": {
      "text/plain": [
       "'OnePlus 11 5G (Eternal Green, 16GB RAM, 256GB Storage)'"
      ]
     },
     "execution_count": 24,
     "metadata": {},
     "output_type": "execute_result"
    }
   ],
   "source": [
    "new_soup.find(\"span\",attrs = {\"id\" : 'productTitle' }).text.strip()"
   ]
  },
  {
   "cell_type": "markdown",
   "id": "ef14c797",
   "metadata": {},
   "source": [
    "Extracting Price"
   ]
  },
  {
   "cell_type": "code",
   "execution_count": null,
   "id": "3879de18",
   "metadata": {},
   "outputs": [
    {
     "data": {
      "text/plain": [
       "<span class=\"a-price aok-align-center reinventPricePriceToPayMargin priceToPay\" data-a-color=\"base\" data-a-size=\"xl\"><span class=\"a-offscreen\">₹61,999</span><span aria-hidden=\"true\"><span class=\"a-price-symbol\">₹</span><span class=\"a-price-whole\">61,999</span></span></span>"
      ]
     },
     "execution_count": 25,
     "metadata": {},
     "output_type": "execute_result"
    }
   ],
   "source": [
    "new_soup.find(\"span\",attrs = {'class' : 'a-price aok-align-center reinventPricePriceToPayMargin priceToPay'})"
   ]
  },
  {
   "cell_type": "code",
   "execution_count": 26,
   "id": "9064fb3e",
   "metadata": {},
   "outputs": [
    {
     "data": {
      "text/plain": [
       "'61,999.'"
      ]
     },
     "execution_count": 26,
     "metadata": {},
     "output_type": "execute_result"
    }
   ],
   "source": [
    "new_soup.find(\"span\",attrs = {'class' : 'a-price-whole'}).text"
   ]
  },
  {
   "cell_type": "markdown",
   "id": "bb155b25",
   "metadata": {},
   "source": [
    "Rating "
   ]
  },
  {
   "cell_type": "code",
   "execution_count": 30,
   "id": "69835a4f",
   "metadata": {},
   "outputs": [
    {
     "data": {
      "text/plain": [
       "'4.3 out of 5 stars'"
      ]
     },
     "execution_count": 30,
     "metadata": {},
     "output_type": "execute_result"
    }
   ],
   "source": [
    "new_soup.find(\"span\",attrs = {'class' : 'a-icon-alt'}).text"
   ]
  },
  {
   "cell_type": "code",
   "execution_count": null,
   "id": "0d90a0ae",
   "metadata": {},
   "outputs": [],
   "source": []
  },
  {
   "cell_type": "code",
   "execution_count": 31,
   "id": "ee38a201",
   "metadata": {},
   "outputs": [],
   "source": [
    "# Function to extract Product Title\n",
    "def get_title(soup):\n",
    "\n",
    "    try:\n",
    "        # Outer Tag Object\n",
    "        title = soup.find(\"span\", attrs={\"id\":'productTitle'})\n",
    "        \n",
    "        # Inner NavigatableString Object\n",
    "        title_value = title.text\n",
    "\n",
    "        # Title as a string value\n",
    "        title_string = title_value.strip()\n",
    "\n",
    "    except AttributeError:\n",
    "        title_string = \"\"\n",
    "\n",
    "    return title_string\n",
    "\n",
    "# Function to extract Product Price\n",
    "def get_price(soup):\n",
    "\n",
    "    try:\n",
    "        price = soup.find(\"span\", attrs={'id':'priceblock_ourprice'}).string.strip()\n",
    "\n",
    "    except AttributeError:\n",
    "\n",
    "        try:\n",
    "            # If there is some deal price\n",
    "            price = soup.find(\"span\", attrs={'id':'priceblock_dealprice'}).string.strip()\n",
    "\n",
    "        except:\n",
    "            price = \"\"\n",
    "\n",
    "    return price\n",
    "\n",
    "# Function to extract Product Rating\n",
    "def get_rating(soup):\n",
    "\n",
    "    try:\n",
    "        rating = soup.find(\"i\", attrs={'class':'a-icon a-icon-star a-star-4-5'}).string.strip()\n",
    "    \n",
    "    except AttributeError:\n",
    "        try:\n",
    "            rating = soup.find(\"span\", attrs={'class':'a-icon-alt'}).string.strip()\n",
    "        except:\n",
    "            rating = \"\"\t\n",
    "\n",
    "    return rating\n",
    "\n",
    "# Function to extract Number of User Reviews\n",
    "def get_review_count(soup):\n",
    "    try:\n",
    "        review_count = soup.find(\"span\", attrs={'id':'acrCustomerReviewText'}).string.strip()\n",
    "\n",
    "    except AttributeError:\n",
    "        review_count = \"\"\t\n",
    "\n",
    "    return review_count\n",
    "\n",
    "# Function to extract Availability Status\n",
    "def get_availability(soup):\n",
    "    try:\n",
    "        available = soup.find(\"div\", attrs={'id':'availability'})\n",
    "        available = available.find(\"span\").string.strip()\n",
    "\n",
    "    except AttributeError:\n",
    "        available = \"Not Available\"\t\n",
    "\n",
    "    return available\n"
   ]
  },
  {
   "cell_type": "code",
   "execution_count": 32,
   "id": "4ac7e582",
   "metadata": {},
   "outputs": [],
   "source": [
    "if __name__ == '__main__':\n",
    "\n",
    "    # add your user agent \n",
    "    HEADERS = ({'User-Agent':'', 'Accept-Language': 'en-US, en;q=0.5'})\n",
    "\n",
    "    # The webpage URL\n",
    "    URL = \"https://www.amazon.in/s?k=google+pixel&crid=289HIR879GPG9&sprefix=google+pixel%2Caps%2C212&ref=nb_sb_noss_2\"\n",
    "\n",
    "    # HTTP Request\n",
    "    webpage = requests.get(URL, headers=HEADERS)\n",
    "\n",
    "    # Soup Object containing all data\n",
    "    soup = BeautifulSoup(webpage.content, \"html.parser\")\n",
    "\n",
    "    # Fetch links as List of Tag Objects\n",
    "    links = soup.find_all(\"a\", attrs={'class':'a-link-normal s-no-outline'})\n",
    "\n",
    "    # Store the links\n",
    "    links_list = []\n",
    "\n",
    "    # Loop for extracting links from Tag Objects\n",
    "    for link in links:\n",
    "            links_list.append(link.get('href'))\n",
    "\n",
    "    d = {\"title\":[], \"price\":[], \"rating\":[], \"reviews\":[],\"availability\":[]}\n",
    "    \n",
    "    # Loop for extracting product details from each link \n",
    "    for link in links_list:\n",
    "        new_webpage = requests.get(\"https://www.amazon.com\" + link, headers=HEADERS)\n",
    "\n",
    "        new_soup = BeautifulSoup(new_webpage.content, \"html.parser\")\n",
    "\n",
    "        # Function calls to display all necessary product information\n",
    "        d['title'].append(get_title(new_soup))\n",
    "        d['price'].append(get_price(new_soup))\n",
    "        d['rating'].append(get_rating(new_soup))\n",
    "        d['reviews'].append(get_review_count(new_soup))\n",
    "        d['availability'].append(get_availability(new_soup))\n",
    "\n",
    "    \n",
    "    amazon_df = pd.DataFrame.from_dict(d)\n",
    "    amazon_df['title'].replace('', np.nan, inplace=True)\n",
    "    amazon_df = amazon_df.dropna(subset=['title'])\n",
    "    amazon_df.to_csv(\"amazon_data.csv\", header=True, index=False)"
   ]
  },
  {
   "cell_type": "code",
   "execution_count": 33,
   "id": "e594b1a8",
   "metadata": {},
   "outputs": [
    {
     "data": {
      "text/html": [
       "<div>\n",
       "<style scoped>\n",
       "    .dataframe tbody tr th:only-of-type {\n",
       "        vertical-align: middle;\n",
       "    }\n",
       "\n",
       "    .dataframe tbody tr th {\n",
       "        vertical-align: top;\n",
       "    }\n",
       "\n",
       "    .dataframe thead th {\n",
       "        text-align: right;\n",
       "    }\n",
       "</style>\n",
       "<table border=\"1\" class=\"dataframe\">\n",
       "  <thead>\n",
       "    <tr style=\"text-align: right;\">\n",
       "      <th></th>\n",
       "      <th>title</th>\n",
       "      <th>price</th>\n",
       "      <th>rating</th>\n",
       "      <th>reviews</th>\n",
       "      <th>availability</th>\n",
       "    </tr>\n",
       "  </thead>\n",
       "  <tbody>\n",
       "    <tr>\n",
       "      <th>0</th>\n",
       "      <td>Google Pixel 6a - 5G Android Phone - Unlocked ...</td>\n",
       "      <td></td>\n",
       "      <td>4.3 out of 5 stars</td>\n",
       "      <td>3,933 ratings</td>\n",
       "      <td>Not Available</td>\n",
       "    </tr>\n",
       "    <tr>\n",
       "      <th>1</th>\n",
       "      <td>Google Pixel 6 Pro 5G 128GB 12GB RAM Factory U...</td>\n",
       "      <td></td>\n",
       "      <td>3.9 out of 5 stars</td>\n",
       "      <td>171 ratings</td>\n",
       "      <td></td>\n",
       "    </tr>\n",
       "    <tr>\n",
       "      <th>2</th>\n",
       "      <td>Google Pixel 7 5G 128GB 8GB RAM 24-Hour Batter...</td>\n",
       "      <td></td>\n",
       "      <td>4.0 out of 5 stars</td>\n",
       "      <td>107 ratings</td>\n",
       "      <td>Not Available</td>\n",
       "    </tr>\n",
       "    <tr>\n",
       "      <th>3</th>\n",
       "      <td>Google Pixel 6A 5G 128GB 6GB RAM Factory Unloc...</td>\n",
       "      <td></td>\n",
       "      <td>4.3 out of 5 stars</td>\n",
       "      <td>48 ratings</td>\n",
       "      <td>Not Available</td>\n",
       "    </tr>\n",
       "    <tr>\n",
       "      <th>4</th>\n",
       "      <td>Google Pixel 6 Pro 5G 512GB G8VOU Factory Unlo...</td>\n",
       "      <td></td>\n",
       "      <td>4.8 out of 5 stars</td>\n",
       "      <td>9 ratings</td>\n",
       "      <td>Not Available</td>\n",
       "    </tr>\n",
       "    <tr>\n",
       "      <th>5</th>\n",
       "      <td>Google Pixel 2 XL (64GB, 4GB) 6.0\" P-OLED, IP6...</td>\n",
       "      <td></td>\n",
       "      <td>4.3 out of 5 stars</td>\n",
       "      <td>183 ratings</td>\n",
       "      <td>Currently unavailable.</td>\n",
       "    </tr>\n",
       "    <tr>\n",
       "      <th>6</th>\n",
       "      <td>Google Pixel 7 Pro - 5G Android Phone - Unlock...</td>\n",
       "      <td></td>\n",
       "      <td>4.2 out of 5 stars</td>\n",
       "      <td>1,273 ratings</td>\n",
       "      <td></td>\n",
       "    </tr>\n",
       "    <tr>\n",
       "      <th>7</th>\n",
       "      <td>Google Pixel 7-5G Android Phone - Unlocked Sma...</td>\n",
       "      <td></td>\n",
       "      <td>4.2 out of 5 stars</td>\n",
       "      <td>117 ratings</td>\n",
       "      <td>Currently unavailable.</td>\n",
       "    </tr>\n",
       "    <tr>\n",
       "      <th>9</th>\n",
       "      <td>Google Pixel 7-5G Android Phone - Unlocked Sma...</td>\n",
       "      <td></td>\n",
       "      <td>4.2 out of 5 stars</td>\n",
       "      <td>112 ratings</td>\n",
       "      <td>Currently unavailable.</td>\n",
       "    </tr>\n",
       "    <tr>\n",
       "      <th>10</th>\n",
       "      <td>Google Pixel 7 Pro - 5G Android Phone - Unlock...</td>\n",
       "      <td></td>\n",
       "      <td>4.2 out of 5 stars</td>\n",
       "      <td>1,273 ratings</td>\n",
       "      <td></td>\n",
       "    </tr>\n",
       "    <tr>\n",
       "      <th>11</th>\n",
       "      <td>Google Pixel 4 G020M 128GB 5.7 inch Android (G...</td>\n",
       "      <td></td>\n",
       "      <td>4.2 out of 5 stars</td>\n",
       "      <td>26 ratings</td>\n",
       "      <td>Currently unavailable.</td>\n",
       "    </tr>\n",
       "    <tr>\n",
       "      <th>12</th>\n",
       "      <td>Google Pixel 6 Pro 5G UW 128GB Cloudy White Sm...</td>\n",
       "      <td></td>\n",
       "      <td>4.2 out of 5 stars</td>\n",
       "      <td>123 ratings</td>\n",
       "      <td>Currently unavailable.</td>\n",
       "    </tr>\n",
       "    <tr>\n",
       "      <th>14</th>\n",
       "      <td>Google Pixel 6a - 5G Android Phone - Unlocked ...</td>\n",
       "      <td></td>\n",
       "      <td>4.3 out of 5 stars</td>\n",
       "      <td>3,933 ratings</td>\n",
       "      <td>Not Available</td>\n",
       "    </tr>\n",
       "    <tr>\n",
       "      <th>15</th>\n",
       "      <td>Google Pixel 6 – 5G Android Phone - Unlocked S...</td>\n",
       "      <td></td>\n",
       "      <td>4.2 out of 5 stars</td>\n",
       "      <td>519 ratings</td>\n",
       "      <td>Not Available</td>\n",
       "    </tr>\n",
       "    <tr>\n",
       "      <th>17</th>\n",
       "      <td>Google Pixel 4 G020M 64GB 5.7 inch Android (GS...</td>\n",
       "      <td></td>\n",
       "      <td>4.6 out of 5 stars</td>\n",
       "      <td>3 ratings</td>\n",
       "      <td>Currently unavailable.</td>\n",
       "    </tr>\n",
       "    <tr>\n",
       "      <th>18</th>\n",
       "      <td>Google Pixel 7 5G 128GB 8GB RAM 24-Hour Batter...</td>\n",
       "      <td></td>\n",
       "      <td>3.8 out of 5 stars</td>\n",
       "      <td>83 ratings</td>\n",
       "      <td>Currently unavailable.</td>\n",
       "    </tr>\n",
       "    <tr>\n",
       "      <th>19</th>\n",
       "      <td>Google Pixel 4a - Unlocked Android Smartphone ...</td>\n",
       "      <td></td>\n",
       "      <td>4.5 out of 5 stars</td>\n",
       "      <td>10,417 ratings</td>\n",
       "      <td>Not Available</td>\n",
       "    </tr>\n",
       "    <tr>\n",
       "      <th>20</th>\n",
       "      <td>Google Pixel 6A 5G 128GB 6GB RAM Factory Unloc...</td>\n",
       "      <td></td>\n",
       "      <td>4.3 out of 5 stars</td>\n",
       "      <td>48 ratings</td>\n",
       "      <td>Not Available</td>\n",
       "    </tr>\n",
       "    <tr>\n",
       "      <th>22</th>\n",
       "      <td>Google Pixel 2 XL (64GB, 4GB) 6.0\" P-OLED, IP6...</td>\n",
       "      <td></td>\n",
       "      <td>4.3 out of 5 stars</td>\n",
       "      <td>183 ratings</td>\n",
       "      <td>Currently unavailable.</td>\n",
       "    </tr>\n",
       "    <tr>\n",
       "      <th>23</th>\n",
       "      <td>Google Pixel 6 – 5G Android Phone - Unlocked S...</td>\n",
       "      <td></td>\n",
       "      <td>4.3 out of 5 stars</td>\n",
       "      <td>1,231 ratings</td>\n",
       "      <td>Not Available</td>\n",
       "    </tr>\n",
       "    <tr>\n",
       "      <th>28</th>\n",
       "      <td>Google Pixel 7 5G 128GB 8GB RAM 24-Hour Batter...</td>\n",
       "      <td></td>\n",
       "      <td>Previous page of related Sponsored Products</td>\n",
       "      <td></td>\n",
       "      <td>Currently unavailable.</td>\n",
       "    </tr>\n",
       "  </tbody>\n",
       "</table>\n",
       "</div>"
      ],
      "text/plain": [
       "                                                title price  \\\n",
       "0   Google Pixel 6a - 5G Android Phone - Unlocked ...         \n",
       "1   Google Pixel 6 Pro 5G 128GB 12GB RAM Factory U...         \n",
       "2   Google Pixel 7 5G 128GB 8GB RAM 24-Hour Batter...         \n",
       "3   Google Pixel 6A 5G 128GB 6GB RAM Factory Unloc...         \n",
       "4   Google Pixel 6 Pro 5G 512GB G8VOU Factory Unlo...         \n",
       "5   Google Pixel 2 XL (64GB, 4GB) 6.0\" P-OLED, IP6...         \n",
       "6   Google Pixel 7 Pro - 5G Android Phone - Unlock...         \n",
       "7   Google Pixel 7-5G Android Phone - Unlocked Sma...         \n",
       "9   Google Pixel 7-5G Android Phone - Unlocked Sma...         \n",
       "10  Google Pixel 7 Pro - 5G Android Phone - Unlock...         \n",
       "11  Google Pixel 4 G020M 128GB 5.7 inch Android (G...         \n",
       "12  Google Pixel 6 Pro 5G UW 128GB Cloudy White Sm...         \n",
       "14  Google Pixel 6a - 5G Android Phone - Unlocked ...         \n",
       "15  Google Pixel 6 – 5G Android Phone - Unlocked S...         \n",
       "17  Google Pixel 4 G020M 64GB 5.7 inch Android (GS...         \n",
       "18  Google Pixel 7 5G 128GB 8GB RAM 24-Hour Batter...         \n",
       "19  Google Pixel 4a - Unlocked Android Smartphone ...         \n",
       "20  Google Pixel 6A 5G 128GB 6GB RAM Factory Unloc...         \n",
       "22  Google Pixel 2 XL (64GB, 4GB) 6.0\" P-OLED, IP6...         \n",
       "23  Google Pixel 6 – 5G Android Phone - Unlocked S...         \n",
       "28  Google Pixel 7 5G 128GB 8GB RAM 24-Hour Batter...         \n",
       "\n",
       "                                         rating         reviews  \\\n",
       "0                            4.3 out of 5 stars   3,933 ratings   \n",
       "1                            3.9 out of 5 stars     171 ratings   \n",
       "2                            4.0 out of 5 stars     107 ratings   \n",
       "3                            4.3 out of 5 stars      48 ratings   \n",
       "4                            4.8 out of 5 stars       9 ratings   \n",
       "5                            4.3 out of 5 stars     183 ratings   \n",
       "6                            4.2 out of 5 stars   1,273 ratings   \n",
       "7                            4.2 out of 5 stars     117 ratings   \n",
       "9                            4.2 out of 5 stars     112 ratings   \n",
       "10                           4.2 out of 5 stars   1,273 ratings   \n",
       "11                           4.2 out of 5 stars      26 ratings   \n",
       "12                           4.2 out of 5 stars     123 ratings   \n",
       "14                           4.3 out of 5 stars   3,933 ratings   \n",
       "15                           4.2 out of 5 stars     519 ratings   \n",
       "17                           4.6 out of 5 stars       3 ratings   \n",
       "18                           3.8 out of 5 stars      83 ratings   \n",
       "19                           4.5 out of 5 stars  10,417 ratings   \n",
       "20                           4.3 out of 5 stars      48 ratings   \n",
       "22                           4.3 out of 5 stars     183 ratings   \n",
       "23                           4.3 out of 5 stars   1,231 ratings   \n",
       "28  Previous page of related Sponsored Products                   \n",
       "\n",
       "              availability  \n",
       "0            Not Available  \n",
       "1                           \n",
       "2            Not Available  \n",
       "3            Not Available  \n",
       "4            Not Available  \n",
       "5   Currently unavailable.  \n",
       "6                           \n",
       "7   Currently unavailable.  \n",
       "9   Currently unavailable.  \n",
       "10                          \n",
       "11  Currently unavailable.  \n",
       "12  Currently unavailable.  \n",
       "14           Not Available  \n",
       "15           Not Available  \n",
       "17  Currently unavailable.  \n",
       "18  Currently unavailable.  \n",
       "19           Not Available  \n",
       "20           Not Available  \n",
       "22  Currently unavailable.  \n",
       "23           Not Available  \n",
       "28  Currently unavailable.  "
      ]
     },
     "execution_count": 33,
     "metadata": {},
     "output_type": "execute_result"
    }
   ],
   "source": [
    "amazon_df"
   ]
  },
  {
   "cell_type": "code",
   "execution_count": null,
   "id": "7eadb607",
   "metadata": {},
   "outputs": [],
   "source": []
  }
 ],
 "metadata": {
  "kernelspec": {
   "display_name": "Python 3 (ipykernel)",
   "language": "python",
   "name": "python3"
  },
  "language_info": {
   "codemirror_mode": {
    "name": "ipython",
    "version": 3
   },
   "file_extension": ".py",
   "mimetype": "text/x-python",
   "name": "python",
   "nbconvert_exporter": "python",
   "pygments_lexer": "ipython3",
   "version": "3.9.13"
  }
 },
 "nbformat": 4,
 "nbformat_minor": 5
}
